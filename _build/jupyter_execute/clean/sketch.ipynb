{
 "cells": [
  {
   "cell_type": "markdown",
   "id": "d2f76492",
   "metadata": {},
   "source": [
    "## dataframes: import libraries"
   ]
  },
  {
   "cell_type": "code",
   "execution_count": 1,
   "id": "f47a5596",
   "metadata": {},
   "outputs": [
    {
     "ename": "HTTPError",
     "evalue": "HTTP Error 404: Not Found",
     "output_type": "error",
     "traceback": [
      "\u001b[0;31m---------------------------------------------------------------------------\u001b[0m",
      "\u001b[0;31mHTTPError\u001b[0m                                 Traceback (most recent call last)",
      "Cell \u001b[0;32mIn[1], line 8\u001b[0m\n\u001b[1;32m      3\u001b[0m \u001b[38;5;28;01mimport\u001b[39;00m \u001b[38;5;21;01mcsv\u001b[39;00m \u001b[38;5;66;03m# also for working with tabular data, in csv format\u001b[39;00m\n\u001b[1;32m      5\u001b[0m \u001b[38;5;66;03m# saving the search results from congress.gov \u001b[39;00m\n\u001b[1;32m      6\u001b[0m \u001b[38;5;66;03m# if this code doesn't work, download the csv from \u001b[39;00m\n\u001b[1;32m      7\u001b[0m \u001b[38;5;66;03m# https://bit.ly/congress_csv\u001b[39;00m\n\u001b[0;32m----> 8\u001b[0m bills \u001b[38;5;241m=\u001b[39m pd\u001b[38;5;241m.\u001b[39mread_csv(\u001b[38;5;124m'\u001b[39m\u001b[38;5;124mhttps://bit.ly/congress_dirty_csv\u001b[39m\u001b[38;5;124m'\u001b[39m)\n\u001b[1;32m     10\u001b[0m \u001b[38;5;66;03m# creating a \"dataframe\" in pandas (a python library for working\u001b[39;00m\n\u001b[1;32m     11\u001b[0m \u001b[38;5;66;03m# with spreadsheet like data\u001b[39;00m\n\u001b[1;32m     12\u001b[0m df \u001b[38;5;241m=\u001b[39m pd\u001b[38;5;241m.\u001b[39mDataFrame(bills)\n",
      "File \u001b[0;32m/opt/anaconda3/lib/python3.11/site-packages/pandas/io/parsers/readers.py:948\u001b[0m, in \u001b[0;36mread_csv\u001b[0;34m(filepath_or_buffer, sep, delimiter, header, names, index_col, usecols, dtype, engine, converters, true_values, false_values, skipinitialspace, skiprows, skipfooter, nrows, na_values, keep_default_na, na_filter, verbose, skip_blank_lines, parse_dates, infer_datetime_format, keep_date_col, date_parser, date_format, dayfirst, cache_dates, iterator, chunksize, compression, thousands, decimal, lineterminator, quotechar, quoting, doublequote, escapechar, comment, encoding, encoding_errors, dialect, on_bad_lines, delim_whitespace, low_memory, memory_map, float_precision, storage_options, dtype_backend)\u001b[0m\n\u001b[1;32m    935\u001b[0m kwds_defaults \u001b[38;5;241m=\u001b[39m _refine_defaults_read(\n\u001b[1;32m    936\u001b[0m     dialect,\n\u001b[1;32m    937\u001b[0m     delimiter,\n\u001b[0;32m   (...)\u001b[0m\n\u001b[1;32m    944\u001b[0m     dtype_backend\u001b[38;5;241m=\u001b[39mdtype_backend,\n\u001b[1;32m    945\u001b[0m )\n\u001b[1;32m    946\u001b[0m kwds\u001b[38;5;241m.\u001b[39mupdate(kwds_defaults)\n\u001b[0;32m--> 948\u001b[0m \u001b[38;5;28;01mreturn\u001b[39;00m _read(filepath_or_buffer, kwds)\n",
      "File \u001b[0;32m/opt/anaconda3/lib/python3.11/site-packages/pandas/io/parsers/readers.py:611\u001b[0m, in \u001b[0;36m_read\u001b[0;34m(filepath_or_buffer, kwds)\u001b[0m\n\u001b[1;32m    608\u001b[0m _validate_names(kwds\u001b[38;5;241m.\u001b[39mget(\u001b[38;5;124m\"\u001b[39m\u001b[38;5;124mnames\u001b[39m\u001b[38;5;124m\"\u001b[39m, \u001b[38;5;28;01mNone\u001b[39;00m))\n\u001b[1;32m    610\u001b[0m \u001b[38;5;66;03m# Create the parser.\u001b[39;00m\n\u001b[0;32m--> 611\u001b[0m parser \u001b[38;5;241m=\u001b[39m TextFileReader(filepath_or_buffer, \u001b[38;5;241m*\u001b[39m\u001b[38;5;241m*\u001b[39mkwds)\n\u001b[1;32m    613\u001b[0m \u001b[38;5;28;01mif\u001b[39;00m chunksize \u001b[38;5;129;01mor\u001b[39;00m iterator:\n\u001b[1;32m    614\u001b[0m     \u001b[38;5;28;01mreturn\u001b[39;00m parser\n",
      "File \u001b[0;32m/opt/anaconda3/lib/python3.11/site-packages/pandas/io/parsers/readers.py:1448\u001b[0m, in \u001b[0;36mTextFileReader.__init__\u001b[0;34m(self, f, engine, **kwds)\u001b[0m\n\u001b[1;32m   1445\u001b[0m     \u001b[38;5;28mself\u001b[39m\u001b[38;5;241m.\u001b[39moptions[\u001b[38;5;124m\"\u001b[39m\u001b[38;5;124mhas_index_names\u001b[39m\u001b[38;5;124m\"\u001b[39m] \u001b[38;5;241m=\u001b[39m kwds[\u001b[38;5;124m\"\u001b[39m\u001b[38;5;124mhas_index_names\u001b[39m\u001b[38;5;124m\"\u001b[39m]\n\u001b[1;32m   1447\u001b[0m \u001b[38;5;28mself\u001b[39m\u001b[38;5;241m.\u001b[39mhandles: IOHandles \u001b[38;5;241m|\u001b[39m \u001b[38;5;28;01mNone\u001b[39;00m \u001b[38;5;241m=\u001b[39m \u001b[38;5;28;01mNone\u001b[39;00m\n\u001b[0;32m-> 1448\u001b[0m \u001b[38;5;28mself\u001b[39m\u001b[38;5;241m.\u001b[39m_engine \u001b[38;5;241m=\u001b[39m \u001b[38;5;28mself\u001b[39m\u001b[38;5;241m.\u001b[39m_make_engine(f, \u001b[38;5;28mself\u001b[39m\u001b[38;5;241m.\u001b[39mengine)\n",
      "File \u001b[0;32m/opt/anaconda3/lib/python3.11/site-packages/pandas/io/parsers/readers.py:1705\u001b[0m, in \u001b[0;36mTextFileReader._make_engine\u001b[0;34m(self, f, engine)\u001b[0m\n\u001b[1;32m   1703\u001b[0m     \u001b[38;5;28;01mif\u001b[39;00m \u001b[38;5;124m\"\u001b[39m\u001b[38;5;124mb\u001b[39m\u001b[38;5;124m\"\u001b[39m \u001b[38;5;129;01mnot\u001b[39;00m \u001b[38;5;129;01min\u001b[39;00m mode:\n\u001b[1;32m   1704\u001b[0m         mode \u001b[38;5;241m+\u001b[39m\u001b[38;5;241m=\u001b[39m \u001b[38;5;124m\"\u001b[39m\u001b[38;5;124mb\u001b[39m\u001b[38;5;124m\"\u001b[39m\n\u001b[0;32m-> 1705\u001b[0m \u001b[38;5;28mself\u001b[39m\u001b[38;5;241m.\u001b[39mhandles \u001b[38;5;241m=\u001b[39m get_handle(\n\u001b[1;32m   1706\u001b[0m     f,\n\u001b[1;32m   1707\u001b[0m     mode,\n\u001b[1;32m   1708\u001b[0m     encoding\u001b[38;5;241m=\u001b[39m\u001b[38;5;28mself\u001b[39m\u001b[38;5;241m.\u001b[39moptions\u001b[38;5;241m.\u001b[39mget(\u001b[38;5;124m\"\u001b[39m\u001b[38;5;124mencoding\u001b[39m\u001b[38;5;124m\"\u001b[39m, \u001b[38;5;28;01mNone\u001b[39;00m),\n\u001b[1;32m   1709\u001b[0m     compression\u001b[38;5;241m=\u001b[39m\u001b[38;5;28mself\u001b[39m\u001b[38;5;241m.\u001b[39moptions\u001b[38;5;241m.\u001b[39mget(\u001b[38;5;124m\"\u001b[39m\u001b[38;5;124mcompression\u001b[39m\u001b[38;5;124m\"\u001b[39m, \u001b[38;5;28;01mNone\u001b[39;00m),\n\u001b[1;32m   1710\u001b[0m     memory_map\u001b[38;5;241m=\u001b[39m\u001b[38;5;28mself\u001b[39m\u001b[38;5;241m.\u001b[39moptions\u001b[38;5;241m.\u001b[39mget(\u001b[38;5;124m\"\u001b[39m\u001b[38;5;124mmemory_map\u001b[39m\u001b[38;5;124m\"\u001b[39m, \u001b[38;5;28;01mFalse\u001b[39;00m),\n\u001b[1;32m   1711\u001b[0m     is_text\u001b[38;5;241m=\u001b[39mis_text,\n\u001b[1;32m   1712\u001b[0m     errors\u001b[38;5;241m=\u001b[39m\u001b[38;5;28mself\u001b[39m\u001b[38;5;241m.\u001b[39moptions\u001b[38;5;241m.\u001b[39mget(\u001b[38;5;124m\"\u001b[39m\u001b[38;5;124mencoding_errors\u001b[39m\u001b[38;5;124m\"\u001b[39m, \u001b[38;5;124m\"\u001b[39m\u001b[38;5;124mstrict\u001b[39m\u001b[38;5;124m\"\u001b[39m),\n\u001b[1;32m   1713\u001b[0m     storage_options\u001b[38;5;241m=\u001b[39m\u001b[38;5;28mself\u001b[39m\u001b[38;5;241m.\u001b[39moptions\u001b[38;5;241m.\u001b[39mget(\u001b[38;5;124m\"\u001b[39m\u001b[38;5;124mstorage_options\u001b[39m\u001b[38;5;124m\"\u001b[39m, \u001b[38;5;28;01mNone\u001b[39;00m),\n\u001b[1;32m   1714\u001b[0m )\n\u001b[1;32m   1715\u001b[0m \u001b[38;5;28;01massert\u001b[39;00m \u001b[38;5;28mself\u001b[39m\u001b[38;5;241m.\u001b[39mhandles \u001b[38;5;129;01mis\u001b[39;00m \u001b[38;5;129;01mnot\u001b[39;00m \u001b[38;5;28;01mNone\u001b[39;00m\n\u001b[1;32m   1716\u001b[0m f \u001b[38;5;241m=\u001b[39m \u001b[38;5;28mself\u001b[39m\u001b[38;5;241m.\u001b[39mhandles\u001b[38;5;241m.\u001b[39mhandle\n",
      "File \u001b[0;32m/opt/anaconda3/lib/python3.11/site-packages/pandas/io/common.py:718\u001b[0m, in \u001b[0;36mget_handle\u001b[0;34m(path_or_buf, mode, encoding, compression, memory_map, is_text, errors, storage_options)\u001b[0m\n\u001b[1;32m    715\u001b[0m     codecs\u001b[38;5;241m.\u001b[39mlookup_error(errors)\n\u001b[1;32m    717\u001b[0m \u001b[38;5;66;03m# open URLs\u001b[39;00m\n\u001b[0;32m--> 718\u001b[0m ioargs \u001b[38;5;241m=\u001b[39m _get_filepath_or_buffer(\n\u001b[1;32m    719\u001b[0m     path_or_buf,\n\u001b[1;32m    720\u001b[0m     encoding\u001b[38;5;241m=\u001b[39mencoding,\n\u001b[1;32m    721\u001b[0m     compression\u001b[38;5;241m=\u001b[39mcompression,\n\u001b[1;32m    722\u001b[0m     mode\u001b[38;5;241m=\u001b[39mmode,\n\u001b[1;32m    723\u001b[0m     storage_options\u001b[38;5;241m=\u001b[39mstorage_options,\n\u001b[1;32m    724\u001b[0m )\n\u001b[1;32m    726\u001b[0m handle \u001b[38;5;241m=\u001b[39m ioargs\u001b[38;5;241m.\u001b[39mfilepath_or_buffer\n\u001b[1;32m    727\u001b[0m handles: \u001b[38;5;28mlist\u001b[39m[BaseBuffer]\n",
      "File \u001b[0;32m/opt/anaconda3/lib/python3.11/site-packages/pandas/io/common.py:372\u001b[0m, in \u001b[0;36m_get_filepath_or_buffer\u001b[0;34m(filepath_or_buffer, encoding, compression, mode, storage_options)\u001b[0m\n\u001b[1;32m    370\u001b[0m \u001b[38;5;66;03m# assuming storage_options is to be interpreted as headers\u001b[39;00m\n\u001b[1;32m    371\u001b[0m req_info \u001b[38;5;241m=\u001b[39m urllib\u001b[38;5;241m.\u001b[39mrequest\u001b[38;5;241m.\u001b[39mRequest(filepath_or_buffer, headers\u001b[38;5;241m=\u001b[39mstorage_options)\n\u001b[0;32m--> 372\u001b[0m \u001b[38;5;28;01mwith\u001b[39;00m urlopen(req_info) \u001b[38;5;28;01mas\u001b[39;00m req:\n\u001b[1;32m    373\u001b[0m     content_encoding \u001b[38;5;241m=\u001b[39m req\u001b[38;5;241m.\u001b[39mheaders\u001b[38;5;241m.\u001b[39mget(\u001b[38;5;124m\"\u001b[39m\u001b[38;5;124mContent-Encoding\u001b[39m\u001b[38;5;124m\"\u001b[39m, \u001b[38;5;28;01mNone\u001b[39;00m)\n\u001b[1;32m    374\u001b[0m     \u001b[38;5;28;01mif\u001b[39;00m content_encoding \u001b[38;5;241m==\u001b[39m \u001b[38;5;124m\"\u001b[39m\u001b[38;5;124mgzip\u001b[39m\u001b[38;5;124m\"\u001b[39m:\n\u001b[1;32m    375\u001b[0m         \u001b[38;5;66;03m# Override compression based on Content-Encoding header\u001b[39;00m\n",
      "File \u001b[0;32m/opt/anaconda3/lib/python3.11/site-packages/pandas/io/common.py:274\u001b[0m, in \u001b[0;36murlopen\u001b[0;34m(*args, **kwargs)\u001b[0m\n\u001b[1;32m    268\u001b[0m \u001b[38;5;250m\u001b[39m\u001b[38;5;124;03m\"\"\"\u001b[39;00m\n\u001b[1;32m    269\u001b[0m \u001b[38;5;124;03mLazy-import wrapper for stdlib urlopen, as that imports a big chunk of\u001b[39;00m\n\u001b[1;32m    270\u001b[0m \u001b[38;5;124;03mthe stdlib.\u001b[39;00m\n\u001b[1;32m    271\u001b[0m \u001b[38;5;124;03m\"\"\"\u001b[39;00m\n\u001b[1;32m    272\u001b[0m \u001b[38;5;28;01mimport\u001b[39;00m \u001b[38;5;21;01murllib\u001b[39;00m\u001b[38;5;21;01m.\u001b[39;00m\u001b[38;5;21;01mrequest\u001b[39;00m\n\u001b[0;32m--> 274\u001b[0m \u001b[38;5;28;01mreturn\u001b[39;00m urllib\u001b[38;5;241m.\u001b[39mrequest\u001b[38;5;241m.\u001b[39murlopen(\u001b[38;5;241m*\u001b[39margs, \u001b[38;5;241m*\u001b[39m\u001b[38;5;241m*\u001b[39mkwargs)\n",
      "File \u001b[0;32m/opt/anaconda3/lib/python3.11/urllib/request.py:216\u001b[0m, in \u001b[0;36murlopen\u001b[0;34m(url, data, timeout, cafile, capath, cadefault, context)\u001b[0m\n\u001b[1;32m    214\u001b[0m \u001b[38;5;28;01melse\u001b[39;00m:\n\u001b[1;32m    215\u001b[0m     opener \u001b[38;5;241m=\u001b[39m _opener\n\u001b[0;32m--> 216\u001b[0m \u001b[38;5;28;01mreturn\u001b[39;00m opener\u001b[38;5;241m.\u001b[39mopen(url, data, timeout)\n",
      "File \u001b[0;32m/opt/anaconda3/lib/python3.11/urllib/request.py:525\u001b[0m, in \u001b[0;36mOpenerDirector.open\u001b[0;34m(self, fullurl, data, timeout)\u001b[0m\n\u001b[1;32m    523\u001b[0m \u001b[38;5;28;01mfor\u001b[39;00m processor \u001b[38;5;129;01min\u001b[39;00m \u001b[38;5;28mself\u001b[39m\u001b[38;5;241m.\u001b[39mprocess_response\u001b[38;5;241m.\u001b[39mget(protocol, []):\n\u001b[1;32m    524\u001b[0m     meth \u001b[38;5;241m=\u001b[39m \u001b[38;5;28mgetattr\u001b[39m(processor, meth_name)\n\u001b[0;32m--> 525\u001b[0m     response \u001b[38;5;241m=\u001b[39m meth(req, response)\n\u001b[1;32m    527\u001b[0m \u001b[38;5;28;01mreturn\u001b[39;00m response\n",
      "File \u001b[0;32m/opt/anaconda3/lib/python3.11/urllib/request.py:634\u001b[0m, in \u001b[0;36mHTTPErrorProcessor.http_response\u001b[0;34m(self, request, response)\u001b[0m\n\u001b[1;32m    631\u001b[0m \u001b[38;5;66;03m# According to RFC 2616, \"2xx\" code indicates that the client's\u001b[39;00m\n\u001b[1;32m    632\u001b[0m \u001b[38;5;66;03m# request was successfully received, understood, and accepted.\u001b[39;00m\n\u001b[1;32m    633\u001b[0m \u001b[38;5;28;01mif\u001b[39;00m \u001b[38;5;129;01mnot\u001b[39;00m (\u001b[38;5;241m200\u001b[39m \u001b[38;5;241m<\u001b[39m\u001b[38;5;241m=\u001b[39m code \u001b[38;5;241m<\u001b[39m \u001b[38;5;241m300\u001b[39m):\n\u001b[0;32m--> 634\u001b[0m     response \u001b[38;5;241m=\u001b[39m \u001b[38;5;28mself\u001b[39m\u001b[38;5;241m.\u001b[39mparent\u001b[38;5;241m.\u001b[39merror(\n\u001b[1;32m    635\u001b[0m         \u001b[38;5;124m'\u001b[39m\u001b[38;5;124mhttp\u001b[39m\u001b[38;5;124m'\u001b[39m, request, response, code, msg, hdrs)\n\u001b[1;32m    637\u001b[0m \u001b[38;5;28;01mreturn\u001b[39;00m response\n",
      "File \u001b[0;32m/opt/anaconda3/lib/python3.11/urllib/request.py:557\u001b[0m, in \u001b[0;36mOpenerDirector.error\u001b[0;34m(self, proto, *args)\u001b[0m\n\u001b[1;32m    555\u001b[0m     http_err \u001b[38;5;241m=\u001b[39m \u001b[38;5;241m0\u001b[39m\n\u001b[1;32m    556\u001b[0m args \u001b[38;5;241m=\u001b[39m (\u001b[38;5;28mdict\u001b[39m, proto, meth_name) \u001b[38;5;241m+\u001b[39m args\n\u001b[0;32m--> 557\u001b[0m result \u001b[38;5;241m=\u001b[39m \u001b[38;5;28mself\u001b[39m\u001b[38;5;241m.\u001b[39m_call_chain(\u001b[38;5;241m*\u001b[39margs)\n\u001b[1;32m    558\u001b[0m \u001b[38;5;28;01mif\u001b[39;00m result:\n\u001b[1;32m    559\u001b[0m     \u001b[38;5;28;01mreturn\u001b[39;00m result\n",
      "File \u001b[0;32m/opt/anaconda3/lib/python3.11/urllib/request.py:496\u001b[0m, in \u001b[0;36mOpenerDirector._call_chain\u001b[0;34m(self, chain, kind, meth_name, *args)\u001b[0m\n\u001b[1;32m    494\u001b[0m \u001b[38;5;28;01mfor\u001b[39;00m handler \u001b[38;5;129;01min\u001b[39;00m handlers:\n\u001b[1;32m    495\u001b[0m     func \u001b[38;5;241m=\u001b[39m \u001b[38;5;28mgetattr\u001b[39m(handler, meth_name)\n\u001b[0;32m--> 496\u001b[0m     result \u001b[38;5;241m=\u001b[39m func(\u001b[38;5;241m*\u001b[39margs)\n\u001b[1;32m    497\u001b[0m     \u001b[38;5;28;01mif\u001b[39;00m result \u001b[38;5;129;01mis\u001b[39;00m \u001b[38;5;129;01mnot\u001b[39;00m \u001b[38;5;28;01mNone\u001b[39;00m:\n\u001b[1;32m    498\u001b[0m         \u001b[38;5;28;01mreturn\u001b[39;00m result\n",
      "File \u001b[0;32m/opt/anaconda3/lib/python3.11/urllib/request.py:749\u001b[0m, in \u001b[0;36mHTTPRedirectHandler.http_error_302\u001b[0;34m(self, req, fp, code, msg, headers)\u001b[0m\n\u001b[1;32m    746\u001b[0m fp\u001b[38;5;241m.\u001b[39mread()\n\u001b[1;32m    747\u001b[0m fp\u001b[38;5;241m.\u001b[39mclose()\n\u001b[0;32m--> 749\u001b[0m \u001b[38;5;28;01mreturn\u001b[39;00m \u001b[38;5;28mself\u001b[39m\u001b[38;5;241m.\u001b[39mparent\u001b[38;5;241m.\u001b[39mopen(new, timeout\u001b[38;5;241m=\u001b[39mreq\u001b[38;5;241m.\u001b[39mtimeout)\n",
      "File \u001b[0;32m/opt/anaconda3/lib/python3.11/urllib/request.py:525\u001b[0m, in \u001b[0;36mOpenerDirector.open\u001b[0;34m(self, fullurl, data, timeout)\u001b[0m\n\u001b[1;32m    523\u001b[0m \u001b[38;5;28;01mfor\u001b[39;00m processor \u001b[38;5;129;01min\u001b[39;00m \u001b[38;5;28mself\u001b[39m\u001b[38;5;241m.\u001b[39mprocess_response\u001b[38;5;241m.\u001b[39mget(protocol, []):\n\u001b[1;32m    524\u001b[0m     meth \u001b[38;5;241m=\u001b[39m \u001b[38;5;28mgetattr\u001b[39m(processor, meth_name)\n\u001b[0;32m--> 525\u001b[0m     response \u001b[38;5;241m=\u001b[39m meth(req, response)\n\u001b[1;32m    527\u001b[0m \u001b[38;5;28;01mreturn\u001b[39;00m response\n",
      "File \u001b[0;32m/opt/anaconda3/lib/python3.11/urllib/request.py:634\u001b[0m, in \u001b[0;36mHTTPErrorProcessor.http_response\u001b[0;34m(self, request, response)\u001b[0m\n\u001b[1;32m    631\u001b[0m \u001b[38;5;66;03m# According to RFC 2616, \"2xx\" code indicates that the client's\u001b[39;00m\n\u001b[1;32m    632\u001b[0m \u001b[38;5;66;03m# request was successfully received, understood, and accepted.\u001b[39;00m\n\u001b[1;32m    633\u001b[0m \u001b[38;5;28;01mif\u001b[39;00m \u001b[38;5;129;01mnot\u001b[39;00m (\u001b[38;5;241m200\u001b[39m \u001b[38;5;241m<\u001b[39m\u001b[38;5;241m=\u001b[39m code \u001b[38;5;241m<\u001b[39m \u001b[38;5;241m300\u001b[39m):\n\u001b[0;32m--> 634\u001b[0m     response \u001b[38;5;241m=\u001b[39m \u001b[38;5;28mself\u001b[39m\u001b[38;5;241m.\u001b[39mparent\u001b[38;5;241m.\u001b[39merror(\n\u001b[1;32m    635\u001b[0m         \u001b[38;5;124m'\u001b[39m\u001b[38;5;124mhttp\u001b[39m\u001b[38;5;124m'\u001b[39m, request, response, code, msg, hdrs)\n\u001b[1;32m    637\u001b[0m \u001b[38;5;28;01mreturn\u001b[39;00m response\n",
      "File \u001b[0;32m/opt/anaconda3/lib/python3.11/urllib/request.py:563\u001b[0m, in \u001b[0;36mOpenerDirector.error\u001b[0;34m(self, proto, *args)\u001b[0m\n\u001b[1;32m    561\u001b[0m \u001b[38;5;28;01mif\u001b[39;00m http_err:\n\u001b[1;32m    562\u001b[0m     args \u001b[38;5;241m=\u001b[39m (\u001b[38;5;28mdict\u001b[39m, \u001b[38;5;124m'\u001b[39m\u001b[38;5;124mdefault\u001b[39m\u001b[38;5;124m'\u001b[39m, \u001b[38;5;124m'\u001b[39m\u001b[38;5;124mhttp_error_default\u001b[39m\u001b[38;5;124m'\u001b[39m) \u001b[38;5;241m+\u001b[39m orig_args\n\u001b[0;32m--> 563\u001b[0m     \u001b[38;5;28;01mreturn\u001b[39;00m \u001b[38;5;28mself\u001b[39m\u001b[38;5;241m.\u001b[39m_call_chain(\u001b[38;5;241m*\u001b[39margs)\n",
      "File \u001b[0;32m/opt/anaconda3/lib/python3.11/urllib/request.py:496\u001b[0m, in \u001b[0;36mOpenerDirector._call_chain\u001b[0;34m(self, chain, kind, meth_name, *args)\u001b[0m\n\u001b[1;32m    494\u001b[0m \u001b[38;5;28;01mfor\u001b[39;00m handler \u001b[38;5;129;01min\u001b[39;00m handlers:\n\u001b[1;32m    495\u001b[0m     func \u001b[38;5;241m=\u001b[39m \u001b[38;5;28mgetattr\u001b[39m(handler, meth_name)\n\u001b[0;32m--> 496\u001b[0m     result \u001b[38;5;241m=\u001b[39m func(\u001b[38;5;241m*\u001b[39margs)\n\u001b[1;32m    497\u001b[0m     \u001b[38;5;28;01mif\u001b[39;00m result \u001b[38;5;129;01mis\u001b[39;00m \u001b[38;5;129;01mnot\u001b[39;00m \u001b[38;5;28;01mNone\u001b[39;00m:\n\u001b[1;32m    498\u001b[0m         \u001b[38;5;28;01mreturn\u001b[39;00m result\n",
      "File \u001b[0;32m/opt/anaconda3/lib/python3.11/urllib/request.py:643\u001b[0m, in \u001b[0;36mHTTPDefaultErrorHandler.http_error_default\u001b[0;34m(self, req, fp, code, msg, hdrs)\u001b[0m\n\u001b[1;32m    642\u001b[0m \u001b[38;5;28;01mdef\u001b[39;00m \u001b[38;5;21mhttp_error_default\u001b[39m(\u001b[38;5;28mself\u001b[39m, req, fp, code, msg, hdrs):\n\u001b[0;32m--> 643\u001b[0m     \u001b[38;5;28;01mraise\u001b[39;00m HTTPError(req\u001b[38;5;241m.\u001b[39mfull_url, code, msg, hdrs, fp)\n",
      "\u001b[0;31mHTTPError\u001b[0m: HTTP Error 404: Not Found"
     ]
    }
   ],
   "source": [
    "import requests # for making http (web) requests\n",
    "import pandas as pd # for working with tabular (spreadsheet) data\n",
    "import csv # also for working with tabular data, in csv format\n",
    "\n",
    "# saving the search results from congress.gov \n",
    "# if this code doesn't work, download the csv from \n",
    "# https://bit.ly/congress_csv\n",
    "bills = pd.read_csv('https://bit.ly/congress_dirty_csv')\n",
    "\n",
    "# creating a \"dataframe\" in pandas (a python library for working\n",
    "# with spreadsheet like data\n",
    "df = pd.DataFrame(bills)"
   ]
  },
  {
   "cell_type": "code",
   "execution_count": 54,
   "id": "9fa26538",
   "metadata": {},
   "outputs": [],
   "source": [
    "sdf = df.drop_duplicates(subset=['Legislation Number'], keep='first')"
   ]
  },
  {
   "cell_type": "code",
   "execution_count": 55,
   "id": "5ca6a688",
   "metadata": {},
   "outputs": [
    {
     "data": {
      "text/html": [
       "<div>\n",
       "<style scoped>\n",
       "    .dataframe tbody tr th:only-of-type {\n",
       "        vertical-align: middle;\n",
       "    }\n",
       "\n",
       "    .dataframe tbody tr th {\n",
       "        vertical-align: top;\n",
       "    }\n",
       "\n",
       "    .dataframe thead th {\n",
       "        text-align: right;\n",
       "    }\n",
       "</style>\n",
       "<table border=\"1\" class=\"dataframe\">\n",
       "  <thead>\n",
       "    <tr style=\"text-align: right;\">\n",
       "      <th></th>\n",
       "      <th>Legislation Number</th>\n",
       "      <th>URL</th>\n",
       "      <th>Congress</th>\n",
       "      <th>Title</th>\n",
       "      <th>Sponsor</th>\n",
       "      <th>Party of Sponsor</th>\n",
       "      <th>Date of Introduction</th>\n",
       "      <th>Committees</th>\n",
       "      <th>Latest Action</th>\n",
       "      <th>Latest Action Date</th>\n",
       "      <th>...</th>\n",
       "      <th>Related Bill.211</th>\n",
       "      <th>Related Bill.212</th>\n",
       "      <th>Related Bill.213</th>\n",
       "      <th>Latest Summary</th>\n",
       "      <th>Amends Bill</th>\n",
       "      <th>Date Offered</th>\n",
       "      <th>Date Submitted</th>\n",
       "      <th>Date Proposed</th>\n",
       "      <th>Amendment Text (Latest)</th>\n",
       "      <th>Amends Amendment</th>\n",
       "    </tr>\n",
       "  </thead>\n",
       "  <tbody>\n",
       "    <tr>\n",
       "      <th>0</th>\n",
       "      <td>H.R. 1112</td>\n",
       "      <td>https://www.congress.gov/bill/118th-congress/h...</td>\n",
       "      <td>118th Congress (2023-2024)</td>\n",
       "      <td>Ensuring Military Readiness Act of 2023</td>\n",
       "      <td>Banks, Jim [Rep.-R-IN-3]</td>\n",
       "      <td>Republican</td>\n",
       "      <td>2/21/23</td>\n",
       "      <td>House - Armed Services</td>\n",
       "      <td>Referred to the House Committee on Armed Servi...</td>\n",
       "      <td>2/21/23</td>\n",
       "      <td>...</td>\n",
       "      <td>NaN</td>\n",
       "      <td>NaN</td>\n",
       "      <td>NaN</td>\n",
       "      <td>&lt;p&gt;&lt;b&gt;Ensuring Military Readiness Act of 2023...</td>\n",
       "      <td>NaN</td>\n",
       "      <td>NaN</td>\n",
       "      <td>NaN</td>\n",
       "      <td>NaN</td>\n",
       "      <td>NaN</td>\n",
       "      <td>NaN</td>\n",
       "    </tr>\n",
       "    <tr>\n",
       "      <th>1</th>\n",
       "      <td>S. 435</td>\n",
       "      <td>https://www.congress.gov/bill/118th-congress/s...</td>\n",
       "      <td>118th Congress (2023-2024)</td>\n",
       "      <td>Ensuring Military Readiness Act of 2023</td>\n",
       "      <td>Rubio, Marco [Sen.-R-FL]</td>\n",
       "      <td>Republican</td>\n",
       "      <td>2/15/23</td>\n",
       "      <td>Senate - Armed Services</td>\n",
       "      <td>Read twice and referred to the Committee on Ar...</td>\n",
       "      <td>2/15/23</td>\n",
       "      <td>...</td>\n",
       "      <td>NaN</td>\n",
       "      <td>NaN</td>\n",
       "      <td>NaN</td>\n",
       "      <td>&lt;p&gt;&lt;b&gt;Ensuring Military Readiness Act of 2023...</td>\n",
       "      <td>NaN</td>\n",
       "      <td>NaN</td>\n",
       "      <td>NaN</td>\n",
       "      <td>NaN</td>\n",
       "      <td>NaN</td>\n",
       "      <td>NaN</td>\n",
       "    </tr>\n",
       "    <tr>\n",
       "      <th>2</th>\n",
       "      <td>H.Res. 886</td>\n",
       "      <td>https://www.congress.gov/bill/118th-congress/h...</td>\n",
       "      <td>118th Congress (2023-2024)</td>\n",
       "      <td>Supporting the goals and principles of Transge...</td>\n",
       "      <td>Jayapal, Pramila [Rep.-D-WA-7]</td>\n",
       "      <td>Democratic</td>\n",
       "      <td>11/21/23</td>\n",
       "      <td>House - Judiciary</td>\n",
       "      <td>Referred to the House Committee on the Judiciary.</td>\n",
       "      <td>11/21/23</td>\n",
       "      <td>...</td>\n",
       "      <td>NaN</td>\n",
       "      <td>NaN</td>\n",
       "      <td>NaN</td>\n",
       "      <td>&lt;p&gt;This resolution expresses support for the ...</td>\n",
       "      <td>NaN</td>\n",
       "      <td>NaN</td>\n",
       "      <td>NaN</td>\n",
       "      <td>NaN</td>\n",
       "      <td>NaN</td>\n",
       "      <td>NaN</td>\n",
       "    </tr>\n",
       "    <tr>\n",
       "      <th>3</th>\n",
       "      <td>S.Res. 464</td>\n",
       "      <td>https://www.congress.gov/bill/118th-congress/s...</td>\n",
       "      <td>118th Congress (2023-2024)</td>\n",
       "      <td>A resolution supporting the goals and principl...</td>\n",
       "      <td>Hirono, Mazie K. [Sen.-D-HI]</td>\n",
       "      <td>Democratic</td>\n",
       "      <td>11/15/23</td>\n",
       "      <td>Senate - Judiciary</td>\n",
       "      <td>Star Print ordered on resolution.</td>\n",
       "      <td>12/4/23</td>\n",
       "      <td>...</td>\n",
       "      <td>NaN</td>\n",
       "      <td>NaN</td>\n",
       "      <td>NaN</td>\n",
       "      <td>&lt;p&gt;This resolution expresses support for the ...</td>\n",
       "      <td>NaN</td>\n",
       "      <td>NaN</td>\n",
       "      <td>NaN</td>\n",
       "      <td>NaN</td>\n",
       "      <td>NaN</td>\n",
       "      <td>NaN</td>\n",
       "    </tr>\n",
       "    <tr>\n",
       "      <th>4</th>\n",
       "      <td>H.Res. 269</td>\n",
       "      <td>https://www.congress.gov/bill/118th-congress/h...</td>\n",
       "      <td>118th Congress (2023-2024)</td>\n",
       "      <td>Recognizing that it is the duty of the Federal...</td>\n",
       "      <td>Jayapal, Pramila [Rep.-D-WA-7]</td>\n",
       "      <td>Democratic</td>\n",
       "      <td>3/30/23</td>\n",
       "      <td>House - Judiciary, Education and the Workforce...</td>\n",
       "      <td>Sponsor introductory remarks on measure. (CR H...</td>\n",
       "      <td>4/19/23</td>\n",
       "      <td>...</td>\n",
       "      <td>NaN</td>\n",
       "      <td>NaN</td>\n",
       "      <td>NaN</td>\n",
       "      <td>&lt;p&gt;This resolution expresses support for impl...</td>\n",
       "      <td>NaN</td>\n",
       "      <td>NaN</td>\n",
       "      <td>NaN</td>\n",
       "      <td>NaN</td>\n",
       "      <td>NaN</td>\n",
       "      <td>NaN</td>\n",
       "    </tr>\n",
       "    <tr>\n",
       "      <th>...</th>\n",
       "      <td>...</td>\n",
       "      <td>...</td>\n",
       "      <td>...</td>\n",
       "      <td>...</td>\n",
       "      <td>...</td>\n",
       "      <td>...</td>\n",
       "      <td>...</td>\n",
       "      <td>...</td>\n",
       "      <td>...</td>\n",
       "      <td>...</td>\n",
       "      <td>...</td>\n",
       "      <td>...</td>\n",
       "      <td>...</td>\n",
       "      <td>...</td>\n",
       "      <td>...</td>\n",
       "      <td>...</td>\n",
       "      <td>...</td>\n",
       "      <td>...</td>\n",
       "      <td>...</td>\n",
       "      <td>...</td>\n",
       "      <td>...</td>\n",
       "    </tr>\n",
       "    <tr>\n",
       "      <th>260</th>\n",
       "      <td>H.Amdt. 195</td>\n",
       "      <td>https://www.congress.gov/amendment/118th-congr...</td>\n",
       "      <td>118th Congress (2023-2024)</td>\n",
       "      <td>An amendment numbered 6 printed in Part A of H...</td>\n",
       "      <td>Good, Bob [Rep.-R-VA-5]</td>\n",
       "      <td>Republican</td>\n",
       "      <td>NaN</td>\n",
       "      <td>NaN</td>\n",
       "      <td>On agreeing to the Good (VA) amendment (A006) ...</td>\n",
       "      <td>6/14/23</td>\n",
       "      <td>...</td>\n",
       "      <td>NaN</td>\n",
       "      <td>NaN</td>\n",
       "      <td>NaN</td>\n",
       "      <td>NaN</td>\n",
       "      <td>H.R. 277</td>\n",
       "      <td>6/14/23</td>\n",
       "      <td>NaN</td>\n",
       "      <td>NaN</td>\n",
       "      <td>[Pages H2902-H2916]\\nFrom the Congressional Re...</td>\n",
       "      <td>NaN</td>\n",
       "    </tr>\n",
       "    <tr>\n",
       "      <th>264</th>\n",
       "      <td>H.Amdt. 193</td>\n",
       "      <td>https://www.congress.gov/amendment/118th-congr...</td>\n",
       "      <td>118th Congress (2023-2024)</td>\n",
       "      <td>An amendment numbered 4 printed in Part A of H...</td>\n",
       "      <td>Biggs, Andy [Rep.-R-AZ-5]</td>\n",
       "      <td>Republican</td>\n",
       "      <td>NaN</td>\n",
       "      <td>NaN</td>\n",
       "      <td>On agreeing to the Biggs amendment (A004) Fail...</td>\n",
       "      <td>6/14/23</td>\n",
       "      <td>...</td>\n",
       "      <td>NaN</td>\n",
       "      <td>NaN</td>\n",
       "      <td>NaN</td>\n",
       "      <td>NaN</td>\n",
       "      <td>H.R. 277</td>\n",
       "      <td>6/14/23</td>\n",
       "      <td>NaN</td>\n",
       "      <td>NaN</td>\n",
       "      <td>[Pages H2902-H2916]\\nFrom the Congressional Re...</td>\n",
       "      <td>NaN</td>\n",
       "    </tr>\n",
       "    <tr>\n",
       "      <th>268</th>\n",
       "      <td>H.Amdt. 256</td>\n",
       "      <td>https://www.congress.gov/amendment/118th-congr...</td>\n",
       "      <td>118th Congress (2023-2024)</td>\n",
       "      <td>An amendment numbered 66 printed in House Repo...</td>\n",
       "      <td>Davidson, Warren [Rep.-R-OH-8]</td>\n",
       "      <td>Republican</td>\n",
       "      <td>NaN</td>\n",
       "      <td>NaN</td>\n",
       "      <td>On agreeing to the Davidson amendment (A041) A...</td>\n",
       "      <td>7/14/23</td>\n",
       "      <td>...</td>\n",
       "      <td>NaN</td>\n",
       "      <td>NaN</td>\n",
       "      <td>NaN</td>\n",
       "      <td>NaN</td>\n",
       "      <td>H.R. 2670</td>\n",
       "      <td>7/14/23</td>\n",
       "      <td>NaN</td>\n",
       "      <td>NaN</td>\n",
       "      <td>[Pages H3581-H3600]\\nFrom the Congressional Re...</td>\n",
       "      <td>NaN</td>\n",
       "    </tr>\n",
       "    <tr>\n",
       "      <th>274</th>\n",
       "      <td>H.Amdt. 257</td>\n",
       "      <td>https://www.congress.gov/amendment/118th-congr...</td>\n",
       "      <td>118th Congress (2023-2024)</td>\n",
       "      <td>An amendment comprised of the following amendm...</td>\n",
       "      <td>Rogers, Mike D. [Rep.-R-AL-3]</td>\n",
       "      <td>Republican</td>\n",
       "      <td>NaN</td>\n",
       "      <td>NaN</td>\n",
       "      <td>On agreeing to the Rogers (AL) amendments (A04...</td>\n",
       "      <td>7/14/23</td>\n",
       "      <td>...</td>\n",
       "      <td>NaN</td>\n",
       "      <td>NaN</td>\n",
       "      <td>NaN</td>\n",
       "      <td>NaN</td>\n",
       "      <td>H.R. 2670</td>\n",
       "      <td>7/14/23</td>\n",
       "      <td>NaN</td>\n",
       "      <td>NaN</td>\n",
       "      <td>[Pages H3581-H3600]\\nFrom the Congressional Re...</td>\n",
       "      <td>NaN</td>\n",
       "    </tr>\n",
       "    <tr>\n",
       "      <th>280</th>\n",
       "      <td>H.Amdt. 255</td>\n",
       "      <td>https://www.congress.gov/amendment/118th-congr...</td>\n",
       "      <td>118th Congress (2023-2024)</td>\n",
       "      <td>An amendment numbered 64 printed in House Repo...</td>\n",
       "      <td>Roy, Chip [Rep.-R-TX-21]</td>\n",
       "      <td>Republican</td>\n",
       "      <td>NaN</td>\n",
       "      <td>NaN</td>\n",
       "      <td>On agreeing to the Roy amendment (A040) Agreed...</td>\n",
       "      <td>7/14/23</td>\n",
       "      <td>...</td>\n",
       "      <td>NaN</td>\n",
       "      <td>NaN</td>\n",
       "      <td>NaN</td>\n",
       "      <td>NaN</td>\n",
       "      <td>H.R. 2670</td>\n",
       "      <td>7/14/23</td>\n",
       "      <td>NaN</td>\n",
       "      <td>NaN</td>\n",
       "      <td>[Pages H3581-H3600]\\nFrom the Congressional Re...</td>\n",
       "      <td>NaN</td>\n",
       "    </tr>\n",
       "  </tbody>\n",
       "</table>\n",
       "<p>149 rows × 650 columns</p>\n",
       "</div>"
      ],
      "text/plain": [
       "    Legislation Number                                                URL  \\\n",
       "0            H.R. 1112  https://www.congress.gov/bill/118th-congress/h...   \n",
       "1               S. 435  https://www.congress.gov/bill/118th-congress/s...   \n",
       "2           H.Res. 886  https://www.congress.gov/bill/118th-congress/h...   \n",
       "3           S.Res. 464  https://www.congress.gov/bill/118th-congress/s...   \n",
       "4           H.Res. 269  https://www.congress.gov/bill/118th-congress/h...   \n",
       "..                 ...                                                ...   \n",
       "260        H.Amdt. 195  https://www.congress.gov/amendment/118th-congr...   \n",
       "264        H.Amdt. 193  https://www.congress.gov/amendment/118th-congr...   \n",
       "268        H.Amdt. 256  https://www.congress.gov/amendment/118th-congr...   \n",
       "274        H.Amdt. 257  https://www.congress.gov/amendment/118th-congr...   \n",
       "280        H.Amdt. 255  https://www.congress.gov/amendment/118th-congr...   \n",
       "\n",
       "                       Congress  \\\n",
       "0    118th Congress (2023-2024)   \n",
       "1    118th Congress (2023-2024)   \n",
       "2    118th Congress (2023-2024)   \n",
       "3    118th Congress (2023-2024)   \n",
       "4    118th Congress (2023-2024)   \n",
       "..                          ...   \n",
       "260  118th Congress (2023-2024)   \n",
       "264  118th Congress (2023-2024)   \n",
       "268  118th Congress (2023-2024)   \n",
       "274  118th Congress (2023-2024)   \n",
       "280  118th Congress (2023-2024)   \n",
       "\n",
       "                                                 Title  \\\n",
       "0              Ensuring Military Readiness Act of 2023   \n",
       "1              Ensuring Military Readiness Act of 2023   \n",
       "2    Supporting the goals and principles of Transge...   \n",
       "3    A resolution supporting the goals and principl...   \n",
       "4    Recognizing that it is the duty of the Federal...   \n",
       "..                                                 ...   \n",
       "260  An amendment numbered 6 printed in Part A of H...   \n",
       "264  An amendment numbered 4 printed in Part A of H...   \n",
       "268  An amendment numbered 66 printed in House Repo...   \n",
       "274  An amendment comprised of the following amendm...   \n",
       "280  An amendment numbered 64 printed in House Repo...   \n",
       "\n",
       "                            Sponsor Party of Sponsor Date of Introduction  \\\n",
       "0          Banks, Jim [Rep.-R-IN-3]       Republican              2/21/23   \n",
       "1          Rubio, Marco [Sen.-R-FL]       Republican              2/15/23   \n",
       "2    Jayapal, Pramila [Rep.-D-WA-7]       Democratic             11/21/23   \n",
       "3      Hirono, Mazie K. [Sen.-D-HI]       Democratic             11/15/23   \n",
       "4    Jayapal, Pramila [Rep.-D-WA-7]       Democratic              3/30/23   \n",
       "..                              ...              ...                  ...   \n",
       "260         Good, Bob [Rep.-R-VA-5]       Republican                  NaN   \n",
       "264       Biggs, Andy [Rep.-R-AZ-5]       Republican                  NaN   \n",
       "268  Davidson, Warren [Rep.-R-OH-8]       Republican                  NaN   \n",
       "274   Rogers, Mike D. [Rep.-R-AL-3]       Republican                  NaN   \n",
       "280        Roy, Chip [Rep.-R-TX-21]       Republican                  NaN   \n",
       "\n",
       "                                            Committees  \\\n",
       "0                               House - Armed Services   \n",
       "1                              Senate - Armed Services   \n",
       "2                                    House - Judiciary   \n",
       "3                                   Senate - Judiciary   \n",
       "4    House - Judiciary, Education and the Workforce...   \n",
       "..                                                 ...   \n",
       "260                                                NaN   \n",
       "264                                                NaN   \n",
       "268                                                NaN   \n",
       "274                                                NaN   \n",
       "280                                                NaN   \n",
       "\n",
       "                                         Latest Action Latest Action Date  \\\n",
       "0    Referred to the House Committee on Armed Servi...            2/21/23   \n",
       "1    Read twice and referred to the Committee on Ar...            2/15/23   \n",
       "2    Referred to the House Committee on the Judiciary.           11/21/23   \n",
       "3                    Star Print ordered on resolution.            12/4/23   \n",
       "4    Sponsor introductory remarks on measure. (CR H...            4/19/23   \n",
       "..                                                 ...                ...   \n",
       "260  On agreeing to the Good (VA) amendment (A006) ...            6/14/23   \n",
       "264  On agreeing to the Biggs amendment (A004) Fail...            6/14/23   \n",
       "268  On agreeing to the Davidson amendment (A041) A...            7/14/23   \n",
       "274  On agreeing to the Rogers (AL) amendments (A04...            7/14/23   \n",
       "280  On agreeing to the Roy amendment (A040) Agreed...            7/14/23   \n",
       "\n",
       "     ... Related Bill.211 Related Bill.212 Related Bill.213  \\\n",
       "0    ...              NaN              NaN              NaN   \n",
       "1    ...              NaN              NaN              NaN   \n",
       "2    ...              NaN              NaN              NaN   \n",
       "3    ...              NaN              NaN              NaN   \n",
       "4    ...              NaN              NaN              NaN   \n",
       "..   ...              ...              ...              ...   \n",
       "260  ...              NaN              NaN              NaN   \n",
       "264  ...              NaN              NaN              NaN   \n",
       "268  ...              NaN              NaN              NaN   \n",
       "274  ...              NaN              NaN              NaN   \n",
       "280  ...              NaN              NaN              NaN   \n",
       "\n",
       "                                        Latest Summary Amends Bill  \\\n",
       "0     <p><b>Ensuring Military Readiness Act of 2023...         NaN   \n",
       "1     <p><b>Ensuring Military Readiness Act of 2023...         NaN   \n",
       "2     <p>This resolution expresses support for the ...         NaN   \n",
       "3     <p>This resolution expresses support for the ...         NaN   \n",
       "4     <p>This resolution expresses support for impl...         NaN   \n",
       "..                                                 ...         ...   \n",
       "260                                                NaN    H.R. 277   \n",
       "264                                                NaN    H.R. 277   \n",
       "268                                                NaN   H.R. 2670   \n",
       "274                                                NaN   H.R. 2670   \n",
       "280                                                NaN   H.R. 2670   \n",
       "\n",
       "    Date Offered Date Submitted Date Proposed  \\\n",
       "0            NaN            NaN           NaN   \n",
       "1            NaN            NaN           NaN   \n",
       "2            NaN            NaN           NaN   \n",
       "3            NaN            NaN           NaN   \n",
       "4            NaN            NaN           NaN   \n",
       "..           ...            ...           ...   \n",
       "260      6/14/23            NaN           NaN   \n",
       "264      6/14/23            NaN           NaN   \n",
       "268      7/14/23            NaN           NaN   \n",
       "274      7/14/23            NaN           NaN   \n",
       "280      7/14/23            NaN           NaN   \n",
       "\n",
       "                               Amendment Text (Latest) Amends Amendment  \n",
       "0                                                  NaN              NaN  \n",
       "1                                                  NaN              NaN  \n",
       "2                                                  NaN              NaN  \n",
       "3                                                  NaN              NaN  \n",
       "4                                                  NaN              NaN  \n",
       "..                                                 ...              ...  \n",
       "260  [Pages H2902-H2916]\\nFrom the Congressional Re...              NaN  \n",
       "264  [Pages H2902-H2916]\\nFrom the Congressional Re...              NaN  \n",
       "268  [Pages H3581-H3600]\\nFrom the Congressional Re...              NaN  \n",
       "274  [Pages H3581-H3600]\\nFrom the Congressional Re...              NaN  \n",
       "280  [Pages H3581-H3600]\\nFrom the Congressional Re...              NaN  \n",
       "\n",
       "[149 rows x 650 columns]"
      ]
     },
     "execution_count": 55,
     "metadata": {},
     "output_type": "execute_result"
    }
   ],
   "source": [
    "df"
   ]
  },
  {
   "cell_type": "code",
   "execution_count": 7,
   "id": "745aae08",
   "metadata": {},
   "outputs": [],
   "source": [
    "titles = df['Title']"
   ]
  },
  {
   "cell_type": "code",
   "execution_count": 8,
   "id": "c332a937",
   "metadata": {},
   "outputs": [
    {
     "data": {
      "text/plain": [
       "0               Ensuring Military Readiness Act of 2023\n",
       "1               Ensuring Military Readiness Act of 2023\n",
       "2     Supporting the goals and principles of Transge...\n",
       "3     A resolution supporting the goals and principl...\n",
       "4     Recognizing that it is the duty of the Federal...\n",
       "5     A resolution recognizing that it is the duty o...\n",
       "6                                                   NaN\n",
       "7     Chyna Gibson Stop the Transgender Murder Epide...\n",
       "8     Supporting the goals and ideals of Internation...\n",
       "9     A resolution supporting the goals and ideals o...\n",
       "10    Armed Forces Transgender Dependent Protection Act\n",
       "11              Ensuring Military Readiness Act of 2023\n",
       "12                      My Child, My Choice Act of 2023\n",
       "13                   Pride In Mental Health Act of 2023\n",
       "14     Original LGBTQIA+ Pride Month Resolution of 2023\n",
       "15    A resolution recognizing June 2023 as \"LGBTQ P...\n",
       "16    Supporting the goals and ideals of the Interna...\n",
       "17                             Patriotism Not Pride Act\n",
       "18    An amendment numbered 10 printed in House Repo...\n",
       "19                                                  NaN\n",
       "Name: Title, dtype: object"
      ]
     },
     "execution_count": 8,
     "metadata": {},
     "output_type": "execute_result"
    }
   ],
   "source": [
    "titles[:20]"
   ]
  },
  {
   "cell_type": "code",
   "execution_count": 17,
   "id": "5ce5d09d",
   "metadata": {},
   "outputs": [],
   "source": [
    "gender_in_title = []\n",
    "for item in df['Title']:\n",
    "    item = str(item)\n",
    "    if 'gender' or 'child' in item.lower():\n",
    "        gender_in_title.append(item.lower())"
   ]
  },
  {
   "cell_type": "code",
   "execution_count": 18,
   "id": "846b4d6a",
   "metadata": {},
   "outputs": [
    {
     "data": {
      "text/plain": [
       "149"
      ]
     },
     "execution_count": 18,
     "metadata": {},
     "output_type": "execute_result"
    }
   ],
   "source": [
    "len(gender_in_title)"
   ]
  },
  {
   "cell_type": "code",
   "execution_count": 19,
   "id": "8cfc8327",
   "metadata": {},
   "outputs": [
    {
     "data": {
      "text/plain": [
       "['ensuring military readiness act of 2023',\n",
       " 'ensuring military readiness act of 2023',\n",
       " 'supporting the goals and principles of transgender day of remembrance by recognizing the epidemic of violence toward transgender people and memorializing the lives lost this year.',\n",
       " 'a resolution supporting the goals and principles of transgender day of remembrance by recognizing the epidemic of violence toward transgender people and memorializing the lives lost this year.',\n",
       " 'recognizing that it is the duty of the federal government to develop and implement a transgender bill of rights to protect and codify the rights of transgender and nonbinary people under the law and ensure their access to medical care, shelter, safety, and economic security.',\n",
       " 'a resolution recognizing that it is the duty of the federal government to develop and implement a transgender bill of rights to protect and codify the rights of transgender and nonbinary people under the law and ensure their access to medical care, shelter, safety, and economic safety.',\n",
       " 'nan',\n",
       " 'chyna gibson stop the transgender murder epidemic act of 2023',\n",
       " 'supporting the goals and ideals of international transgender day of visibility.',\n",
       " 'a resolution supporting the goals and ideals of international transgender day of visibility.']"
      ]
     },
     "execution_count": 19,
     "metadata": {},
     "output_type": "execute_result"
    }
   ],
   "source": [
    "gender_in_title[:10]"
   ]
  },
  {
   "cell_type": "markdown",
   "id": "744d0e04",
   "metadata": {},
   "source": [
    "## START SCRAPE SECTION HERE\n",
    "have to grab the csv and make a df again from previous section"
   ]
  },
  {
   "cell_type": "code",
   "execution_count": 21,
   "id": "3801e887",
   "metadata": {},
   "outputs": [],
   "source": [
    "## go through each row in numbers column of our spreadsheet\n",
    "## extract the number and put into a separate list\n",
    "numbers = []\n",
    "for row in df['Legislation Number']:\n",
    "    row = str(row)\n",
    "    splitted = row.split(' ')\n",
    "    for item in splitted:\n",
    "        if item.isnumeric():\n",
    "            numbers.append(item)"
   ]
  },
  {
   "cell_type": "code",
   "execution_count": 22,
   "id": "81f107fa",
   "metadata": {},
   "outputs": [
    {
     "data": {
      "text/plain": [
       "['1112',\n",
       " '435',\n",
       " '886',\n",
       " '464',\n",
       " '269',\n",
       " '144',\n",
       " '902',\n",
       " '4960',\n",
       " '32',\n",
       " '154',\n",
       " '5196',\n",
       " '1064',\n",
       " '216',\n",
       " '3850',\n",
       " '568',\n",
       " '282',\n",
       " '418',\n",
       " '4398',\n",
       " '223',\n",
       " '1960']"
      ]
     },
     "execution_count": 22,
     "metadata": {},
     "output_type": "execute_result"
    }
   ],
   "source": [
    "numbers[:20]"
   ]
  },
  {
   "cell_type": "code",
   "execution_count": 23,
   "id": "9bc00ce5",
   "metadata": {},
   "outputs": [
    {
     "data": {
      "text/plain": [
       "147"
      ]
     },
     "execution_count": 23,
     "metadata": {},
     "output_type": "execute_result"
    }
   ],
   "source": [
    "len(numbers)"
   ]
  },
  {
   "cell_type": "code",
   "execution_count": 24,
   "id": "847abc45",
   "metadata": {},
   "outputs": [],
   "source": [
    "# function that contains a loop to insert bill numbers\n",
    "# into the URL, then to grab the content and add to a new list\n",
    "def scrape_bill_text(numbers):\n",
    "    bills_text = []\n",
    "    for item in numbers:\n",
    "        # make sure to put the right congress session\n",
    "        url = (f'https://www.congress.gov/117/bills/hr{item}/BILLS-117hr{item}ih.htm')\n",
    "        response = requests.get(url)\n",
    "        content = response.content\n",
    "        bills_text.append(content)\n",
    "    return bills_text"
   ]
  },
  {
   "cell_type": "code",
   "execution_count": 8,
   "id": "c67c3341",
   "metadata": {},
   "outputs": [],
   "source": [
    "# if HTML tags and data persists in the results, run this function instead to scrape\n",
    "# the bill text. It uses BS4 to get just the text. \n",
    "\n",
    "# from bs4 import BeautifulSoup\n",
    "\n",
    "# def scrape_just_text(numbers):\n",
    "#     bills_text = []\n",
    "#     for item in numbers:\n",
    "#         page = requests.get(f'https://www.congress.gov/118/bills/hr{item}/BILLS-118hr{item}ih.htm')\n",
    "#         source = page.content\n",
    "#         soup = BeautifulSoup(source, 'lxml')\n",
    "#         stuff = soup.get_text(strip=True)\n",
    "#         bills_text.append(stuff)\n",
    "#     return bills_text"
   ]
  },
  {
   "cell_type": "code",
   "execution_count": 25,
   "id": "4c8944b5",
   "metadata": {},
   "outputs": [],
   "source": [
    "# call the relevant function, passing the list of numbers as parameter\n",
    "# the first time, just scrape 10 to see what the results look like\n",
    "\n",
    "# full_text = scrape_just_text(numbers)\n",
    "full_text = scrape_bill_text(numbers[:10])"
   ]
  },
  {
   "cell_type": "code",
   "execution_count": 26,
   "id": "9512507a",
   "metadata": {},
   "outputs": [
    {
     "data": {
      "text/plain": [
       "b\"<html><body><pre>\\n[Congressional Bills 117th Congress]\\n[From the U.S. Government Publishing Office]\\n[H.R. 1112 Introduced in House (IH)]\\n\\n&lt;DOC&gt;\\n\\n\\n\\n\\n\\n\\n117th CONGRESS\\n  1st Session\\n                                H. R. 1112\\n\\n   To require a report on the military coup in Burma, and for other \\n                               purposes.\\n\\n\\n_______________________________________________________________________\\n\\n\\n                    IN THE HOUSE OF REPRESENTATIVES\\n\\n                           February 18, 2021\\n\\n    Mr. Connolly (for himself, Mr. Price of North Carolina, and Mr. \\n  Buchanan) introduced the following bill; which was referred to the \\n                      Committee on Foreign Affairs\\n\\n_______________________________________________________________________\\n\\n                                 A BILL\\n\\n\\n \\n   To require a report on the military coup in Burma, and for other \\n                               purposes.\\n\\n    Be it enacted by the Senate and House of Representatives of the \\nUnited States of America in Congress assembled,\\n\\nSECTION 1. SHORT TITLE.\\n\\n    This Act may be cited as the ``Protect Democracy in Burma Act of \\n2021''.\\n\\nSEC. 2. FINDINGS.\\n\\n    Congress finds the following:\\n            (1) On March 14, 2005, the House of Representatives agreed \\n        to H. Res. 135, which established the House Democracy \\n        Assistance Commission (later changed to the House Democracy \\n        Partnership, hereafter referred to as ``HDP'') to work directly \\n        with parliaments around the world to support the development of \\n        effective, independent, and responsive legislative \\n        institutions.\\n            (2) HDP approved a legislative strengthening partnership \\n        with Burma in 2016 and organized the first congressional \\n        delegation to meet with the new civilian-led government, led by \\n        State Counselor Aung San Suu Kyi, and civil society leaders in \\n        May 2016.\\n            (3) On February 2, 2021, the U.S. Department of State \\n        assessed that Daw Aung San Suu Kyi, the leader of Burma's \\n        ruling party, and President Win Myint, the duly elected head of \\n        government, were deposed in a military coup on February 1, \\n        2021.\\n            (4) As part of the military coup, the Burmese military \\n        declared martial law, suspended the civilian-led government, \\n        and detained newly elected Members of Parliament in the \\n        capitol, Naypyidaw, thereby usurping the role of the \\n        democratically elected government and parliament.\\n\\nSEC. 3. SENSE OF CONGRESS.\\n\\n    It is the sense of Congress that--\\n            (1) due to the Burmese military's seizure of government \\n        through the detention of State Counsellor Aung San Suu Kyi, \\n        President Win Myint, and other government leaders, Burma is not \\n        represented by a democratically elected government;\\n            (2) the inability of newly elected Members of Parliament to \\n        begin their official mandate due to the Burmese military's \\n        actions directly threatens the democratic trajectory of Burma's \\n        Parliament, and thereby the country;\\n            (3) the will and determination of those duly-elected \\n        Members of Parliament who are taking it upon themselves to \\n        continue serving as representatives of the people through \\n        alternative methods of communicating and convening should be \\n        lauded; and\\n            (4) by preventing the Parliament from completing its work, \\n        the Burmese military has rendered impossible and effectively \\n        nullified the international collaborative relationships that \\n        have supported and strengthened the institution, including the \\n        Burmese parliament's partnership with HDP.\\n\\nSEC. 4. STATEMENT OF POLICY.\\n\\n    It is the policy of the United States to--\\n            (1) engage with the Association of Southeast Asian Nations \\n        (ASEAN) and ASEAN member states to--\\n                    (A) condemn the military coup in Burma;\\n                    (B) urge the unconditional release of detained \\n                democratically elected leaders and civil society \\n                members; and\\n                    (C) support a return to Burma's democratic \\n                transition; and\\n            (2) instruct, as appropriate, representatives of the United \\n        States Government to use the voice, vote, and influence of the \\n        United States at the United Nations to hold accountable those \\n        responsible for the military coup in Burma.\\n\\nSEC. 5. REPORT.\\n\\n    Not later than 90 days after the date of the enactment of this Act, \\nthe Secretary of State shall submit to the Committee on Foreign Affairs \\nand the Committee on Appropriations of the House of Representatives and \\nthe Committee on Foreign Relations and the Committee on Appropriations \\nof the Senate a report on the military coup in Burma, including a \\ndescription of efforts to implement the policy specified in section 4.\\n                                 &lt;all&gt;\\n</pre></body></html>\\n\""
      ]
     },
     "execution_count": 26,
     "metadata": {},
     "output_type": "execute_result"
    }
   ],
   "source": [
    "full_text[0]"
   ]
  },
  {
   "cell_type": "code",
   "execution_count": 27,
   "id": "762bffd5",
   "metadata": {},
   "outputs": [
    {
     "data": {
      "text/plain": [
       "10"
      ]
     },
     "execution_count": 27,
     "metadata": {},
     "output_type": "execute_result"
    }
   ],
   "source": [
    "# double check we have the desired amount of texts\n",
    "\n",
    "len(full_text)"
   ]
  },
  {
   "cell_type": "code",
   "execution_count": 28,
   "id": "1bdfc62f",
   "metadata": {},
   "outputs": [
    {
     "data": {
      "text/plain": [
       "list"
      ]
     },
     "execution_count": 28,
     "metadata": {},
     "output_type": "execute_result"
    }
   ],
   "source": [
    "type(full_text)"
   ]
  },
  {
   "cell_type": "code",
   "execution_count": 29,
   "id": "c882e701",
   "metadata": {},
   "outputs": [
    {
     "data": {
      "text/plain": [
       "bytes"
      ]
     },
     "execution_count": 29,
     "metadata": {},
     "output_type": "execute_result"
    }
   ],
   "source": [
    "type(full_text[0])"
   ]
  },
  {
   "cell_type": "code",
   "execution_count": 30,
   "id": "746c96b1",
   "metadata": {},
   "outputs": [
    {
     "data": {
      "text/plain": [
       "bytes"
      ]
     },
     "execution_count": 30,
     "metadata": {},
     "output_type": "execute_result"
    }
   ],
   "source": [
    "type(full_text[0])"
   ]
  },
  {
   "cell_type": "code",
   "execution_count": 31,
   "id": "c2e14571",
   "metadata": {},
   "outputs": [],
   "source": [
    "# turn bytes into string\n",
    "decoded = []\n",
    "for item in full_text:\n",
    "    decoded.append(item.decode('utf-8'))\n",
    "    "
   ]
  },
  {
   "cell_type": "code",
   "execution_count": 32,
   "id": "4ded1007",
   "metadata": {},
   "outputs": [
    {
     "data": {
      "text/plain": [
       "list"
      ]
     },
     "execution_count": 32,
     "metadata": {},
     "output_type": "execute_result"
    }
   ],
   "source": [
    "type(decoded)"
   ]
  },
  {
   "cell_type": "code",
   "execution_count": 45,
   "id": "437620fc",
   "metadata": {},
   "outputs": [
    {
     "data": {
      "text/plain": [
       "str"
      ]
     },
     "execution_count": 45,
     "metadata": {},
     "output_type": "execute_result"
    }
   ],
   "source": [
    "type(decoded[0])"
   ]
  },
  {
   "cell_type": "code",
   "execution_count": 46,
   "id": "930fa90c",
   "metadata": {},
   "outputs": [
    {
     "data": {
      "text/plain": [
       "'<html><body><pre>\\n[Congressional Bills 117th Congress]\\n[From the U.S. Government Publishing Office]\\n[H.R. 1112 Introduced in House (IH)]\\n\\n&lt;DOC&gt;\\n\\n\\n\\n\\n\\n\\n117th CONGRESS\\n  1st Session\\n                                H. R. 1112\\n\\n   To require a report on the military coup in Burma, and for other \\n                               purposes.\\n\\n\\n_______________________________________________________________________\\n\\n\\n                    IN THE HOUSE OF REPRESENTATIVES\\n\\n                           February 18, 2021\\n\\n    Mr. Connolly (for himself, Mr. Price of North Carolina, and Mr. \\n  Buchanan) introduced the following bill; which was referred to the \\n                      Committee on Foreign Affairs\\n\\n_______________________________________________________________________\\n\\n                                 A BILL\\n\\n\\n \\n   To require a report on the military coup in Burma, and for other \\n                               purposes.\\n\\n    Be it enacted by the Senate and House of Representatives of the'"
      ]
     },
     "execution_count": 46,
     "metadata": {},
     "output_type": "execute_result"
    }
   ],
   "source": [
    "decoded[0][:1000]"
   ]
  },
  {
   "cell_type": "markdown",
   "id": "32677ec1",
   "metadata": {},
   "source": [
    "SAVE DECODED FILE HERE FOR NEXT SECTION, CLEAN"
   ]
  },
  {
   "cell_type": "code",
   "execution_count": 48,
   "id": "c33bd34c",
   "metadata": {},
   "outputs": [],
   "source": [
    "with open('in/bill_text.txt', 'w') as f:\n",
    "    for item in decoded:\n",
    "        f.write(item)"
   ]
  },
  {
   "cell_type": "markdown",
   "id": "d3674ecc",
   "metadata": {},
   "source": [
    "## END OF SCRAPE SECTION"
   ]
  },
  {
   "cell_type": "markdown",
   "id": "82b01a97",
   "metadata": {},
   "source": [
    "## START OF CLEAN SECTION"
   ]
  },
  {
   "cell_type": "code",
   "execution_count": 49,
   "id": "8bcc4d75",
   "metadata": {},
   "outputs": [],
   "source": [
    "# The next step will be to clean the text of the html characters and other unwanted characters \n",
    "# and whitespace. \n",
    "\n",
    "# First, I load it back up. Then, I run a function to take out all of the = characters that \n",
    "# we don't want like `<html>`, `\\n`, `__`, as well as any whitespaces. Finally, I save to a \n",
    "# new text file, called `clean`.\n",
    "\n",
    "# loading up the texts that we just saved\n",
    "load = open('in/bill_text.txt')\n",
    "data = load.read()\n",
    "load.close()\n",
    "\n",
    "# remove all the characters in the \"take out\" list by writing a\n",
    "# loop that replaces those characters with an empty character, ''\n",
    "def clean_up(text):\n",
    "    take_out = ['\\n', '/n', '\\\\n', '_', '[', ']', '<html><body><pre>', '<html><body><pre>', '  ']\n",
    "    for item in take_out:\n",
    "        if item in text:\n",
    "            text = text.replace(item, '')\n",
    "    return text\n",
    "\n",
    "\n",
    "cleaned = clean_up(data)"
   ]
  },
  {
   "cell_type": "code",
   "execution_count": 50,
   "id": "85f803e8",
   "metadata": {},
   "outputs": [
    {
     "data": {
      "text/plain": [
       "str"
      ]
     },
     "execution_count": 50,
     "metadata": {},
     "output_type": "execute_result"
    }
   ],
   "source": [
    "type(cleaned)"
   ]
  },
  {
   "cell_type": "code",
   "execution_count": 51,
   "id": "a8729359",
   "metadata": {},
   "outputs": [
    {
     "data": {
      "text/plain": [
       "\"Congressional Bills 117th CongressFrom the U.S. Government Publishing OfficeH.R. 1112 Introduced in House (IH)&lt;DOC&gt;117th CONGRESS1st SessionH. R. 1112 To require a report on the military coup in Burma, and for otherpurposes.IN THE HOUSE OF REPRESENTATIVES February 18, 2021Mr. Connolly (for himself, Mr. Price of North Carolina, and Mr. Buchanan) introduced the following bill; which was referred to the Committee on Foreign Affairs A BILLTo require a report on the military coup in Burma, and for otherpurposes.Be it enacted by the Senate and House of Representatives of the United States of America in Congress assembled,SECTION 1. SHORT TITLE.This Act may be cited as the ``Protect Democracy in Burma Act of 2021''.SEC. 2. FINDINGS.Congress finds the following:(1) On March 14, 2005, the House of Representatives agreed to H. Res. 135, which established the House Democracy Assistance Commission (later changed to the House Democracy Partnership, hereafter referred to as ``HDP'') to work directly with parliaments around the world to support the development of effective, independent, and responsive legislative institutions.(2) HDP approved a legislative strengthening partnership with Burma in 2016 and organized the first congressional delegation to meet with the new civilian-led government, led by State Counselor Aung San Suu Kyi, and civil society leaders in May 2016.(3) On February 2, 2021, the U.S. Department of State assessed that Daw Aung San Suu Kyi, the leader of Burma's ruling party, and President Win Myint, the duly elected head of government, were deposed in a military coup on February 1, 2021.(4) As part of the military coup, the Burmese military declared martial law, suspended the civilian-led government, and detained newly elected Members of Parliament in the capitol, Naypyidaw, thereby usurping the role of the democratically elected government and parliament.SEC. 3. SENSE OF CONGRESS.It is the sense of Congress that--(1) due to the Burmese military's seizure of government through the detention of State Counsellor Aung San Suu Kyi, President Win Myint, and other government leaders, Burma is not represented by a democratically elected government;(2) the inability of newly elected Members of Parliament to begin their official mandate due to the Burmese military's actions directly threatens the democratic trajectory of Burma's Parliament, and thereby the country;(3) the will and determination of those duly-elected Members of Parliament who are taking it upon themselves to continue serving as representatives of the people through alternative methods of communicating and convening should be lauded; and(4) by preventing the Parliament from completing its work, the Burmese military has rendered impossible and effectively nullified the international collaborative relationships that have supported and strengthened the institution, including the Burmese parliament's partnership with HDP.SEC. 4. STATEMENT OF POLICY.It is the policy of the United Stat\""
      ]
     },
     "execution_count": 51,
     "metadata": {},
     "output_type": "execute_result"
    }
   ],
   "source": [
    "# check a slice of the text to see the results of cleaning\n",
    "\n",
    "cleaned[:3000]"
   ]
  },
  {
   "cell_type": "code",
   "execution_count": 52,
   "id": "e1493efd",
   "metadata": {},
   "outputs": [],
   "source": [
    "# save plain to a separate text file\n",
    "# MAKE SURE TO CHANGE THE NAME OF THE FILE!\n",
    "\n",
    "with open('test/clean.txt', 'w') as f:\n",
    "    f.write(cleaned)"
   ]
  },
  {
   "cell_type": "code",
   "execution_count": null,
   "id": "1defd563",
   "metadata": {},
   "outputs": [],
   "source": []
  }
 ],
 "metadata": {
  "kernelspec": {
   "display_name": "Python 3 (ipykernel)",
   "language": "python",
   "name": "python3"
  },
  "language_info": {
   "codemirror_mode": {
    "name": "ipython",
    "version": 3
   },
   "file_extension": ".py",
   "mimetype": "text/x-python",
   "name": "python",
   "nbconvert_exporter": "python",
   "pygments_lexer": "ipython3",
   "version": "3.11.7"
  }
 },
 "nbformat": 4,
 "nbformat_minor": 5
}