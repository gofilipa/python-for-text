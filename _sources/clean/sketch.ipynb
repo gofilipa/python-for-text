{
 "cells": [
  {
   "cell_type": "markdown",
   "id": "d2f76492",
   "metadata": {},
   "source": [
    "## dataframes: import libraries"
   ]
  },
  {
   "cell_type": "code",
   "execution_count": 5,
   "id": "f47a5596",
   "metadata": {},
   "outputs": [],
   "source": [
    "import requests # for making http (web) requests\n",
    "import pandas as pd # for working with tabular (spreadsheet) data\n",
    "import csv # also for working with tabular data, in csv format\n",
    "\n",
    "# saving the search results from congress.gov \n",
    "# if this code doesn't work, download the csv from \n",
    "# https://bit.ly/congress_csv\n",
    "bills = pd.read_csv('https://bit.ly/congress_dirty_csv')\n",
    "\n",
    "# creating a \"dataframe\" in pandas (a python library for working\n",
    "# with spreadsheet like data\n",
    "df = pd.DataFrame(bills)"
   ]
  },
  {
   "cell_type": "code",
   "execution_count": 54,
   "id": "9fa26538",
   "metadata": {},
   "outputs": [],
   "source": [
    "sdf = df.drop_duplicates(subset=['Legislation Number'], keep='first')"
   ]
  },
  {
   "cell_type": "code",
   "execution_count": 55,
   "id": "5ca6a688",
   "metadata": {},
   "outputs": [
    {
     "data": {
      "text/html": [
       "<div>\n",
       "<style scoped>\n",
       "    .dataframe tbody tr th:only-of-type {\n",
       "        vertical-align: middle;\n",
       "    }\n",
       "\n",
       "    .dataframe tbody tr th {\n",
       "        vertical-align: top;\n",
       "    }\n",
       "\n",
       "    .dataframe thead th {\n",
       "        text-align: right;\n",
       "    }\n",
       "</style>\n",
       "<table border=\"1\" class=\"dataframe\">\n",
       "  <thead>\n",
       "    <tr style=\"text-align: right;\">\n",
       "      <th></th>\n",
       "      <th>Legislation Number</th>\n",
       "      <th>URL</th>\n",
       "      <th>Congress</th>\n",
       "      <th>Title</th>\n",
       "      <th>Sponsor</th>\n",
       "      <th>Party of Sponsor</th>\n",
       "      <th>Date of Introduction</th>\n",
       "      <th>Committees</th>\n",
       "      <th>Latest Action</th>\n",
       "      <th>Latest Action Date</th>\n",
       "      <th>...</th>\n",
       "      <th>Related Bill.211</th>\n",
       "      <th>Related Bill.212</th>\n",
       "      <th>Related Bill.213</th>\n",
       "      <th>Latest Summary</th>\n",
       "      <th>Amends Bill</th>\n",
       "      <th>Date Offered</th>\n",
       "      <th>Date Submitted</th>\n",
       "      <th>Date Proposed</th>\n",
       "      <th>Amendment Text (Latest)</th>\n",
       "      <th>Amends Amendment</th>\n",
       "    </tr>\n",
       "  </thead>\n",
       "  <tbody>\n",
       "    <tr>\n",
       "      <th>0</th>\n",
       "      <td>H.R. 1112</td>\n",
       "      <td>https://www.congress.gov/bill/118th-congress/h...</td>\n",
       "      <td>118th Congress (2023-2024)</td>\n",
       "      <td>Ensuring Military Readiness Act of 2023</td>\n",
       "      <td>Banks, Jim [Rep.-R-IN-3]</td>\n",
       "      <td>Republican</td>\n",
       "      <td>2/21/23</td>\n",
       "      <td>House - Armed Services</td>\n",
       "      <td>Referred to the House Committee on Armed Servi...</td>\n",
       "      <td>2/21/23</td>\n",
       "      <td>...</td>\n",
       "      <td>NaN</td>\n",
       "      <td>NaN</td>\n",
       "      <td>NaN</td>\n",
       "      <td>&lt;p&gt;&lt;b&gt;Ensuring Military Readiness Act of 2023...</td>\n",
       "      <td>NaN</td>\n",
       "      <td>NaN</td>\n",
       "      <td>NaN</td>\n",
       "      <td>NaN</td>\n",
       "      <td>NaN</td>\n",
       "      <td>NaN</td>\n",
       "    </tr>\n",
       "    <tr>\n",
       "      <th>1</th>\n",
       "      <td>S. 435</td>\n",
       "      <td>https://www.congress.gov/bill/118th-congress/s...</td>\n",
       "      <td>118th Congress (2023-2024)</td>\n",
       "      <td>Ensuring Military Readiness Act of 2023</td>\n",
       "      <td>Rubio, Marco [Sen.-R-FL]</td>\n",
       "      <td>Republican</td>\n",
       "      <td>2/15/23</td>\n",
       "      <td>Senate - Armed Services</td>\n",
       "      <td>Read twice and referred to the Committee on Ar...</td>\n",
       "      <td>2/15/23</td>\n",
       "      <td>...</td>\n",
       "      <td>NaN</td>\n",
       "      <td>NaN</td>\n",
       "      <td>NaN</td>\n",
       "      <td>&lt;p&gt;&lt;b&gt;Ensuring Military Readiness Act of 2023...</td>\n",
       "      <td>NaN</td>\n",
       "      <td>NaN</td>\n",
       "      <td>NaN</td>\n",
       "      <td>NaN</td>\n",
       "      <td>NaN</td>\n",
       "      <td>NaN</td>\n",
       "    </tr>\n",
       "    <tr>\n",
       "      <th>2</th>\n",
       "      <td>H.Res. 886</td>\n",
       "      <td>https://www.congress.gov/bill/118th-congress/h...</td>\n",
       "      <td>118th Congress (2023-2024)</td>\n",
       "      <td>Supporting the goals and principles of Transge...</td>\n",
       "      <td>Jayapal, Pramila [Rep.-D-WA-7]</td>\n",
       "      <td>Democratic</td>\n",
       "      <td>11/21/23</td>\n",
       "      <td>House - Judiciary</td>\n",
       "      <td>Referred to the House Committee on the Judiciary.</td>\n",
       "      <td>11/21/23</td>\n",
       "      <td>...</td>\n",
       "      <td>NaN</td>\n",
       "      <td>NaN</td>\n",
       "      <td>NaN</td>\n",
       "      <td>&lt;p&gt;This resolution expresses support for the ...</td>\n",
       "      <td>NaN</td>\n",
       "      <td>NaN</td>\n",
       "      <td>NaN</td>\n",
       "      <td>NaN</td>\n",
       "      <td>NaN</td>\n",
       "      <td>NaN</td>\n",
       "    </tr>\n",
       "    <tr>\n",
       "      <th>3</th>\n",
       "      <td>S.Res. 464</td>\n",
       "      <td>https://www.congress.gov/bill/118th-congress/s...</td>\n",
       "      <td>118th Congress (2023-2024)</td>\n",
       "      <td>A resolution supporting the goals and principl...</td>\n",
       "      <td>Hirono, Mazie K. [Sen.-D-HI]</td>\n",
       "      <td>Democratic</td>\n",
       "      <td>11/15/23</td>\n",
       "      <td>Senate - Judiciary</td>\n",
       "      <td>Star Print ordered on resolution.</td>\n",
       "      <td>12/4/23</td>\n",
       "      <td>...</td>\n",
       "      <td>NaN</td>\n",
       "      <td>NaN</td>\n",
       "      <td>NaN</td>\n",
       "      <td>&lt;p&gt;This resolution expresses support for the ...</td>\n",
       "      <td>NaN</td>\n",
       "      <td>NaN</td>\n",
       "      <td>NaN</td>\n",
       "      <td>NaN</td>\n",
       "      <td>NaN</td>\n",
       "      <td>NaN</td>\n",
       "    </tr>\n",
       "    <tr>\n",
       "      <th>4</th>\n",
       "      <td>H.Res. 269</td>\n",
       "      <td>https://www.congress.gov/bill/118th-congress/h...</td>\n",
       "      <td>118th Congress (2023-2024)</td>\n",
       "      <td>Recognizing that it is the duty of the Federal...</td>\n",
       "      <td>Jayapal, Pramila [Rep.-D-WA-7]</td>\n",
       "      <td>Democratic</td>\n",
       "      <td>3/30/23</td>\n",
       "      <td>House - Judiciary, Education and the Workforce...</td>\n",
       "      <td>Sponsor introductory remarks on measure. (CR H...</td>\n",
       "      <td>4/19/23</td>\n",
       "      <td>...</td>\n",
       "      <td>NaN</td>\n",
       "      <td>NaN</td>\n",
       "      <td>NaN</td>\n",
       "      <td>&lt;p&gt;This resolution expresses support for impl...</td>\n",
       "      <td>NaN</td>\n",
       "      <td>NaN</td>\n",
       "      <td>NaN</td>\n",
       "      <td>NaN</td>\n",
       "      <td>NaN</td>\n",
       "      <td>NaN</td>\n",
       "    </tr>\n",
       "    <tr>\n",
       "      <th>...</th>\n",
       "      <td>...</td>\n",
       "      <td>...</td>\n",
       "      <td>...</td>\n",
       "      <td>...</td>\n",
       "      <td>...</td>\n",
       "      <td>...</td>\n",
       "      <td>...</td>\n",
       "      <td>...</td>\n",
       "      <td>...</td>\n",
       "      <td>...</td>\n",
       "      <td>...</td>\n",
       "      <td>...</td>\n",
       "      <td>...</td>\n",
       "      <td>...</td>\n",
       "      <td>...</td>\n",
       "      <td>...</td>\n",
       "      <td>...</td>\n",
       "      <td>...</td>\n",
       "      <td>...</td>\n",
       "      <td>...</td>\n",
       "      <td>...</td>\n",
       "    </tr>\n",
       "    <tr>\n",
       "      <th>260</th>\n",
       "      <td>H.Amdt. 195</td>\n",
       "      <td>https://www.congress.gov/amendment/118th-congr...</td>\n",
       "      <td>118th Congress (2023-2024)</td>\n",
       "      <td>An amendment numbered 6 printed in Part A of H...</td>\n",
       "      <td>Good, Bob [Rep.-R-VA-5]</td>\n",
       "      <td>Republican</td>\n",
       "      <td>NaN</td>\n",
       "      <td>NaN</td>\n",
       "      <td>On agreeing to the Good (VA) amendment (A006) ...</td>\n",
       "      <td>6/14/23</td>\n",
       "      <td>...</td>\n",
       "      <td>NaN</td>\n",
       "      <td>NaN</td>\n",
       "      <td>NaN</td>\n",
       "      <td>NaN</td>\n",
       "      <td>H.R. 277</td>\n",
       "      <td>6/14/23</td>\n",
       "      <td>NaN</td>\n",
       "      <td>NaN</td>\n",
       "      <td>[Pages H2902-H2916]\\nFrom the Congressional Re...</td>\n",
       "      <td>NaN</td>\n",
       "    </tr>\n",
       "    <tr>\n",
       "      <th>264</th>\n",
       "      <td>H.Amdt. 193</td>\n",
       "      <td>https://www.congress.gov/amendment/118th-congr...</td>\n",
       "      <td>118th Congress (2023-2024)</td>\n",
       "      <td>An amendment numbered 4 printed in Part A of H...</td>\n",
       "      <td>Biggs, Andy [Rep.-R-AZ-5]</td>\n",
       "      <td>Republican</td>\n",
       "      <td>NaN</td>\n",
       "      <td>NaN</td>\n",
       "      <td>On agreeing to the Biggs amendment (A004) Fail...</td>\n",
       "      <td>6/14/23</td>\n",
       "      <td>...</td>\n",
       "      <td>NaN</td>\n",
       "      <td>NaN</td>\n",
       "      <td>NaN</td>\n",
       "      <td>NaN</td>\n",
       "      <td>H.R. 277</td>\n",
       "      <td>6/14/23</td>\n",
       "      <td>NaN</td>\n",
       "      <td>NaN</td>\n",
       "      <td>[Pages H2902-H2916]\\nFrom the Congressional Re...</td>\n",
       "      <td>NaN</td>\n",
       "    </tr>\n",
       "    <tr>\n",
       "      <th>268</th>\n",
       "      <td>H.Amdt. 256</td>\n",
       "      <td>https://www.congress.gov/amendment/118th-congr...</td>\n",
       "      <td>118th Congress (2023-2024)</td>\n",
       "      <td>An amendment numbered 66 printed in House Repo...</td>\n",
       "      <td>Davidson, Warren [Rep.-R-OH-8]</td>\n",
       "      <td>Republican</td>\n",
       "      <td>NaN</td>\n",
       "      <td>NaN</td>\n",
       "      <td>On agreeing to the Davidson amendment (A041) A...</td>\n",
       "      <td>7/14/23</td>\n",
       "      <td>...</td>\n",
       "      <td>NaN</td>\n",
       "      <td>NaN</td>\n",
       "      <td>NaN</td>\n",
       "      <td>NaN</td>\n",
       "      <td>H.R. 2670</td>\n",
       "      <td>7/14/23</td>\n",
       "      <td>NaN</td>\n",
       "      <td>NaN</td>\n",
       "      <td>[Pages H3581-H3600]\\nFrom the Congressional Re...</td>\n",
       "      <td>NaN</td>\n",
       "    </tr>\n",
       "    <tr>\n",
       "      <th>274</th>\n",
       "      <td>H.Amdt. 257</td>\n",
       "      <td>https://www.congress.gov/amendment/118th-congr...</td>\n",
       "      <td>118th Congress (2023-2024)</td>\n",
       "      <td>An amendment comprised of the following amendm...</td>\n",
       "      <td>Rogers, Mike D. [Rep.-R-AL-3]</td>\n",
       "      <td>Republican</td>\n",
       "      <td>NaN</td>\n",
       "      <td>NaN</td>\n",
       "      <td>On agreeing to the Rogers (AL) amendments (A04...</td>\n",
       "      <td>7/14/23</td>\n",
       "      <td>...</td>\n",
       "      <td>NaN</td>\n",
       "      <td>NaN</td>\n",
       "      <td>NaN</td>\n",
       "      <td>NaN</td>\n",
       "      <td>H.R. 2670</td>\n",
       "      <td>7/14/23</td>\n",
       "      <td>NaN</td>\n",
       "      <td>NaN</td>\n",
       "      <td>[Pages H3581-H3600]\\nFrom the Congressional Re...</td>\n",
       "      <td>NaN</td>\n",
       "    </tr>\n",
       "    <tr>\n",
       "      <th>280</th>\n",
       "      <td>H.Amdt. 255</td>\n",
       "      <td>https://www.congress.gov/amendment/118th-congr...</td>\n",
       "      <td>118th Congress (2023-2024)</td>\n",
       "      <td>An amendment numbered 64 printed in House Repo...</td>\n",
       "      <td>Roy, Chip [Rep.-R-TX-21]</td>\n",
       "      <td>Republican</td>\n",
       "      <td>NaN</td>\n",
       "      <td>NaN</td>\n",
       "      <td>On agreeing to the Roy amendment (A040) Agreed...</td>\n",
       "      <td>7/14/23</td>\n",
       "      <td>...</td>\n",
       "      <td>NaN</td>\n",
       "      <td>NaN</td>\n",
       "      <td>NaN</td>\n",
       "      <td>NaN</td>\n",
       "      <td>H.R. 2670</td>\n",
       "      <td>7/14/23</td>\n",
       "      <td>NaN</td>\n",
       "      <td>NaN</td>\n",
       "      <td>[Pages H3581-H3600]\\nFrom the Congressional Re...</td>\n",
       "      <td>NaN</td>\n",
       "    </tr>\n",
       "  </tbody>\n",
       "</table>\n",
       "<p>149 rows × 650 columns</p>\n",
       "</div>"
      ],
      "text/plain": [
       "    Legislation Number                                                URL  \\\n",
       "0            H.R. 1112  https://www.congress.gov/bill/118th-congress/h...   \n",
       "1               S. 435  https://www.congress.gov/bill/118th-congress/s...   \n",
       "2           H.Res. 886  https://www.congress.gov/bill/118th-congress/h...   \n",
       "3           S.Res. 464  https://www.congress.gov/bill/118th-congress/s...   \n",
       "4           H.Res. 269  https://www.congress.gov/bill/118th-congress/h...   \n",
       "..                 ...                                                ...   \n",
       "260        H.Amdt. 195  https://www.congress.gov/amendment/118th-congr...   \n",
       "264        H.Amdt. 193  https://www.congress.gov/amendment/118th-congr...   \n",
       "268        H.Amdt. 256  https://www.congress.gov/amendment/118th-congr...   \n",
       "274        H.Amdt. 257  https://www.congress.gov/amendment/118th-congr...   \n",
       "280        H.Amdt. 255  https://www.congress.gov/amendment/118th-congr...   \n",
       "\n",
       "                       Congress  \\\n",
       "0    118th Congress (2023-2024)   \n",
       "1    118th Congress (2023-2024)   \n",
       "2    118th Congress (2023-2024)   \n",
       "3    118th Congress (2023-2024)   \n",
       "4    118th Congress (2023-2024)   \n",
       "..                          ...   \n",
       "260  118th Congress (2023-2024)   \n",
       "264  118th Congress (2023-2024)   \n",
       "268  118th Congress (2023-2024)   \n",
       "274  118th Congress (2023-2024)   \n",
       "280  118th Congress (2023-2024)   \n",
       "\n",
       "                                                 Title  \\\n",
       "0              Ensuring Military Readiness Act of 2023   \n",
       "1              Ensuring Military Readiness Act of 2023   \n",
       "2    Supporting the goals and principles of Transge...   \n",
       "3    A resolution supporting the goals and principl...   \n",
       "4    Recognizing that it is the duty of the Federal...   \n",
       "..                                                 ...   \n",
       "260  An amendment numbered 6 printed in Part A of H...   \n",
       "264  An amendment numbered 4 printed in Part A of H...   \n",
       "268  An amendment numbered 66 printed in House Repo...   \n",
       "274  An amendment comprised of the following amendm...   \n",
       "280  An amendment numbered 64 printed in House Repo...   \n",
       "\n",
       "                            Sponsor Party of Sponsor Date of Introduction  \\\n",
       "0          Banks, Jim [Rep.-R-IN-3]       Republican              2/21/23   \n",
       "1          Rubio, Marco [Sen.-R-FL]       Republican              2/15/23   \n",
       "2    Jayapal, Pramila [Rep.-D-WA-7]       Democratic             11/21/23   \n",
       "3      Hirono, Mazie K. [Sen.-D-HI]       Democratic             11/15/23   \n",
       "4    Jayapal, Pramila [Rep.-D-WA-7]       Democratic              3/30/23   \n",
       "..                              ...              ...                  ...   \n",
       "260         Good, Bob [Rep.-R-VA-5]       Republican                  NaN   \n",
       "264       Biggs, Andy [Rep.-R-AZ-5]       Republican                  NaN   \n",
       "268  Davidson, Warren [Rep.-R-OH-8]       Republican                  NaN   \n",
       "274   Rogers, Mike D. [Rep.-R-AL-3]       Republican                  NaN   \n",
       "280        Roy, Chip [Rep.-R-TX-21]       Republican                  NaN   \n",
       "\n",
       "                                            Committees  \\\n",
       "0                               House - Armed Services   \n",
       "1                              Senate - Armed Services   \n",
       "2                                    House - Judiciary   \n",
       "3                                   Senate - Judiciary   \n",
       "4    House - Judiciary, Education and the Workforce...   \n",
       "..                                                 ...   \n",
       "260                                                NaN   \n",
       "264                                                NaN   \n",
       "268                                                NaN   \n",
       "274                                                NaN   \n",
       "280                                                NaN   \n",
       "\n",
       "                                         Latest Action Latest Action Date  \\\n",
       "0    Referred to the House Committee on Armed Servi...            2/21/23   \n",
       "1    Read twice and referred to the Committee on Ar...            2/15/23   \n",
       "2    Referred to the House Committee on the Judiciary.           11/21/23   \n",
       "3                    Star Print ordered on resolution.            12/4/23   \n",
       "4    Sponsor introductory remarks on measure. (CR H...            4/19/23   \n",
       "..                                                 ...                ...   \n",
       "260  On agreeing to the Good (VA) amendment (A006) ...            6/14/23   \n",
       "264  On agreeing to the Biggs amendment (A004) Fail...            6/14/23   \n",
       "268  On agreeing to the Davidson amendment (A041) A...            7/14/23   \n",
       "274  On agreeing to the Rogers (AL) amendments (A04...            7/14/23   \n",
       "280  On agreeing to the Roy amendment (A040) Agreed...            7/14/23   \n",
       "\n",
       "     ... Related Bill.211 Related Bill.212 Related Bill.213  \\\n",
       "0    ...              NaN              NaN              NaN   \n",
       "1    ...              NaN              NaN              NaN   \n",
       "2    ...              NaN              NaN              NaN   \n",
       "3    ...              NaN              NaN              NaN   \n",
       "4    ...              NaN              NaN              NaN   \n",
       "..   ...              ...              ...              ...   \n",
       "260  ...              NaN              NaN              NaN   \n",
       "264  ...              NaN              NaN              NaN   \n",
       "268  ...              NaN              NaN              NaN   \n",
       "274  ...              NaN              NaN              NaN   \n",
       "280  ...              NaN              NaN              NaN   \n",
       "\n",
       "                                        Latest Summary Amends Bill  \\\n",
       "0     <p><b>Ensuring Military Readiness Act of 2023...         NaN   \n",
       "1     <p><b>Ensuring Military Readiness Act of 2023...         NaN   \n",
       "2     <p>This resolution expresses support for the ...         NaN   \n",
       "3     <p>This resolution expresses support for the ...         NaN   \n",
       "4     <p>This resolution expresses support for impl...         NaN   \n",
       "..                                                 ...         ...   \n",
       "260                                                NaN    H.R. 277   \n",
       "264                                                NaN    H.R. 277   \n",
       "268                                                NaN   H.R. 2670   \n",
       "274                                                NaN   H.R. 2670   \n",
       "280                                                NaN   H.R. 2670   \n",
       "\n",
       "    Date Offered Date Submitted Date Proposed  \\\n",
       "0            NaN            NaN           NaN   \n",
       "1            NaN            NaN           NaN   \n",
       "2            NaN            NaN           NaN   \n",
       "3            NaN            NaN           NaN   \n",
       "4            NaN            NaN           NaN   \n",
       "..           ...            ...           ...   \n",
       "260      6/14/23            NaN           NaN   \n",
       "264      6/14/23            NaN           NaN   \n",
       "268      7/14/23            NaN           NaN   \n",
       "274      7/14/23            NaN           NaN   \n",
       "280      7/14/23            NaN           NaN   \n",
       "\n",
       "                               Amendment Text (Latest) Amends Amendment  \n",
       "0                                                  NaN              NaN  \n",
       "1                                                  NaN              NaN  \n",
       "2                                                  NaN              NaN  \n",
       "3                                                  NaN              NaN  \n",
       "4                                                  NaN              NaN  \n",
       "..                                                 ...              ...  \n",
       "260  [Pages H2902-H2916]\\nFrom the Congressional Re...              NaN  \n",
       "264  [Pages H2902-H2916]\\nFrom the Congressional Re...              NaN  \n",
       "268  [Pages H3581-H3600]\\nFrom the Congressional Re...              NaN  \n",
       "274  [Pages H3581-H3600]\\nFrom the Congressional Re...              NaN  \n",
       "280  [Pages H3581-H3600]\\nFrom the Congressional Re...              NaN  \n",
       "\n",
       "[149 rows x 650 columns]"
      ]
     },
     "execution_count": 55,
     "metadata": {},
     "output_type": "execute_result"
    }
   ],
   "source": [
    "df"
   ]
  },
  {
   "cell_type": "code",
   "execution_count": 7,
   "id": "745aae08",
   "metadata": {},
   "outputs": [],
   "source": [
    "titles = df['Title']"
   ]
  },
  {
   "cell_type": "code",
   "execution_count": 8,
   "id": "c332a937",
   "metadata": {},
   "outputs": [
    {
     "data": {
      "text/plain": [
       "0               Ensuring Military Readiness Act of 2023\n",
       "1               Ensuring Military Readiness Act of 2023\n",
       "2     Supporting the goals and principles of Transge...\n",
       "3     A resolution supporting the goals and principl...\n",
       "4     Recognizing that it is the duty of the Federal...\n",
       "5     A resolution recognizing that it is the duty o...\n",
       "6                                                   NaN\n",
       "7     Chyna Gibson Stop the Transgender Murder Epide...\n",
       "8     Supporting the goals and ideals of Internation...\n",
       "9     A resolution supporting the goals and ideals o...\n",
       "10    Armed Forces Transgender Dependent Protection Act\n",
       "11              Ensuring Military Readiness Act of 2023\n",
       "12                      My Child, My Choice Act of 2023\n",
       "13                   Pride In Mental Health Act of 2023\n",
       "14     Original LGBTQIA+ Pride Month Resolution of 2023\n",
       "15    A resolution recognizing June 2023 as \"LGBTQ P...\n",
       "16    Supporting the goals and ideals of the Interna...\n",
       "17                             Patriotism Not Pride Act\n",
       "18    An amendment numbered 10 printed in House Repo...\n",
       "19                                                  NaN\n",
       "Name: Title, dtype: object"
      ]
     },
     "execution_count": 8,
     "metadata": {},
     "output_type": "execute_result"
    }
   ],
   "source": [
    "titles[:20]"
   ]
  },
  {
   "cell_type": "code",
   "execution_count": 17,
   "id": "5ce5d09d",
   "metadata": {},
   "outputs": [],
   "source": [
    "gender_in_title = []\n",
    "for item in df['Title']:\n",
    "    item = str(item)\n",
    "    if 'gender' or 'child' in item.lower():\n",
    "        gender_in_title.append(item.lower())"
   ]
  },
  {
   "cell_type": "code",
   "execution_count": 18,
   "id": "846b4d6a",
   "metadata": {},
   "outputs": [
    {
     "data": {
      "text/plain": [
       "149"
      ]
     },
     "execution_count": 18,
     "metadata": {},
     "output_type": "execute_result"
    }
   ],
   "source": [
    "len(gender_in_title)"
   ]
  },
  {
   "cell_type": "code",
   "execution_count": 19,
   "id": "8cfc8327",
   "metadata": {},
   "outputs": [
    {
     "data": {
      "text/plain": [
       "['ensuring military readiness act of 2023',\n",
       " 'ensuring military readiness act of 2023',\n",
       " 'supporting the goals and principles of transgender day of remembrance by recognizing the epidemic of violence toward transgender people and memorializing the lives lost this year.',\n",
       " 'a resolution supporting the goals and principles of transgender day of remembrance by recognizing the epidemic of violence toward transgender people and memorializing the lives lost this year.',\n",
       " 'recognizing that it is the duty of the federal government to develop and implement a transgender bill of rights to protect and codify the rights of transgender and nonbinary people under the law and ensure their access to medical care, shelter, safety, and economic security.',\n",
       " 'a resolution recognizing that it is the duty of the federal government to develop and implement a transgender bill of rights to protect and codify the rights of transgender and nonbinary people under the law and ensure their access to medical care, shelter, safety, and economic safety.',\n",
       " 'nan',\n",
       " 'chyna gibson stop the transgender murder epidemic act of 2023',\n",
       " 'supporting the goals and ideals of international transgender day of visibility.',\n",
       " 'a resolution supporting the goals and ideals of international transgender day of visibility.']"
      ]
     },
     "execution_count": 19,
     "metadata": {},
     "output_type": "execute_result"
    }
   ],
   "source": [
    "gender_in_title[:10]"
   ]
  },
  {
   "cell_type": "markdown",
   "id": "744d0e04",
   "metadata": {},
   "source": [
    "## START SCRAPE SECTION HERE\n",
    "have to grab the csv and make a df again from previous section"
   ]
  },
  {
   "cell_type": "code",
   "execution_count": 21,
   "id": "3801e887",
   "metadata": {},
   "outputs": [],
   "source": [
    "## go through each row in numbers column of our spreadsheet\n",
    "## extract the number and put into a separate list\n",
    "numbers = []\n",
    "for row in df['Legislation Number']:\n",
    "    row = str(row)\n",
    "    splitted = row.split(' ')\n",
    "    for item in splitted:\n",
    "        if item.isnumeric():\n",
    "            numbers.append(item)"
   ]
  },
  {
   "cell_type": "code",
   "execution_count": 22,
   "id": "81f107fa",
   "metadata": {},
   "outputs": [
    {
     "data": {
      "text/plain": [
       "['1112',\n",
       " '435',\n",
       " '886',\n",
       " '464',\n",
       " '269',\n",
       " '144',\n",
       " '902',\n",
       " '4960',\n",
       " '32',\n",
       " '154',\n",
       " '5196',\n",
       " '1064',\n",
       " '216',\n",
       " '3850',\n",
       " '568',\n",
       " '282',\n",
       " '418',\n",
       " '4398',\n",
       " '223',\n",
       " '1960']"
      ]
     },
     "execution_count": 22,
     "metadata": {},
     "output_type": "execute_result"
    }
   ],
   "source": [
    "numbers[:20]"
   ]
  },
  {
   "cell_type": "code",
   "execution_count": 23,
   "id": "9bc00ce5",
   "metadata": {},
   "outputs": [
    {
     "data": {
      "text/plain": [
       "147"
      ]
     },
     "execution_count": 23,
     "metadata": {},
     "output_type": "execute_result"
    }
   ],
   "source": [
    "len(numbers)"
   ]
  },
  {
   "cell_type": "code",
   "execution_count": 24,
   "id": "847abc45",
   "metadata": {},
   "outputs": [],
   "source": [
    "# function that contains a loop to insert bill numbers\n",
    "# into the URL, then to grab the content and add to a new list\n",
    "def scrape_bill_text(numbers):\n",
    "    bills_text = []\n",
    "    for item in numbers:\n",
    "        # make sure to put the right congress session\n",
    "        url = (f'https://www.congress.gov/117/bills/hr{item}/BILLS-117hr{item}ih.htm')\n",
    "        response = requests.get(url)\n",
    "        content = response.content\n",
    "        bills_text.append(content)\n",
    "    return bills_text"
   ]
  },
  {
   "cell_type": "code",
   "execution_count": 8,
   "id": "c67c3341",
   "metadata": {},
   "outputs": [],
   "source": [
    "# if HTML tags and data persists in the results, run this function instead to scrape\n",
    "# the bill text. It uses BS4 to get just the text. \n",
    "\n",
    "# from bs4 import BeautifulSoup\n",
    "\n",
    "# def scrape_just_text(numbers):\n",
    "#     bills_text = []\n",
    "#     for item in numbers:\n",
    "#         page = requests.get(f'https://www.congress.gov/118/bills/hr{item}/BILLS-118hr{item}ih.htm')\n",
    "#         source = page.content\n",
    "#         soup = BeautifulSoup(source, 'lxml')\n",
    "#         stuff = soup.get_text(strip=True)\n",
    "#         bills_text.append(stuff)\n",
    "#     return bills_text"
   ]
  },
  {
   "cell_type": "code",
   "execution_count": 25,
   "id": "4c8944b5",
   "metadata": {},
   "outputs": [],
   "source": [
    "# call the relevant function, passing the list of numbers as parameter\n",
    "# the first time, just scrape 10 to see what the results look like\n",
    "\n",
    "# full_text = scrape_just_text(numbers)\n",
    "full_text = scrape_bill_text(numbers[:10])"
   ]
  },
  {
   "cell_type": "code",
   "execution_count": 26,
   "id": "9512507a",
   "metadata": {},
   "outputs": [
    {
     "data": {
      "text/plain": [
       "b\"<html><body><pre>\\n[Congressional Bills 117th Congress]\\n[From the U.S. Government Publishing Office]\\n[H.R. 1112 Introduced in House (IH)]\\n\\n&lt;DOC&gt;\\n\\n\\n\\n\\n\\n\\n117th CONGRESS\\n  1st Session\\n                                H. R. 1112\\n\\n   To require a report on the military coup in Burma, and for other \\n                               purposes.\\n\\n\\n_______________________________________________________________________\\n\\n\\n                    IN THE HOUSE OF REPRESENTATIVES\\n\\n                           February 18, 2021\\n\\n    Mr. Connolly (for himself, Mr. Price of North Carolina, and Mr. \\n  Buchanan) introduced the following bill; which was referred to the \\n                      Committee on Foreign Affairs\\n\\n_______________________________________________________________________\\n\\n                                 A BILL\\n\\n\\n \\n   To require a report on the military coup in Burma, and for other \\n                               purposes.\\n\\n    Be it enacted by the Senate and House of Representatives of the \\nUnited States of America in Congress assembled,\\n\\nSECTION 1. SHORT TITLE.\\n\\n    This Act may be cited as the ``Protect Democracy in Burma Act of \\n2021''.\\n\\nSEC. 2. FINDINGS.\\n\\n    Congress finds the following:\\n            (1) On March 14, 2005, the House of Representatives agreed \\n        to H. Res. 135, which established the House Democracy \\n        Assistance Commission (later changed to the House Democracy \\n        Partnership, hereafter referred to as ``HDP'') to work directly \\n        with parliaments around the world to support the development of \\n        effective, independent, and responsive legislative \\n        institutions.\\n            (2) HDP approved a legislative strengthening partnership \\n        with Burma in 2016 and organized the first congressional \\n        delegation to meet with the new civilian-led government, led by \\n        State Counselor Aung San Suu Kyi, and civil society leaders in \\n        May 2016.\\n            (3) On February 2, 2021, the U.S. Department of State \\n        assessed that Daw Aung San Suu Kyi, the leader of Burma's \\n        ruling party, and President Win Myint, the duly elected head of \\n        government, were deposed in a military coup on February 1, \\n        2021.\\n            (4) As part of the military coup, the Burmese military \\n        declared martial law, suspended the civilian-led government, \\n        and detained newly elected Members of Parliament in the \\n        capitol, Naypyidaw, thereby usurping the role of the \\n        democratically elected government and parliament.\\n\\nSEC. 3. SENSE OF CONGRESS.\\n\\n    It is the sense of Congress that--\\n            (1) due to the Burmese military's seizure of government \\n        through the detention of State Counsellor Aung San Suu Kyi, \\n        President Win Myint, and other government leaders, Burma is not \\n        represented by a democratically elected government;\\n            (2) the inability of newly elected Members of Parliament to \\n        begin their official mandate due to the Burmese military's \\n        actions directly threatens the democratic trajectory of Burma's \\n        Parliament, and thereby the country;\\n            (3) the will and determination of those duly-elected \\n        Members of Parliament who are taking it upon themselves to \\n        continue serving as representatives of the people through \\n        alternative methods of communicating and convening should be \\n        lauded; and\\n            (4) by preventing the Parliament from completing its work, \\n        the Burmese military has rendered impossible and effectively \\n        nullified the international collaborative relationships that \\n        have supported and strengthened the institution, including the \\n        Burmese parliament's partnership with HDP.\\n\\nSEC. 4. STATEMENT OF POLICY.\\n\\n    It is the policy of the United States to--\\n            (1) engage with the Association of Southeast Asian Nations \\n        (ASEAN) and ASEAN member states to--\\n                    (A) condemn the military coup in Burma;\\n                    (B) urge the unconditional release of detained \\n                democratically elected leaders and civil society \\n                members; and\\n                    (C) support a return to Burma's democratic \\n                transition; and\\n            (2) instruct, as appropriate, representatives of the United \\n        States Government to use the voice, vote, and influence of the \\n        United States at the United Nations to hold accountable those \\n        responsible for the military coup in Burma.\\n\\nSEC. 5. REPORT.\\n\\n    Not later than 90 days after the date of the enactment of this Act, \\nthe Secretary of State shall submit to the Committee on Foreign Affairs \\nand the Committee on Appropriations of the House of Representatives and \\nthe Committee on Foreign Relations and the Committee on Appropriations \\nof the Senate a report on the military coup in Burma, including a \\ndescription of efforts to implement the policy specified in section 4.\\n                                 &lt;all&gt;\\n</pre></body></html>\\n\""
      ]
     },
     "execution_count": 26,
     "metadata": {},
     "output_type": "execute_result"
    }
   ],
   "source": [
    "full_text[0]"
   ]
  },
  {
   "cell_type": "code",
   "execution_count": 27,
   "id": "762bffd5",
   "metadata": {},
   "outputs": [
    {
     "data": {
      "text/plain": [
       "10"
      ]
     },
     "execution_count": 27,
     "metadata": {},
     "output_type": "execute_result"
    }
   ],
   "source": [
    "# double check we have the desired amount of texts\n",
    "\n",
    "len(full_text)"
   ]
  },
  {
   "cell_type": "code",
   "execution_count": 28,
   "id": "1bdfc62f",
   "metadata": {},
   "outputs": [
    {
     "data": {
      "text/plain": [
       "list"
      ]
     },
     "execution_count": 28,
     "metadata": {},
     "output_type": "execute_result"
    }
   ],
   "source": [
    "type(full_text)"
   ]
  },
  {
   "cell_type": "code",
   "execution_count": 29,
   "id": "c882e701",
   "metadata": {},
   "outputs": [
    {
     "data": {
      "text/plain": [
       "bytes"
      ]
     },
     "execution_count": 29,
     "metadata": {},
     "output_type": "execute_result"
    }
   ],
   "source": [
    "type(full_text[0])"
   ]
  },
  {
   "cell_type": "code",
   "execution_count": 30,
   "id": "746c96b1",
   "metadata": {},
   "outputs": [
    {
     "data": {
      "text/plain": [
       "bytes"
      ]
     },
     "execution_count": 30,
     "metadata": {},
     "output_type": "execute_result"
    }
   ],
   "source": [
    "type(full_text[0])"
   ]
  },
  {
   "cell_type": "code",
   "execution_count": 31,
   "id": "c2e14571",
   "metadata": {},
   "outputs": [],
   "source": [
    "# turn bytes into string\n",
    "decoded = []\n",
    "for item in full_text:\n",
    "    decoded.append(item.decode('utf-8'))\n",
    "    "
   ]
  },
  {
   "cell_type": "code",
   "execution_count": 32,
   "id": "4ded1007",
   "metadata": {},
   "outputs": [
    {
     "data": {
      "text/plain": [
       "list"
      ]
     },
     "execution_count": 32,
     "metadata": {},
     "output_type": "execute_result"
    }
   ],
   "source": [
    "type(decoded)"
   ]
  },
  {
   "cell_type": "code",
   "execution_count": 45,
   "id": "437620fc",
   "metadata": {},
   "outputs": [
    {
     "data": {
      "text/plain": [
       "str"
      ]
     },
     "execution_count": 45,
     "metadata": {},
     "output_type": "execute_result"
    }
   ],
   "source": [
    "type(decoded[0])"
   ]
  },
  {
   "cell_type": "code",
   "execution_count": 46,
   "id": "930fa90c",
   "metadata": {},
   "outputs": [
    {
     "data": {
      "text/plain": [
       "'<html><body><pre>\\n[Congressional Bills 117th Congress]\\n[From the U.S. Government Publishing Office]\\n[H.R. 1112 Introduced in House (IH)]\\n\\n&lt;DOC&gt;\\n\\n\\n\\n\\n\\n\\n117th CONGRESS\\n  1st Session\\n                                H. R. 1112\\n\\n   To require a report on the military coup in Burma, and for other \\n                               purposes.\\n\\n\\n_______________________________________________________________________\\n\\n\\n                    IN THE HOUSE OF REPRESENTATIVES\\n\\n                           February 18, 2021\\n\\n    Mr. Connolly (for himself, Mr. Price of North Carolina, and Mr. \\n  Buchanan) introduced the following bill; which was referred to the \\n                      Committee on Foreign Affairs\\n\\n_______________________________________________________________________\\n\\n                                 A BILL\\n\\n\\n \\n   To require a report on the military coup in Burma, and for other \\n                               purposes.\\n\\n    Be it enacted by the Senate and House of Representatives of the'"
      ]
     },
     "execution_count": 46,
     "metadata": {},
     "output_type": "execute_result"
    }
   ],
   "source": [
    "decoded[0][:1000]"
   ]
  },
  {
   "cell_type": "markdown",
   "id": "32677ec1",
   "metadata": {},
   "source": [
    "SAVE DECODED FILE HERE FOR NEXT SECTION, CLEAN"
   ]
  },
  {
   "cell_type": "code",
   "execution_count": 48,
   "id": "c33bd34c",
   "metadata": {},
   "outputs": [],
   "source": [
    "with open('in/bill_text.txt', 'w') as f:\n",
    "    for item in decoded:\n",
    "        f.write(item)"
   ]
  },
  {
   "cell_type": "markdown",
   "id": "d3674ecc",
   "metadata": {},
   "source": [
    "## END OF SCRAPE SECTION"
   ]
  },
  {
   "cell_type": "markdown",
   "id": "82b01a97",
   "metadata": {},
   "source": [
    "## START OF CLEAN SECTION"
   ]
  },
  {
   "cell_type": "code",
   "execution_count": 49,
   "id": "8bcc4d75",
   "metadata": {},
   "outputs": [],
   "source": [
    "# The next step will be to clean the text of the html characters and other unwanted characters \n",
    "# and whitespace. \n",
    "\n",
    "# First, I load it back up. Then, I run a function to take out all of the = characters that \n",
    "# we don't want like `<html>`, `\\n`, `__`, as well as any whitespaces. Finally, I save to a \n",
    "# new text file, called `clean`.\n",
    "\n",
    "# loading up the texts that we just saved\n",
    "load = open('in/bill_text.txt')\n",
    "data = load.read()\n",
    "load.close()\n",
    "\n",
    "# remove all the characters in the \"take out\" list by writing a\n",
    "# loop that replaces those characters with an empty character, ''\n",
    "def clean_up(text):\n",
    "    take_out = ['\\n', '/n', '\\\\n', '_', '[', ']', '<html><body><pre>', '<html><body><pre>', '  ']\n",
    "    for item in take_out:\n",
    "        if item in text:\n",
    "            text = text.replace(item, '')\n",
    "    return text\n",
    "\n",
    "\n",
    "cleaned = clean_up(data)"
   ]
  },
  {
   "cell_type": "code",
   "execution_count": 50,
   "id": "85f803e8",
   "metadata": {},
   "outputs": [
    {
     "data": {
      "text/plain": [
       "str"
      ]
     },
     "execution_count": 50,
     "metadata": {},
     "output_type": "execute_result"
    }
   ],
   "source": [
    "type(cleaned)"
   ]
  },
  {
   "cell_type": "code",
   "execution_count": 51,
   "id": "a8729359",
   "metadata": {},
   "outputs": [
    {
     "data": {
      "text/plain": [
       "\"Congressional Bills 117th CongressFrom the U.S. Government Publishing OfficeH.R. 1112 Introduced in House (IH)&lt;DOC&gt;117th CONGRESS1st SessionH. R. 1112 To require a report on the military coup in Burma, and for otherpurposes.IN THE HOUSE OF REPRESENTATIVES February 18, 2021Mr. Connolly (for himself, Mr. Price of North Carolina, and Mr. Buchanan) introduced the following bill; which was referred to the Committee on Foreign Affairs A BILLTo require a report on the military coup in Burma, and for otherpurposes.Be it enacted by the Senate and House of Representatives of the United States of America in Congress assembled,SECTION 1. SHORT TITLE.This Act may be cited as the ``Protect Democracy in Burma Act of 2021''.SEC. 2. FINDINGS.Congress finds the following:(1) On March 14, 2005, the House of Representatives agreed to H. Res. 135, which established the House Democracy Assistance Commission (later changed to the House Democracy Partnership, hereafter referred to as ``HDP'') to work directly with parliaments around the world to support the development of effective, independent, and responsive legislative institutions.(2) HDP approved a legislative strengthening partnership with Burma in 2016 and organized the first congressional delegation to meet with the new civilian-led government, led by State Counselor Aung San Suu Kyi, and civil society leaders in May 2016.(3) On February 2, 2021, the U.S. Department of State assessed that Daw Aung San Suu Kyi, the leader of Burma's ruling party, and President Win Myint, the duly elected head of government, were deposed in a military coup on February 1, 2021.(4) As part of the military coup, the Burmese military declared martial law, suspended the civilian-led government, and detained newly elected Members of Parliament in the capitol, Naypyidaw, thereby usurping the role of the democratically elected government and parliament.SEC. 3. SENSE OF CONGRESS.It is the sense of Congress that--(1) due to the Burmese military's seizure of government through the detention of State Counsellor Aung San Suu Kyi, President Win Myint, and other government leaders, Burma is not represented by a democratically elected government;(2) the inability of newly elected Members of Parliament to begin their official mandate due to the Burmese military's actions directly threatens the democratic trajectory of Burma's Parliament, and thereby the country;(3) the will and determination of those duly-elected Members of Parliament who are taking it upon themselves to continue serving as representatives of the people through alternative methods of communicating and convening should be lauded; and(4) by preventing the Parliament from completing its work, the Burmese military has rendered impossible and effectively nullified the international collaborative relationships that have supported and strengthened the institution, including the Burmese parliament's partnership with HDP.SEC. 4. STATEMENT OF POLICY.It is the policy of the United Stat\""
      ]
     },
     "execution_count": 51,
     "metadata": {},
     "output_type": "execute_result"
    }
   ],
   "source": [
    "# check a slice of the text to see the results of cleaning\n",
    "\n",
    "cleaned[:3000]"
   ]
  },
  {
   "cell_type": "code",
   "execution_count": 52,
   "id": "e1493efd",
   "metadata": {},
   "outputs": [],
   "source": [
    "# save plain to a separate text file\n",
    "# MAKE SURE TO CHANGE THE NAME OF THE FILE!\n",
    "\n",
    "with open('test/clean.txt', 'w') as f:\n",
    "    f.write(cleaned)"
   ]
  },
  {
   "cell_type": "code",
   "execution_count": null,
   "id": "1defd563",
   "metadata": {},
   "outputs": [],
   "source": []
  }
 ],
 "metadata": {
  "kernelspec": {
   "display_name": "Python 3 (ipykernel)",
   "language": "python",
   "name": "python3"
  },
  "language_info": {
   "codemirror_mode": {
    "name": "ipython",
    "version": 3
   },
   "file_extension": ".py",
   "mimetype": "text/x-python",
   "name": "python",
   "nbconvert_exporter": "python",
   "pygments_lexer": "ipython3",
   "version": "3.11.0"
  }
 },
 "nbformat": 4,
 "nbformat_minor": 5
}
