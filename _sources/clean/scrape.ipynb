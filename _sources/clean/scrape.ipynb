{
 "cells": [
  {
   "cell_type": "markdown",
   "id": "6a17585d",
   "metadata": {},
   "source": [
    "# scraping our text"
   ]
  },
  {
   "cell_type": "markdown",
   "id": "a16154e2",
   "metadata": {},
   "source": [
    "Researchers generally only share the analysis they have done *after* they got the data, which makes it hard for beginners to replicate the process. For that reason, I'm showing the data gathering process. (FYI - I tried using the congress.gov API to get this dataset, which is always the right thing to do! But it doesn't offer the full text of the bill, so that's why I turned to scraping. For future reference, you can request an API key here: https://api.congress.gov/)\n",
    "\n",
    "Here, I'll go over the I wrote for downloading bill data from `congress.gov` and scraping the text of the individual bills. \n",
    "\n",
    "First, I got a list of the relevant bills using the regular search function on the `congress.gov` website. I did a search for the term \"transgender,\" and then downloading the results to a spreadsheet. (Side note: the ability to download results from a search is super useful, and most websites won't offer that functionality)\n",
    "\n",
    "![image of congress.gov search interface](./congress_gov.jpg)\n",
    "\n",
    "Then, I loaded up the file (a csv file) into a Python notebook. "
   ]
  },
  {
   "cell_type": "code",
   "execution_count": 2,
   "id": "3dcb5cd7",
   "metadata": {},
   "outputs": [],
   "source": [
    "import requests # for making http (web) requests\n",
    "import pandas as pd # for working with tabular (spreadsheet) data\n",
    "import csv # also for working with tabular data, in csv format\n",
    "\n",
    "# this grabs the CSV from the previous section. If you get a file\n",
    "# not found error make sure you go through the previous section to \n",
    "# save that csv\n",
    "bills = pd.read_csv('congress_clean.csv')\n",
    "\n",
    "df = pd.DataFrame(bills)"
   ]
  },
  {
   "cell_type": "code",
   "execution_count": 3,
   "id": "43063f6b",
   "metadata": {},
   "outputs": [
    {
     "name": "stdout",
     "output_type": "stream",
     "text": [
      "<class 'pandas.core.frame.DataFrame'>\n",
      "RangeIndex: 148 entries, 0 to 147\n",
      "Data columns (total 18 columns):\n",
      " #   Column                   Non-Null Count  Dtype  \n",
      "---  ------                   --------------  -----  \n",
      " 0   Unnamed: 0               148 non-null    int64  \n",
      " 1   Legislation Number       148 non-null    object \n",
      " 2   URL                      148 non-null    object \n",
      " 3   Congress                 148 non-null    object \n",
      " 4   Title                    146 non-null    object \n",
      " 5   Sponsor                  148 non-null    object \n",
      " 6   Party of Sponsor         148 non-null    object \n",
      " 7   Date of Introduction     115 non-null    object \n",
      " 8   Committees               114 non-null    object \n",
      " 9   Latest Action            146 non-null    object \n",
      " 10  Latest Action Date       146 non-null    object \n",
      " 11  Latest Summary           61 non-null     object \n",
      " 12  Amends Bill              33 non-null     object \n",
      " 13  Date Offered             31 non-null     object \n",
      " 14  Date Submitted           2 non-null      object \n",
      " 15  Date Proposed            0 non-null      float64\n",
      " 16  Amendment Text (Latest)  33 non-null     object \n",
      " 17  Amends Amendment         0 non-null      float64\n",
      "dtypes: float64(2), int64(1), object(15)\n",
      "memory usage: 20.9+ KB\n"
     ]
    }
   ],
   "source": [
    "df.info()"
   ]
  },
  {
   "cell_type": "markdown",
   "id": "9b507ad0",
   "metadata": {},
   "source": [
    "## extracting the bill number\n",
    "In order to scrape the bill text, we need just the bill number. In order to get that, we need to go through the `Legislation Number` column and extract just the number."
   ]
  },
  {
   "cell_type": "code",
   "execution_count": 4,
   "id": "9605b590",
   "metadata": {},
   "outputs": [
    {
     "data": {
      "text/plain": [
       "0        H.R. 1112\n",
       "1           S. 435\n",
       "2       H.Res. 886\n",
       "3       S.Res. 464\n",
       "4       H.Res. 269\n",
       "          ...     \n",
       "143    H.Amdt. 195\n",
       "144    H.Amdt. 193\n",
       "145    H.Amdt. 256\n",
       "146    H.Amdt. 257\n",
       "147    H.Amdt. 255\n",
       "Name: Legislation Number, Length: 148, dtype: object"
      ]
     },
     "execution_count": 4,
     "metadata": {},
     "output_type": "execute_result"
    }
   ],
   "source": [
    "df['Legislation Number']"
   ]
  },
  {
   "cell_type": "code",
   "execution_count": 5,
   "id": "00f8c038",
   "metadata": {},
   "outputs": [
    {
     "data": {
      "text/plain": [
       "['H.R.', '1112']"
      ]
     },
     "execution_count": 5,
     "metadata": {},
     "output_type": "execute_result"
    }
   ],
   "source": [
    "# we can use the split() method to split up the single string\n",
    "# into two strings, by the empty space in between them\n",
    "\n",
    "bill = \"H.R. 1112\"\n",
    "bill.split(' ')"
   ]
  },
  {
   "cell_type": "code",
   "execution_count": 6,
   "id": "3f62a9a8",
   "metadata": {},
   "outputs": [],
   "source": [
    "# we can write a for loop to append the number to a list\n",
    "# involves checking if the item is a number, using \"isnumeric\"\n",
    "\n",
    "numbers = []\n",
    "for item in bill.split(' '):\n",
    "    if item.isnumeric():\n",
    "        numbers.append(item)"
   ]
  },
  {
   "cell_type": "code",
   "execution_count": 7,
   "id": "5eff2430",
   "metadata": {},
   "outputs": [
    {
     "data": {
      "text/plain": [
       "'1112'"
      ]
     },
     "execution_count": 7,
     "metadata": {},
     "output_type": "execute_result"
    }
   ],
   "source": [
    "item"
   ]
  },
  {
   "cell_type": "markdown",
   "id": "d2bd6996",
   "metadata": {},
   "source": [
    "To extract the bill numbers, we will write a loop that:\n",
    "- goes through each row of `df['Legislation Number']`\n",
    "- turns that row into a string, using `str()` function \n",
    "- splits that row by the empty space using `split()`\n",
    "- writes another loop to check if the item `isnumeric()`\n",
    "- appends the numeric item to a new list"
   ]
  },
  {
   "cell_type": "code",
   "execution_count": 8,
   "id": "7c60e3c1",
   "metadata": {},
   "outputs": [],
   "source": [
    "## go through each row in numbers column of our spreadsheet\n",
    "## extract the number and put into a separate list\n",
    "numbers = []\n",
    "for row in df['Legislation Number']:\n",
    "    # need to change data type to string in order to use split()\n",
    "    row = str(row)\n",
    "    splitted = row.split(' ')\n",
    "    for item in splitted:\n",
    "        if item.isnumeric():\n",
    "            numbers.append(item)"
   ]
  },
  {
   "cell_type": "markdown",
   "id": "3d96f9d5",
   "metadata": {},
   "source": [
    "## scraping the bill text\n",
    "Using that list of numbers as input, we will write a function that scrapes the bill text."
   ]
  },
  {
   "cell_type": "code",
   "execution_count": 9,
   "id": "4b292b96",
   "metadata": {},
   "outputs": [],
   "source": [
    "# here we are introducing \"f-strings\", which is way of writing \"formatted strings\"\n",
    "# in python that allows us to input variables, like a bill number, in this case\n",
    "\n",
    "def scrape_bill_text(numbers):\n",
    "    bills_text = []\n",
    "    for item in numbers:\n",
    "        # f-string is used to add the specific bill number to the URL\n",
    "        url = (f'https://www.congress.gov/117/bills/hr{item}/BILLS-117hr{item}ih.htm')\n",
    "        # requests library to scrape the URL, which is formatted for each bill number\n",
    "        response = requests.get(url)\n",
    "        content = response.content\n",
    "        bills_text.append(content)\n",
    "    return bills_text"
   ]
  },
  {
   "cell_type": "markdown",
   "id": "a6f8b5e1",
   "metadata": {},
   "source": [
    "Calling the function and saving the results to `sample`"
   ]
  },
  {
   "cell_type": "code",
   "execution_count": 10,
   "id": "7b253ab3",
   "metadata": {},
   "outputs": [],
   "source": [
    "# so we don't overload the website, we will scrape just a sample of\n",
    "# the first 10 bills. This will be more than enough data for us to\n",
    "# practice cleaning.\n",
    "\n",
    "sample = scrape_bill_text(numbers[:10])"
   ]
  },
  {
   "cell_type": "code",
   "execution_count": 11,
   "id": "fa94da06",
   "metadata": {},
   "outputs": [
    {
     "data": {
      "text/plain": [
       "147"
      ]
     },
     "execution_count": 11,
     "metadata": {},
     "output_type": "execute_result"
    }
   ],
   "source": [
    "len(sample)"
   ]
  },
  {
   "cell_type": "code",
   "execution_count": 12,
   "id": "01493861",
   "metadata": {},
   "outputs": [
    {
     "data": {
      "text/plain": [
       "b\"<html><body><pre>\\n[Congressional Bills 117th Congress]\\n[From the U.S. Government Publishing Office]\\n[H.R. 1112 Introduced in House (IH)]\\n\\n&lt;DOC&gt;\\n\\n\\n\\n\\n\\n\\n117th CONGRESS\\n  1st Session\\n                                H. R. 1112\\n\\n   To require a report on the military coup in Burma, and for other \\n                               purposes.\\n\\n\\n_______________________________________________________________________\\n\\n\\n                    IN THE HOUSE OF REPRESENTATIVES\\n\\n                           February 18, 2021\\n\\n    Mr. Connolly (for himself, Mr. Price of North Carolina, and Mr. \\n  Buchanan) introduced the following bill; which was referred to the \\n                      Committee on Foreign Affairs\\n\\n_______________________________________________________________________\\n\\n                                 A BILL\\n\\n\\n \\n   To require a report on the military coup in Burma, and for other \\n                               purposes.\\n\\n    Be it enacted by the Senate and House of Representatives of the \\nUnited States of America in Congress assembled,\\n\\nSECTION 1. SHORT TITLE.\\n\\n    This Act may be cited as the ``Protect Democracy in Burma Act of \\n2021''.\\n\\nSEC. 2. FINDINGS.\\n\\n    Congress finds the following:\\n            (1) On March 14, 2005, the House of Representatives agreed \\n        to H. Res. 135, which established the House Democracy \\n        Assistance Commission (later changed to the House Democracy \\n        Partnership, hereafter referred to as ``HDP'') to work directly \\n        with parliaments around the world to support the development of \\n        effective, independent, and responsive legislative \\n        institutions.\\n            (2) HDP approved a legislative strengthening partnership \\n        with Burma in 2016 and organized the first congressional \\n        delegation to meet with the new civilian-led government, led by \\n        State Counselor Aung San Suu Kyi, and civil society leaders in \\n        May 2016.\\n            (3) On February 2, 2021, the U.S. Department of State \\n        assessed that Daw Aung San Suu Kyi, the leader of Burma's \\n        ruling party, and President Win Myint, the duly elected head of \\n        government, were deposed in a military coup on February 1, \\n        2021.\\n            (4) As part of the military coup, the Burmese military \\n        declared martial law, suspended the civilian-led government, \\n        and detained newly elected Members of Parliament in the \\n        capitol, Naypyidaw, thereby usurping the role of the \\n        democratically elected government and parliament.\\n\\nSEC. 3. SENSE OF CONGRESS.\\n\\n    It is the sense of Congress that--\\n            (1) due to the Burmese military's seizure of government \\n        through the detention of State Counsellor Aung San Suu Kyi, \\n        President Win Myint, and other government leaders, Burma is not \\n        represented by a democratically elected government;\\n            (2) the inability of newly elected Members of Parliament to \\n        begin their official mandate due to the Burmese military's \\n        actions directly threatens the democratic trajectory of Burma's \\n        Parliament, and thereby the country;\\n            (3) the will and determination of those duly-elected \\n        Members of Parliament who are taking it upon themselves to \\n        continue serving as representatives of the people through \\n        alternative methods of communicating and convening should be \\n        lauded; and\\n            (4) by preventing the Parliament from completing its work, \\n        the Burmese military has rendered impossible and effectively \\n        nullified the international collaborative relationships that \\n        have supported and strengthened the institution, including the \\n        Burmese parliament's partnership with HDP.\\n\\nSEC. 4. STATEMENT OF POLICY.\\n\\n    It is the policy of the United States to--\\n            (1) engage with the Association of Southeast Asian Nations \\n        (ASEAN) and ASEAN member states to--\\n                    (A) condemn the military coup in Burma;\\n                    (B) urge the unconditional release of detained \\n                democratically elected leaders and civil society \\n                members; and\\n                    (C) support a return to Burma's democratic \\n                transition; and\\n            (2) instruct, as appropriate, representatives of the United \\n        States Government to use the voice, vote, and influence of the \\n        United States at the United Nations to hold accountable those \\n        responsible for the military coup in Burma.\\n\\nSEC. 5. REPORT.\\n\\n    Not later than 90 days after the date of the enactment of this Act, \\nthe Secretary of State shall submit to the Committee on Foreign Affairs \\nand the Committee on Appropriations of the House of Representatives and \\nthe Committee on Foreign Relations and the Committee on Appropriations \\nof the Senate a report on the military coup in Burma, including a \\ndescription of efforts to implement the policy specified in section 4.\\n                                 &lt;all&gt;\\n</pre></body></html>\\n\""
      ]
     },
     "execution_count": 12,
     "metadata": {},
     "output_type": "execute_result"
    }
   ],
   "source": [
    "# let's check out our first item (the first bill text) in the list \n",
    "\n",
    "sample[0]"
   ]
  },
  {
   "cell_type": "markdown",
   "id": "a59e423a",
   "metadata": {},
   "source": [
    "## decoding text from bytes to string\n",
    "We will \"decode\" the bytes type of data into a string, so we can eventually save it as a string format. "
   ]
  },
  {
   "cell_type": "code",
   "execution_count": 13,
   "id": "c351a0f1",
   "metadata": {},
   "outputs": [
    {
     "data": {
      "text/plain": [
       "list"
      ]
     },
     "execution_count": 13,
     "metadata": {},
     "output_type": "execute_result"
    }
   ],
   "source": [
    "# Use type() to see what kind of data we are working with.\n",
    "# list type \n",
    "\n",
    "type(sample)"
   ]
  },
  {
   "cell_type": "code",
   "execution_count": 14,
   "id": "2e221184",
   "metadata": {},
   "outputs": [
    {
     "data": {
      "text/plain": [
       "bytes"
      ]
     },
     "execution_count": 14,
     "metadata": {},
     "output_type": "execute_result"
    }
   ],
   "source": [
    "# within the list, bytes type\n",
    "\n",
    "type(sample[0])"
   ]
  },
  {
   "cell_type": "code",
   "execution_count": 15,
   "id": "d5e226ef",
   "metadata": {},
   "outputs": [],
   "source": [
    "# turn bytes into string using decode()\n",
    "decoded = []\n",
    "for item in sample:\n",
    "    decoded.append(item.decode('utf-8'))"
   ]
  },
  {
   "cell_type": "code",
   "execution_count": 16,
   "id": "19211761",
   "metadata": {},
   "outputs": [
    {
     "data": {
      "text/plain": [
       "str"
      ]
     },
     "execution_count": 16,
     "metadata": {},
     "output_type": "execute_result"
    }
   ],
   "source": [
    "type(decoded[0])"
   ]
  },
  {
   "cell_type": "code",
   "execution_count": 17,
   "id": "933950e7",
   "metadata": {},
   "outputs": [
    {
     "data": {
      "text/plain": [
       "\"<html><body><pre>\\n[Congressional Bills 117th Congress]\\n[From the U.S. Government Publishing Office]\\n[H.R. 1112 Introduced in House (IH)]\\n\\n&lt;DOC&gt;\\n\\n\\n\\n\\n\\n\\n117th CONGRESS\\n  1st Session\\n                                H. R. 1112\\n\\n   To require a report on the military coup in Burma, and for other \\n                               purposes.\\n\\n\\n_______________________________________________________________________\\n\\n\\n                    IN THE HOUSE OF REPRESENTATIVES\\n\\n                           February 18, 2021\\n\\n    Mr. Connolly (for himself, Mr. Price of North Carolina, and Mr. \\n  Buchanan) introduced the following bill; which was referred to the \\n                      Committee on Foreign Affairs\\n\\n_______________________________________________________________________\\n\\n                                 A BILL\\n\\n\\n \\n   To require a report on the military coup in Burma, and for other \\n                               purposes.\\n\\n    Be it enacted by the Senate and House of Representatives of the \\nUnited States of America in Congress assembled,\\n\\nSECTION 1. SHORT TITLE.\\n\\n    This Act may be cited as the ``Protect Democracy in Burma Act of \\n2021''.\\n\\nSEC. 2. FINDINGS.\\n\\n    Congress finds the following:\\n            (1) On March 14, 2005, the House of Representatives agreed \\n        to H. Res. 135, which established the House Democracy \\n        Assistance Commission (later changed to the House Democracy \\n        Partnership, hereafter referred to as ``HDP'') to work directly \\n        with parliaments around the world to support the development of \\n        effective, independent, and responsive legislative \\n        institutions.\\n            (2) HDP approved a legislative strengthening partnership \\n        with Burma in 2016 and organized the first congressional \\n        delegation to meet with the new civilian-led government, led by \\n        State Counselor Aung San Suu Kyi, and civil society leaders in \\n        May 2016.\\n            (3) On February 2, 2021, the U.S. Department of State \\n        assessed that Daw Aung San Suu Kyi, the leader of Burma's \\n        ruling party, and President Win Myint, the duly elected head of \\n        government, were deposed in a military coup on February 1, \\n        2021.\\n            (4) As part of the military coup, the Burmese military \\n        declared martial law, suspended the civilian-led government, \\n        and detained newly elected Members of Parliament in the \\n        capitol, Naypyidaw, thereby usurping the role of the \\n        democratically elected government and parliament.\\n\\nSEC. 3. SENSE OF CONGRESS.\\n\\n    It is the sense of Congress that--\\n            (1) due to the Burmese military's seizure of government \\n        through the detention of State Counsellor Aung San Suu Kyi, \\n        President Win Myint, and other government leaders, Burma is not \\n        represented by a democratically elected government;\\n            (2) the inability of newly elected Members of Parliament to \\n        begin their official mandate due to the Burmese military's \\n        actions directly threatens the democratic trajectory of Burma's \\n        Parliament, and thereby the country;\\n            (3) the will and determination of those duly-elected \\n        Members of Parliament who are taking it upon themselves to \\n        continue serving as representatives of the people through \\n        alternative methods of communicating and convening should be \\n        lauded; and\\n            (4) by preventing the Parliament from completing its work, \\n        the Burmese military has rendered impossible and effectively \\n        nullified the international collaborative relationships that \\n        have supported and strengthened the institution, including the \\n        Burmese parliament's partnership with HDP.\\n\\nSEC. 4. STATEMENT OF POLICY.\\n\\n    It is the policy of the United States to--\\n            (1) engage with the Association of Southeast Asian Nations \\n        (ASEAN) and ASEAN member states to--\\n                    (A) condemn the military coup in Burma;\\n                    (B) urge the unconditional release of detained \\n                democratically elected leaders and civil society \\n                members; and\\n                    (C) support a return to Burma's democratic \\n                transition; and\\n            (2) instruct, as appropriate, representatives of the United \\n        States Government to use the voice, vote, and influence of the \\n        United States at the United Nations to hold accountable those \\n        responsible for the military coup in Burma.\\n\\nSEC. 5. REPORT.\\n\\n    Not later than 90 days after the date of the enactment of this Act, \\nthe Secretary of State shall submit to the Committee on Foreign Affairs \\nand the Committee on Appropriations of the House of Representatives and \\nthe Committee on Foreign Relations and the Committee on Appropriations \\nof the Senate a report on the military coup in Burma, including a \\ndescription of efforts to implement the policy specified in section 4.\\n                                 &lt;all&gt;\\n</pre></body></html>\\n\""
      ]
     },
     "execution_count": 17,
     "metadata": {},
     "output_type": "execute_result"
    }
   ],
   "source": [
    "decoded[0]"
   ]
  },
  {
   "cell_type": "code",
   "execution_count": 18,
   "id": "cfac21e5",
   "metadata": {},
   "outputs": [],
   "source": [
    "with open('sample.txt', 'w') as f:\n",
    "    for item in decoded:\n",
    "        f.write(item)"
   ]
  },
  {
   "cell_type": "code",
   "execution_count": null,
   "id": "1888da88",
   "metadata": {},
   "outputs": [],
   "source": []
  }
 ],
 "metadata": {
  "kernelspec": {
   "display_name": "Python 3 (ipykernel)",
   "language": "python",
   "name": "python3"
  },
  "language_info": {
   "codemirror_mode": {
    "name": "ipython",
    "version": 3
   },
   "file_extension": ".py",
   "mimetype": "text/x-python",
   "name": "python",
   "nbconvert_exporter": "python",
   "pygments_lexer": "ipython3",
   "version": "3.11.0"
  }
 },
 "nbformat": 4,
 "nbformat_minor": 5
}
