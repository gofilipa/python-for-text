{
 "cells": [
  {
   "cell_type": "markdown",
   "id": "d9b8b441",
   "metadata": {},
   "source": [
    "# cleaning our text\n",
    "In this section we will clean the bill text that we scraped from the last section. We will do this in the following steps:\n",
    "1. get our text (if we don't already have it loaded up) from either scraping or loading the file from the previous section.\n",
    "2. inspect our text to identify elements that we want to clean\n",
    "3. write loops to remove these elements from the text\n",
    "4. learn about functions so we can write one to clean our text in an automatic way\n",
    "5. keep improving the funtion to clean more and more elements"
   ]
  },
  {
   "cell_type": "code",
   "execution_count": 1,
   "id": "8975d1b6",
   "metadata": {},
   "outputs": [],
   "source": [
    "# run the lines below to load up the text from the course website\n",
    "\n",
    "import requests\n",
    "source = requests.get('https://bit.ly/transgender_text')\n",
    "text = source.content"
   ]
  },
  {
   "cell_type": "code",
   "execution_count": 2,
   "id": "4058f724",
   "metadata": {},
   "outputs": [
    {
     "data": {
      "text/plain": [
       "b'<html><body><pre>\\n[Congressional Bills 117th Congress]\\n[From the U.S. Government Publishing Office]\\n'"
      ]
     },
     "execution_count": 2,
     "metadata": {},
     "output_type": "execute_result"
    }
   ],
   "source": [
    "text[:100]"
   ]
  },
  {
   "cell_type": "code",
   "execution_count": 3,
   "id": "a913216a",
   "metadata": {},
   "outputs": [],
   "source": [
    "text = text.decode('utf-8')"
   ]
  },
  {
   "cell_type": "code",
   "execution_count": 4,
   "id": "3e4042e7",
   "metadata": {},
   "outputs": [],
   "source": [
    "# alternatively, uncomment the bottom four lines to load it from your own space\n",
    "# notice that the data is already in a string format.\n",
    "\n",
    "# load = open('sample.txt')\n",
    "# loaded_text = load.read()\n",
    "# load.close()\n",
    "# loaded_text[:100]"
   ]
  },
  {
   "cell_type": "markdown",
   "id": "abeb1c7f",
   "metadata": {},
   "source": [
    "## inspecting our text\n",
    "Remember slicing? Take some slices of the text to see what elements we want to clean. Come up with a list of things that we want to remove."
   ]
  },
  {
   "cell_type": "code",
   "execution_count": 5,
   "id": "797b7e74",
   "metadata": {},
   "outputs": [
    {
     "data": {
      "text/plain": [
       "'<html><body><pre>\\n[Congressional Bills 117th Congress]\\n[From the U.S. Government Publishing Office]\\n[H.R. 1112 Introduced in House (IH)]\\n\\n&lt;DOC&gt;\\n\\n\\n\\n\\n\\n\\n117th CONGRESS\\n  1st Session\\n                                H. R. 1112\\n\\n   To require a report on the military coup in Burma, and for other \\n                               purposes.\\n\\n\\n_______________________________________________________________________\\n\\n\\n                    IN THE HOUSE OF REPRESENTATIVES\\n\\n                           February 18, 2021\\n\\n    Mr. Connolly (for himself, Mr. Price of North Carolina, and Mr. \\n  Buchanan) introduced the following bill; which was referred to the \\n                      Committee on Foreign Affairs\\n\\n_______________________________________________________________________\\n\\n                                 A BILL\\n\\n\\n \\n   To require a report on the military coup in Burma, and for other \\n                               purposes.\\n\\n    Be it enacted by the Senate and House of Representatives of the'"
      ]
     },
     "execution_count": 5,
     "metadata": {},
     "output_type": "execute_result"
    }
   ],
   "source": [
    "text[:1000]"
   ]
  },
  {
   "cell_type": "code",
   "execution_count": 6,
   "id": "04aee956",
   "metadata": {},
   "outputs": [
    {
     "data": {
      "text/plain": [
       "\"due to the Burmese military's \\n        actions directly threatens the democratic trajectory of Burma's \\n        Parliament, and thereby the country;\\n            (3) the will and determination of those duly-elected \\n        Members of Parliament who are taking it upon themselves to \\n        continue serving as representatives of the people through \\n        alternative methods of communicating and convening should be \\n        lauded; and\\n            (4) by preventing the Parliament from completing its work, \\n        the Burmese military has rendered impossible and effectively \\n        nullified the international collaborative relationships that \\n        have supported and strengthened the institution, including the \\n        Burmese parliament's partnership with HDP.\\n\\nSEC. 4. STATEMENT OF POLICY.\\n\\n    It is the policy of the United States to--\\n            (1) engage with the Association of Southeast Asian Nations \\n        (ASEAN) and ASEAN member states to--\\n                    (A) condem\""
      ]
     },
     "execution_count": 6,
     "metadata": {},
     "output_type": "execute_result"
    }
   ],
   "source": [
    "text[3000:4000]"
   ]
  },
  {
   "cell_type": "markdown",
   "id": "09bbdc90",
   "metadata": {},
   "source": [
    "## looping through the text to `replace()` it\n",
    "These are the elements we want to clean, as well as the large blank spaces: \n",
    "\n",
    "```\n",
    "\\n\n",
    "/n\n",
    "\\\\n\n",
    "_\n",
    "[\n",
    "]\n",
    "<html><body><pre>\n",
    "<html><body><pre>\n",
    "```"
   ]
  },
  {
   "cell_type": "markdown",
   "id": "20a28f5a",
   "metadata": {},
   "source": [
    "When you have a lot of items to remove at once, it's best to put them into a list. Then we can write a loop that goes through each item in the \"take out\" list to see if it's in the text data. If it is, we will replace that item with a blank space."
   ]
  },
  {
   "cell_type": "code",
   "execution_count": 25,
   "id": "39cd8d5f",
   "metadata": {},
   "outputs": [],
   "source": [
    "to_take_out = ['\\n', '/n', '\\\\n', '_', '[', ']', '<html><body><pre>', '<html><body><pre>', '  ']"
   ]
  },
  {
   "cell_type": "code",
   "execution_count": 26,
   "id": "721a4739",
   "metadata": {},
   "outputs": [],
   "source": [
    "for item in to_take_out:\n",
    "    if item in text:\n",
    "        # here is a complicated line of code: \n",
    "        # we are replacing the item with nothing, indicated by two quotes \n",
    "        # then we are saving those results to \"text\", effectively overwriting\n",
    "        # the variable. \n",
    "        text = text.replace(item, '')"
   ]
  },
  {
   "cell_type": "code",
   "execution_count": 28,
   "id": "4e692296",
   "metadata": {},
   "outputs": [
    {
     "data": {
      "text/plain": [
       "\"Congressional Bills 117th CongressFrom the U.S. Government Publishing OfficeH.R. 1112 Introduced in House (IH)&lt;DOC&gt;117th CONGRESS1st SessionH. R. 1112 To require a report on the military coup in Burma, and for otherpurposes.IN THE HOUSE OF REPRESENTATIVES February 18, 2021Mr. Connolly (for himself, Mr. Price of North Carolina, and Mr. Buchanan) introduced the following bill; which was referred to the Committee on Foreign Affairs A BILLTo require a report on the military coup in Burma, and for otherpurposes.Be it enacted by the Senate and House of Representatives of the United States of America in Congress assembled,SECTION 1. SHORT TITLE.This Act may be cited as the ``Protect Democracy in Burma Act of 2021''.SEC. 2. FINDINGS.Congress finds the following:(1) On March 14, 2005, the House of Representatives agreed to H. Res. 135, which established the House Democracy Assistance Commission (later changed to the House Democracy Partnership, hereafter referred to as ``HDP'') to work di\""
      ]
     },
     "execution_count": 28,
     "metadata": {},
     "output_type": "execute_result"
    }
   ],
   "source": [
    "text[:1000]"
   ]
  },
  {
   "cell_type": "markdown",
   "id": "ba54fe78",
   "metadata": {},
   "source": [
    "## function to automate cleaning\n",
    "Let's say we want to do this to many bits of text, not just one. We could automate the work by writing a function that can run on as many texts as we want. \n",
    "\n",
    "Functions have two key components: the definition and the call. You first define the function and what it does, then you \"call\" it to get it to work on a particular piece of data. \n",
    "\n",
    "Let's start with the definition. First, you name the function, and include parentheses for your parameters (more on this in a moment). Then, in the body of the definition, you write whatever python code you want to execute for that function. Finally, you have a return statement that saves or \"returns\" the result, so to speak, from the function. "
   ]
  },
  {
   "cell_type": "code",
   "execution_count": 29,
   "id": "c369cd6f",
   "metadata": {},
   "outputs": [],
   "source": [
    "def add(x,y):\n",
    "    answer = x + y\n",
    "    return answer"
   ]
  },
  {
   "cell_type": "markdown",
   "id": "5df91a7f",
   "metadata": {},
   "source": [
    "Then we call the function."
   ]
  },
  {
   "cell_type": "code",
   "execution_count": 30,
   "id": "a29e3896",
   "metadata": {},
   "outputs": [
    {
     "data": {
      "text/plain": [
       "10026"
      ]
     },
     "execution_count": 30,
     "metadata": {},
     "output_type": "execute_result"
    }
   ],
   "source": [
    "add(5, 10021)"
   ]
  },
  {
   "cell_type": "markdown",
   "id": "19f1eda5",
   "metadata": {},
   "source": [
    "The basic idea is that the input data, whatever data you want the function to work with, goes inside the parentheses. So that within the body of the function definition, that input data (known formally as \"parameters\") gets assigned to whatever variable is in the definition. \n",
    "\n",
    "This makes functions portable, so to speak, as you can write one, then call it using whatever input data that you like.\n",
    "\n",
    "What would a function for our text cleaner look like?"
   ]
  },
  {
   "cell_type": "code",
   "execution_count": 31,
   "id": "c2bdd92b",
   "metadata": {},
   "outputs": [],
   "source": [
    "# remove all the characters in the \"take out\" list by writing a\n",
    "# loop that replaces those characters with an empty character, ''\n",
    "def clean_up(data):\n",
    "    to_take_out = ['\\n', '/n', '\\\\n', '_', '[', ']', '<html><body><pre>', '<html><body><pre>', '  ']\n",
    "    for item in to_take_out:\n",
    "        if item in data:\n",
    "            data = data.replace(item, '')\n",
    "    return data"
   ]
  },
  {
   "cell_type": "code",
   "execution_count": 32,
   "id": "077a1e12",
   "metadata": {},
   "outputs": [],
   "source": [
    "cleaned = clean_up(text)"
   ]
  },
  {
   "cell_type": "code",
   "execution_count": 33,
   "id": "e24e63b1",
   "metadata": {},
   "outputs": [
    {
     "data": {
      "text/plain": [
       "\"Congressional Bills 117th CongressFrom the U.S. Government Publishing OfficeH.R. 1112 Introduced in House (IH)&lt;DOC&gt;117th CONGRESS1st SessionH. R. 1112 To require a report on the military coup in Burma, and for otherpurposes.IN THE HOUSE OF REPRESENTATIVES February 18, 2021Mr. Connolly (for himself, Mr. Price of North Carolina, and Mr. Buchanan) introduced the following bill; which was referred to the Committee on Foreign Affairs A BILLTo require a report on the military coup in Burma, and for otherpurposes.Be it enacted by the Senate and House of Representatives of the United States of America in Congress assembled,SECTION 1. SHORT TITLE.This Act may be cited as the ``Protect Democracy in Burma Act of 2021''.SEC. 2. FINDINGS.Congress finds the following:(1) On March 14, 2005, the House of Representatives agreed to H. Res. 135, which established the House Democracy Assistance Commission (later changed to the House Democracy Partnership, hereafter referred to as ``HDP'') to work di\""
      ]
     },
     "execution_count": 33,
     "metadata": {},
     "output_type": "execute_result"
    }
   ],
   "source": [
    "cleaned[:1000]"
   ]
  },
  {
   "cell_type": "markdown",
   "id": "f2aff266",
   "metadata": {},
   "source": [
    "Finally, we save our text. And that's it!"
   ]
  },
  {
   "cell_type": "code",
   "execution_count": 34,
   "id": "db849a72",
   "metadata": {},
   "outputs": [],
   "source": [
    "with open('clean_sample.txt', 'w') as f:\n",
    "    f.write(cleaned)"
   ]
  },
  {
   "cell_type": "code",
   "execution_count": null,
   "id": "03e9d41d",
   "metadata": {},
   "outputs": [],
   "source": []
  }
 ],
 "metadata": {
  "kernelspec": {
   "display_name": "Python 3 (ipykernel)",
   "language": "python",
   "name": "python3"
  },
  "language_info": {
   "codemirror_mode": {
    "name": "ipython",
    "version": 3
   },
   "file_extension": ".py",
   "mimetype": "text/x-python",
   "name": "python",
   "nbconvert_exporter": "python",
   "pygments_lexer": "ipython3",
   "version": "3.11.0"
  }
 },
 "nbformat": 4,
 "nbformat_minor": 5
}
