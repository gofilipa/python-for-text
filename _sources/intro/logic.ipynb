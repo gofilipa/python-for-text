{
 "cells": [
  {
   "cell_type": "markdown",
   "metadata": {},
   "source": [
    "# logic\n",
    "\n",
    "Logic allows programmers to write code that can make decisions based\n",
    "on certain conditions. It enables what is called \\\"control flow,\\\" which\n",
    "is to direct the order of code execution throughout a program.\n",
    "\n",
    "Logic works by inserting conditions into the code. If the condition\n",
    "evaluates to be true, then a desired expression can execute. If the\n",
    "condition evaluates to be false, then another expression (or no\n",
    "expression at all) can execute.\n",
    "\n",
    "Logic structures are very useful when working with text, because we can\n",
    "specify what kinds of text should pass the condition, thus filtering out parts of the text."
   ]
  },
  {
   "cell_type": "markdown",
   "metadata": {},
   "source": [
    "## `boolean`\n",
    "\n",
    "First, let\\'s take a closer look at a very important data type, `booleans`. If you remember, a boolean is a `True`\n",
    "or `False` value."
   ]
  },
  {
   "cell_type": "code",
   "execution_count": null,
   "metadata": {
    "vscode": {
     "languageId": "plaintext"
    }
   },
   "outputs": [],
   "source": [
    "type(True)"
   ]
  },
  {
   "cell_type": "code",
   "execution_count": null,
   "metadata": {
    "vscode": {
     "languageId": "plaintext"
    }
   },
   "outputs": [],
   "source": [
    "type(False)"
   ]
  },
  {
   "cell_type": "markdown",
   "metadata": {},
   "source": [
    "\n",
    "But why do these values need a separate data type? The answer is because\n",
    "computer programs *make decisions* based on whether expressions are true\n",
    "or false."
   ]
  },
  {
   "cell_type": "code",
   "execution_count": null,
   "metadata": {
    "vscode": {
     "languageId": "plaintext"
    }
   },
   "outputs": [],
   "source": [
    "10 > 5"
   ]
  },
  {
   "cell_type": "markdown",
   "metadata": {},
   "source": [
    "To evaluate whether expressions are true or false, we can use certain\n",
    "operators, like `>`, `<`, or `==` to check equivalence. See [w3schools for a full list of operators](https://www.w3schools.com/python/python_operators.asp)."
   ]
  },
  {
   "cell_type": "code",
   "execution_count": null,
   "metadata": {
    "vscode": {
     "languageId": "plaintext"
    }
   },
   "outputs": [],
   "source": [
    "10 == 5"
   ]
  },
  {
   "cell_type": "markdown",
   "metadata": {},
   "source": [
    "Note that the equivalence operator `==` is different from the assignment\n",
    "operator `=` which would be used to assign a variable say in `x = 3`."
   ]
  },
  {
   "cell_type": "markdown",
   "metadata": {},
   "source": [
    "## `if statement`\n",
    "\n",
    "Using `boolean` logic, we can write a conditional statement that checks\n",
    "whether certain conditions are true. This type of statment is called the\n",
    "`if statement`"
   ]
  },
  {
   "cell_type": "code",
   "execution_count": null,
   "metadata": {
    "vscode": {
     "languageId": "plaintext"
    }
   },
   "outputs": [],
   "source": [
    "if 10 > 5:\n",
    "    print(\"This expression is true!\")"
   ]
  },
  {
   "cell_type": "markdown",
   "metadata": {},
   "source": [
    "This conditional statement will print a string if the condition\n",
    "evaluates to `True`. Python will first check if the integer 10 is\n",
    "greater than 5, and if it is, it will print the string contained within\n",
    "the `print()` function\\'s parentheses.\n",
    "\n",
    "Notice that the code here indents automatically on\n",
    "the second line (like the `for loop`). This creates what is called a \\\"code block,\\\" which is\n",
    "Python\\'s way of grouping code into one logical unit, whose expressions\n",
    "should be executed together, in the order that they are written.\n",
    "\n",
    "The `if statement` can also be expanded to specify more conditions, with\n",
    "the `elif` expression, or to include a catchall for cases that do not\n",
    "meet the conditions, with `else`"
   ]
  },
  {
   "cell_type": "code",
   "execution_count": null,
   "metadata": {
    "vscode": {
     "languageId": "plaintext"
    }
   },
   "outputs": [],
   "source": [
    "if 10 == 5:\n",
    "    print(\"10 is equal to 5\")\n",
    "elif 10 == 9:\n",
    "    print(\"10 is equal to 9\")\n",
    "else:\n",
    "    print(\"10 is not equal to 5\")"
   ]
  },
  {
   "cell_type": "markdown",
   "metadata": {},
   "source": [
    "We can add as many `elif` expressions as we like, to account for many\n",
    "conditions in our code."
   ]
  },
  {
   "cell_type": "markdown",
   "metadata": {},
   "source": [
    "## looping with conditions\n",
    "\n",
    "In this next and final section, we will add logic to our loop from the\n",
    "previous section, using the text from our opening script. Remember that a loop goes through a collection of\n",
    "items, like strings in a list, and does something to each item."
   ]
  },
  {
   "cell_type": "code",
   "execution_count": null,
   "metadata": {
    "vscode": {
     "languageId": "plaintext"
    }
   },
   "outputs": [],
   "source": [
    "for letter in 'hello':\n",
    "    print(letter)"
   ]
  },
  {
   "cell_type": "markdown",
   "metadata": {},
   "source": [
    "Now let's save our text as \"text\" variable. Then, we can split the text from a long string into a list of sentences. "
   ]
  },
  {
   "cell_type": "code",
   "execution_count": null,
   "metadata": {
    "vscode": {
     "languageId": "plaintext"
    }
   },
   "outputs": [],
   "source": [
    "text = ''' \n",
    "  1. We refuse to operate under the assumption that risk and harm\n",
    "  associated with data practices can be bounded to  mean the same\n",
    "  thing for everyone, everywhere, at every time. We commit to\n",
    "  acknowledging how historical and systemic patterns of violence \n",
    "  and exploitation produce differential vulnerabilities for \n",
    "  communities.\n",
    "  2. We refuse to be disciplined by data, devices, and practices \n",
    "  that seek to shape and normalize racialized, gendered, and \n",
    "  differently-abled bodies in ways that make us available to be \n",
    "  tracked, monitored, and surveilled. We commit to taking back \n",
    "  control over the ways we behave, live, and engage with data and \n",
    "  its technologies.\n",
    "  3. We refuse the use of data about people in perpetuity. We \n",
    "  commit to embracing agency and working with intentionality, \n",
    "  preparing bodies or corpuses of data to be laid to rest when they \n",
    "  are not being used in service to the people about whom they were \n",
    "  created.\n",
    "  4. We refuse to understand data as disembodied and thereby \n",
    "  dehumanized and departicularized. We commit to understanding \n",
    "  data as always and variously attached to bodies; we vow to \n",
    "  interrogate the biopolitical implications of data with a keen \n",
    "  eye to gender, race, sexuality, class, disability, nationality, \n",
    "  and other forms of embodied difference.\n",
    "  5. We refuse any code of phony “ethics” and false proclamations of \n",
    "  transparency that are wielded as cover, as tools of power, as forms \n",
    "  for escape that let the people who create systems off the hook from \n",
    "  accountability or responsibility. We commit to a feminist data \n",
    "  ethics that explicitly seeks equity and demands justice by helping \n",
    "  us understand and shift how power works.'''\n",
    "  \n",
    "sentences = text.split('.')"
   ]
  },
  {
   "cell_type": "markdown",
   "metadata": {},
   "source": [
    "Notice something new: we\\'ve split the text by *sentence* rather than\n",
    "*word*. How did we do that? The `split()` method enables us to specify\n",
    "(if we choose to) a delimiter to split the string. If we do not specify\n",
    "a delimiter, then it defaults to whitespace. For this case, we will\n",
    "split the string by period, which we will put between quotes `'.'`. The\n",
    "output will then be a list of sentences."
   ]
  },
  {
   "cell_type": "markdown",
   "metadata": {},
   "source": [
    "Next, we will write a new loop that includes a condition. This condition\n",
    "will check whether a sentence from the text contains the word\n",
    "\\\"refuse.\\\" If it does contain the word, it will add it to the new list,\n",
    "which we will call \\\"results.\\\""
   ]
  },
  {
   "cell_type": "code",
   "execution_count": null,
   "metadata": {
    "vscode": {
     "languageId": "plaintext"
    }
   },
   "outputs": [],
   "source": [
    "results = []\n",
    "for i in sentences:\n",
    "  if 'refuse' in i:\n",
    "      results.append(i)\n",
    "\n",
    " print(results)"
   ]
  },
  {
   "cell_type": "markdown",
   "metadata": {},
   "source": [
    "Notice that we are using list slicing to print only the first twenty\n",
    "words from the output, so we can avoid printing out a large list, which\n",
    "takes a lot of space on the screen.\n",
    "\n",
    "Now, try running the same code, but alter the word 'refuse' to be all capitals. The output should\n",
    "show an empty list (with empty brackets). Why do think it did that?"
   ]
  },
  {
   "cell_type": "markdown",
   "metadata": {},
   "source": [
    "## the end\n",
    "\n",
    "Congratulations on making it through the workshop! You are officially a beginner now.\n",
    "\n",
    "In the next workshop, we build on these skills in the practice of web scraping and APIs. We will create a dataset that we will clean, process, and analyze in future sessions."
   ]
  }
 ],
 "metadata": {
  "language_info": {
   "name": "python"
  },
  "orig_nbformat": 4
 },
 "nbformat": 4,
 "nbformat_minor": 2
}
