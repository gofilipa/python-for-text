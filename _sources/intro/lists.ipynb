{
 "cells": [
  {
   "cell_type": "markdown",
   "metadata": {},
   "source": [
    "# lists"
   ]
  },
  {
   "cell_type": "markdown",
   "metadata": {},
   "source": [
    "The `list` data type is perhaps the most common data type for working\n",
    "with text. Textual data tends to be saved as a `list`, or a collection\n",
    "of separate `strings`, each string consisting of a sequence of\n",
    "characters that represents a single word. \n",
    "\n",
    "It is important to remember\n",
    "that while humans might read each `string` as a word, the computer does\n",
    "not ascribe any semantic value to it, only processing it as sequence of\n",
    "characters."
   ]
  },
  {
   "cell_type": "markdown",
   "metadata": {},
   "source": [
    "## `list` indexing\n",
    "\n",
    "List indexing enables programmers access specific items in a list. It is super useful for working with large lists, such as a\n",
    "full text, or even a collection of texts. It works by accessing items\n",
    "according to their position within a list. \n",
    "\n",
    "By \"position,\" I mean where that item is located on a list. The moment a\n",
    "list is created in Python, it comes with an implicit index, where each\n",
    "item is assigned a numerical position based on its location. The first item is assigned to the\n",
    "position 0, the second item is assigned 1, the third item is assigned 2,\n",
    "the fourth item assigned 3, and so on.\n",
    "\n",
    "The syntax for list indexing is to declare the list name followed by\n",
    "brackets that contain the index. The first item in a list would be\n",
    "accessed with the index 0."
   ]
  },
  {
   "cell_type": "code",
   "execution_count": null,
   "metadata": {
    "vscode": {
     "languageId": "plaintext"
    }
   },
   "outputs": [],
   "source": [
    "breakfast = ['granola', 'cashew yogurt', 'strawberries', 'mango',\n",
    "'coffee']\n",
    "\n",
    "breakfast[0]"
   ]
  },
  {
   "cell_type": "markdown",
   "metadata": {},
   "source": [
    "*Advanced question: Why does list indexing begin with 0?* \n",
    "\n",
    "*The answer is a bit complicated,\n",
    "and gets into technical details of how computer memory works in\n",
    "programming. Put simply, it has to do with the memory location being\n",
    "based in offsets. Because the first item of a list is also\n",
    "the origin location of the list, its offset is 0. In other words, to go\n",
    "to the first item in the list, there is no movement (or offset) from the\n",
    "current, or origin, location. The second item of the list requires 1\n",
    "movement from current location, and is therefore assigned to the\n",
    "location 1.*"
   ]
  },
  {
   "cell_type": "markdown",
   "metadata": {},
   "source": [
    "The third item in a list would be accessed with the index 2."
   ]
  },
  {
   "cell_type": "code",
   "execution_count": null,
   "metadata": {
    "vscode": {
     "languageId": "plaintext"
    }
   },
   "outputs": [],
   "source": [
    "breakfast[2]"
   ]
  },
  {
   "cell_type": "markdown",
   "metadata": {},
   "source": [
    "Python offers a specific way of accessing the last item of a list, which\n",
    "can really useful for taking a peek at the end of a list. The last item\n",
    "in a list is accessed with the index -1. This might seem a little\n",
    "strange, but if you imagine the list items forming a circle which goes\n",
    "clockwise, then going backward (counterclockwise) one step would take\n",
    "you to the last item. That backward step is represented with -1."
   ]
  },
  {
   "cell_type": "code",
   "execution_count": null,
   "metadata": {
    "vscode": {
     "languageId": "plaintext"
    }
   },
   "outputs": [],
   "source": [
    "breakfast[-1]"
   ]
  },
  {
   "cell_type": "markdown",
   "metadata": {},
   "source": [
    "## `list` slicing\n",
    "\n",
    "Like list indexing, list slicing uses a list\\'s implicit index to access\n",
    "items. Unlike list indexing, however, slicing enables someone to access\n",
    "a range, or a \\\"slice,\\\" of items from a list. This capability becomes\n",
    "convenient when working with large lists. For example, we might take a\n",
    "look into a section of a list without loading the entire list, or we\n",
    "might grab a portion of that list to create a new list.\n",
    "\n",
    "To get a slice, you need to enter the *starting* and *ending* point of\n",
    "the section which you want to grab. In between these values, insert a\n",
    "*colon*, which represents every item that occurs in between the start\n",
    "and end points. A list slice therefore looks like the following:"
   ]
  },
  {
   "cell_type": "code",
   "execution_count": null,
   "metadata": {
    "vscode": {
     "languageId": "plaintext"
    }
   },
   "outputs": [],
   "source": [
    "breakfast [2:5]"
   ]
  },
  {
   "cell_type": "markdown",
   "metadata": {},
   "source": [
    "The syntax for list slicing is a bit wonky, but like list indexing, it\n",
    "is just a matter of getting used to the particulars of Python's way of counting by starting with zero, as well as the rules for inclusive and exclusive values.\n",
    "\n",
    "Here's the tricky part: the starting point is always inclusive, and the\n",
    "ending point is always exclusive. Which means that the slice will take\n",
    "everything starting at position 2, up until, but exclusing, the item in\n",
    "position 5. This rule for list slicing can cause some confusion, and\n",
    "it's best just to memorize it.\n",
    "\n",
    "One more important thing to know is the colon. In its position between\n",
    "the start and end point, it signifies everything in between. But if\n",
    "there is nothing before or after the colon, then the colon represents\n",
    "everything until the beginning or end of the list. For example, the\n",
    "syntax \\[1:\\] will take everything starting at index 1 (or the second\n",
    "item) until the end of the list. Similarly, \\[:4\\] will take everything\n",
    "from the start until the fourth index position of the list.\n",
    "\n",
    "This trick with the colon can be really nifty for grabbing the first 10\n",
    "or first 100 items from a list, allowing you to take peeks into the list\n",
    "items without printing the entire list. We will use this trick a lot in future workshops. \n"
   ]
  },
  {
   "cell_type": "code",
   "execution_count": null,
   "metadata": {
    "vscode": {
     "languageId": "plaintext"
    }
   },
   "outputs": [],
   "source": [
    "breakfast[3:]"
   ]
  },
  {
   "cell_type": "markdown",
   "metadata": {},
   "source": [
    "## `list` methods\n",
    "\n",
    "Like strings, lists also have specific *methods* that only work with\n",
    "list type data. List methods enable one to do\n",
    "various things to data contained in lists.\n",
    "\n",
    "Some of the more popular methods have to do with creating and modifying\n",
    "items in a list. One list method, `append()`, adds items to a list. For\n",
    "example, to a list of breakfast items, one can add additional yummy items\n",
    "using `append()`:"
   ]
  },
  {
   "cell_type": "code",
   "execution_count": null,
   "metadata": {
    "vscode": {
     "languageId": "plaintext"
    }
   },
   "outputs": [],
   "source": [
    "breakfast = ['bagel', 'cream cheese', 'coffee']\n",
    "breakfast.append('orange juice') \n",
    "breakfast "
   ]
  },
  {
   "cell_type": "markdown",
   "metadata": {},
   "source": [
    "Other methods, `remove()` and `pop()` take items out from a list. While\n",
    "`remove()` takes out a specific item (declared within the parentheses),\n",
    "`pop()` will only take out the last item in a list, \\\"popping\\\" it off,\n",
    "so to speak.\n"
   ]
  },
  {
   "cell_type": "code",
   "execution_count": null,
   "metadata": {
    "vscode": {
     "languageId": "plaintext"
    }
   },
   "outputs": [],
   "source": [
    "breakfast.remove('bagel') \n",
    "breakfast"
   ]
  },
  {
   "cell_type": "code",
   "execution_count": null,
   "metadata": {
    "vscode": {
     "languageId": "plaintext"
    }
   },
   "outputs": [],
   "source": [
    "breakfast.pop()\n",
    "breakfast"
   ]
  },
  {
   "cell_type": "markdown",
   "metadata": {},
   "source": [
    "Besides adding and deleting items, we can also sort items in a list. For\n",
    "these, we use the `sort()` and `reverse()` methods.\n",
    "\n",
    "To show the power of these methods, we\\'ll work with a larger list, like\n",
    "a list of words from this workshop\\'s description. First, we will copy\n",
    "and paste the workshop description as a single string. Then, we will\n",
    "split the string, saving the output to a new variable. Once the data is\n",
    "in list format, we will run the `sort()` and `reverse()` methods.\n",
    "\n",
    "Notice the syntax wrapping the string here, the triple quotation marks (instead of\n",
    "single), for saving the string. The triple quotes enables our strings to\n",
    "break lines and include other punctuation without messing with the\n",
    "string format."
   ]
  },
  {
   "cell_type": "code",
   "execution_count": null,
   "metadata": {
    "vscode": {
     "languageId": "plaintext"
    }
   },
   "outputs": [],
   "source": [
    "text = ''' \n",
    "  1. We refuse to operate under the assumption that risk and harm\n",
    "  associated with data practices can be bounded to  mean the same\n",
    "  thing for everyone, everywhere, at every time. We commit to\n",
    "  acknowledging how historical and systemic patterns of violence \n",
    "  and exploitation produce differential vulnerabilities for \n",
    "  communities.\n",
    "  2. We refuse to be disciplined by data, devices, and practices \n",
    "  that seek to shape and normalize racialized, gendered, and \n",
    "  differently-abled bodies in ways that make us available to be \n",
    "  tracked, monitored, and surveilled. We commit to taking back \n",
    "  control over the ways we behave, live, and engage with data and \n",
    "  its technologies.\n",
    "  3. We refuse the use of data about people in perpetuity. We \n",
    "  commit to embracing agency and working with intentionality, \n",
    "  preparing bodies or corpuses of data to be laid to rest when they \n",
    "  are not being used in service to the people about whom they were \n",
    "  created.\n",
    "  4. We refuse to understand data as disembodied and thereby \n",
    "  dehumanized and departicularized. We commit to understanding \n",
    "  data as always and variously attached to bodies; we vow to \n",
    "  interrogate the biopolitical implications of data with a keen \n",
    "  eye to gender, race, sexuality, class, disability, nationality, \n",
    "  and other forms of embodied difference.\n",
    "  5. We refuse any code of phony “ethics” and false proclamations of \n",
    "  transparency that are wielded as cover, as tools of power, as forms \n",
    "  for escape that let the people who create systems off the hook from \n",
    "  accountability or responsibility. We commit to a feminist data \n",
    "  ethics that explicitly seeks equity and demands justice by helping \n",
    "  us understand and shift how power works.'''\n",
    "  \n",
    "# when splitting a list, remember that we have to save the\n",
    "# results to a new variable\n",
    "text_split = text.split() \n",
    "\n",
    "# with the sort method, we don't have to save the results to\n",
    "# a new variable. It will automatically just print them.\n",
    "text_split.sort()\n"
   ]
  },
  {
   "cell_type": "markdown",
   "metadata": {},
   "source": [
    "Notice a couple of things:\n",
    "\n",
    "1.  I lied. Well, I omitted something. I included a `string` method when I said I was only going to\n",
    "    show you `list` methods. Can you spot the rogue `string` method?\n",
    "    *Hint: you\\'ve seen it before, and it is attached to a string type of\n",
    "    object.*\n",
    "2.  Some methods return new objects, while other methods simply change\n",
    "    existing ones. The `sort()` method is one that changes the existing\n",
    "    object. Unlike the `split()` method, we don\\'t have to save the\n",
    "    results of `sort()` to a new variable. `sort()`, and other methods\n",
    "    like `reverse()`, change the item \"in place,\" meaning that the\n",
    "    existing list is modified. `split()`, by contrast, creates a new\n",
    "    object, which needs to be saved. This concept of changing things in place is a bit advanced, so there is no rush to grasp it now.\n",
    "3.  The resulting list is organized alphabetically, which means that any\n",
    "    punctuation and/or numbers will appear before any letters. This will\n",
    "    explain why the results may not seem alphabetically sorted at first.\n",
    "4.  See the little hashtag `#` symbol? That's how you write a comment in \n",
    "    Python. By putting the `#` at the start of the line, that tells Pyhon\n",
    "    not to process that line's contents, that it's meant for human\n",
    "    readers.\n",
    "\n",
    "Remember that these `list` methods will not work on `string` type data.\n",
    "Try running a few of them on a string, just to see what happens."
   ]
  },
  {
   "cell_type": "markdown",
   "metadata": {},
   "source": [
    "The new concepts you learned in this lesson (list methods, indexing, and slicing) will be crucial tools for working with\n",
    "lists in future lessons and workshops. You will have plenty of opportunities to revisit the concepts over and over again until they start to seem more intuitive. \n",
    "\n",
    "In the next lessons, we will introduce skills for working more\n",
    "programmatically with lists."
   ]
  },
  {
   "cell_type": "markdown",
   "metadata": {},
   "source": []
  }
 ],
 "metadata": {
  "language_info": {
   "name": "python"
  },
  "orig_nbformat": 4
 },
 "nbformat": 4,
 "nbformat_minor": 2
}
