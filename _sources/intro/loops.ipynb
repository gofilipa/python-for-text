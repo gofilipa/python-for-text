{
 "cells": [
  {
   "cell_type": "markdown",
   "metadata": {},
   "source": [
    "# loops\n",
    "\n",
    "Loops are probably one of the more conceptually difficult concepts for\n",
    "new programmers, but once they are used a bit in practice, it becomes\n",
    "easier to grasp. \n",
    "\n",
    "Loops are ways of working with collections of data\n",
    "(like lists) by isolating each item from the list, one at a time. A loop\n",
    "will go through each item in a list, like a list of breakfast\n",
    "items, to do a specific action to each item, like to display the item."
   ]
  },
  {
   "cell_type": "code",
   "execution_count": null,
   "metadata": {
    "vscode": {
     "languageId": "plaintext"
    }
   },
   "outputs": [],
   "source": [
    "breakfast = ['egg sandwich', 'coffee', 'biscuits and gravy', 'strawberries', 'omelette']\n",
    "\n",
    "for item in breakfast:\n",
    "  print(item)"
   ]
  },
  {
   "cell_type": "markdown",
   "metadata": {},
   "source": [
    "\n",
    "Here, we\\'ve also introduced a new function, `print()`. This function\n",
    "will \\\"print,\\\" or display, whatever data you pass into the parentheses.\n",
    "\n",
    "*Some historical context for the name of the `print()` function: it comes\n",
    "from a time before screens, when computers literally **printed** the\n",
    "output of their computations.*\n",
    "\n",
    "Loops work with strings as well. We might print each character (or\n",
    "letter) from a string like \\\"hello\\\":"
   ]
  },
  {
   "cell_type": "code",
   "execution_count": null,
   "metadata": {
    "vscode": {
     "languageId": "plaintext"
    }
   },
   "outputs": [],
   "source": [
    "for letter in 'hello':\n",
    "  print(letter)"
   ]
  },
  {
   "cell_type": "markdown",
   "metadata": {},
   "source": [
    "The syntax for writing a loop contains two lines. The first line\n",
    "identifies one item from a collection of items, such as a list. You can\n",
    "think of the first line saying something like \\\"for (each) item (inside\n",
    "this) breakfast (list).\\\" Then, the second line specifies the action\n",
    "done to that item, in this case, the instruction to print that item."
   ]
  },
  {
   "cell_type": "code",
   "execution_count": null,
   "metadata": {
    "vscode": {
     "languageId": "plaintext"
    }
   },
   "outputs": [],
   "source": [
    "for item in breakfast:\n",
    "    print(item)"
   ]
  },
  {
   "cell_type": "markdown",
   "metadata": {},
   "source": [
    "```python\n",
    "for each item inside breakfast:\n",
    "  display each item\n",
    "  ```"
   ]
  },
  {
   "cell_type": "markdown",
   "metadata": {},
   "source": [
    "## a note on variable names\n",
    "\n",
    "The variable which indicates each individual item (`item`) can be\n",
    "assigned to any name. That\\'s because the variable is assigned on the\n",
    "fly, *as the loop is being executed*. This goes against usual practices\n",
    "with variable assignments, which always need to be assigned beforehand,\n",
    "or there will be a `NameError` because the variable hasn\\'t been\n",
    "defined."
   ]
  },
  {
   "cell_type": "code",
   "execution_count": null,
   "metadata": {
    "vscode": {
     "languageId": "plaintext"
    }
   },
   "outputs": [],
   "source": [
    "for x in y:\n",
    "    print(x)"
   ]
  },
  {
   "cell_type": "markdown",
   "metadata": {},
   "source": [
    "For example, we could name the individual item x, or any other\n",
    "letter, and the loop would run just fine. However, it\\'s helpful to give\n",
    "as meaningful names as possible, to avoid code that gives\n",
    "no indication about the data contained in the variables. This will be\n",
    "really useful for other people reading your code as well. The idea is\n",
    "to be semantically meaningful while keeping your code as concise as\n",
    "possible.\n",
    "\n",
    "When using variables in loops, the convention is to use the letter `i` as\n",
    "shorthand for indicating an item from a list."
   ]
  },
  {
   "cell_type": "code",
   "execution_count": null,
   "metadata": {
    "vscode": {
     "languageId": "plaintext"
    }
   },
   "outputs": [],
   "source": [
    "for i in breakfast:\n",
    "    print(i)"
   ]
  },
  {
   "cell_type": "markdown",
   "metadata": {},
   "source": [
    "## `string` methods\n",
    "\n",
    "Loops are great ways to do things en masse to data, such as to\n",
    "individual words within a text, in other words, to `string` type data\n",
    "that is contained within a `list`.\n",
    "\n",
    "For example, you\n",
    "might want to lowercase all of the letters from our dataset to prepare it for analysis (explained in further detail in the \"Text Cleaning\" workshop). To do that, use the `lower()` method."
   ]
  },
  {
   "cell_type": "code",
   "execution_count": null,
   "metadata": {
    "vscode": {
     "languageId": "plaintext"
    }
   },
   "outputs": [],
   "source": [
    "'HELLO'.lower()"
   ]
  },
  {
   "cell_type": "markdown",
   "metadata": {},
   "source": [
    "Now, let\\'s combine this `string` method with what we know about loops.\n",
    "Let\\'s try it on a list of items with varying levels of capitalization."
   ]
  },
  {
   "cell_type": "code",
   "execution_count": null,
   "metadata": {
    "vscode": {
     "languageId": "plaintext"
    }
   },
   "outputs": [],
   "source": [
    "cities = ['Lisbon', 'Setubal', 'Alcacer do Sal', 'Lagos']\n",
    "for city in cities:\n",
    "   print(city.lower())"
   ]
  },
  {
   "cell_type": "markdown",
   "metadata": {},
   "source": [
    "\n",
    "Here, the loop goes through each item in the list of \\\"cities,\\\" and\n",
    "lowercases that item while also printing it (remember the `print()`\n",
    "function?). Here, the `lower()` method is attached to the \\\"city\\\"\n",
    "variable, which is assigned to each item, or city name, in the list.\n",
    "\n",
    "Let\\'s try to do the same with a longer list, like the text from the\n",
    "\\\"Feminist Data Manifest-NO\\\". First, though, we need to split our\n",
    "`text`, which is currently one long string, into individual strings\n",
    "within a list. For that, we use the string method, `split()`, which we\n",
    "saw briefly above when we talked about list methods."
   ]
  },
  {
   "cell_type": "code",
   "execution_count": null,
   "metadata": {
    "vscode": {
     "languageId": "plaintext"
    }
   },
   "outputs": [],
   "source": [
    "text = ''' \n",
    "  1. We refuse to operate under the assumption that risk and harm\n",
    "  associated with data practices can be bounded to  mean the same\n",
    "  thing for everyone, everywhere, at every time. We commit to\n",
    "  acknowledging how historical and systemic patterns of violence \n",
    "  and exploitation produce differential vulnerabilities for \n",
    "  communities.\n",
    "  2. We refuse to be disciplined by data, devices, and practices \n",
    "  that seek to shape and normalize racialized, gendered, and \n",
    "  differently-abled bodies in ways that make us available to be \n",
    "  tracked, monitored, and surveilled. We commit to taking back \n",
    "  control over the ways we behave, live, and engage with data and \n",
    "  its technologies.\n",
    "  3. We refuse the use of data about people in perpetuity. We \n",
    "  commit to embracing agency and working with intentionality, \n",
    "  preparing bodies or corpuses of data to be laid to rest when they \n",
    "  are not being used in service to the people about whom they were \n",
    "  created.\n",
    "  4. We refuse to understand data as disembodied and thereby \n",
    "  dehumanized and departicularized. We commit to understanding \n",
    "  data as always and variously attached to bodies; we vow to \n",
    "  interrogate the biopolitical implications of data with a keen \n",
    "  eye to gender, race, sexuality, class, disability, nationality, \n",
    "  and other forms of embodied difference.\n",
    "  5. We refuse any code of phony “ethics” and false proclamations of \n",
    "  transparency that are wielded as cover, as tools of power, as forms \n",
    "  for escape that let the people who create systems off the hook from \n",
    "  accountability or responsibility. We commit to a feminist data \n",
    "  ethics that explicitly seeks equity and demands justice by helping \n",
    "  us understand and shift how power works.'''\n",
    "\n",
    "words = text.split()\n",
    "\n",
    "# print out just the first 10 words\n",
    "words[:10]"
   ]
  },
  {
   "cell_type": "markdown",
   "metadata": {},
   "source": [
    "\n",
    "We can see our text as a list of strings, saved to the variable\n",
    "\\\"words.\\\" Now, we can do things programmatically to each `string` in\n",
    "the `list`, like lowercase the items."
   ]
  },
  {
   "cell_type": "code",
   "execution_count": null,
   "metadata": {
    "vscode": {
     "languageId": "plaintext"
    }
   },
   "outputs": [],
   "source": [
    "words_lower = []\n",
    "for i in words:\n",
    "  words_lower.append(i.lower())\n",
    "\n",
    "words_lower"
   ]
  },
  {
   "cell_type": "markdown",
   "metadata": {},
   "source": [
    "This loop goes through each item in the list of words, lowercases it,\n",
    "then adds that word to a new list, called `words_lower`.\n",
    "\n",
    "Notice here that I\\'ve introduced a few new things:\n",
    "\n",
    "1.  Above the loop, I\\'ve created an empty list, called\n",
    "    `words_lower` where we will eventually drop our lowercased\n",
    "    words.\n",
    "2.  The first line of the loop uses the `i` variable to stand in for\n",
    "    each \"item\" in the list, which is a popular convention.\n",
    "3.  The last line of the loop uses a `list` method to add data to our\n",
    "    empty list. Notice that the list method `append()` is attached to a\n",
    "    list object, while the string method `lower()` is attached to a\n",
    "    string object.\n"
   ]
  }
 ],
 "metadata": {
  "language_info": {
   "name": "python"
  },
  "orig_nbformat": 4
 },
 "nbformat": 4,
 "nbformat_minor": 2
}
