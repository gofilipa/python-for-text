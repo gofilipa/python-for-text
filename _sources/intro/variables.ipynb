{
 "cells": [
  {
   "cell_type": "markdown",
   "metadata": {},
   "source": [
    "# variables"
   ]
  },
  {
   "cell_type": "markdown",
   "metadata": {},
   "source": [
    "So we have data in a digital format, as a specific type of data, but how\n",
    "do we work with that data?\n",
    "\n",
    "Before we can use that data in any kind of programming, we need to save\n",
    "it. To give it a name, or a label. This is where *variables* become\n",
    "important.\n",
    "\n",
    "A variable assigns data, a value, to a label, say \"x\". We could save the\n",
    "integer 34 to \"x\" like so,"
   ]
  },
  {
   "cell_type": "code",
   "execution_count": null,
   "metadata": {
    "vscode": {
     "languageId": "plaintext"
    }
   },
   "outputs": [],
   "source": [
    "x = 34"
   ]
  },
  {
   "cell_type": "markdown",
   "metadata": {},
   "source": [
    "With some exceptions, we can assign variables to almost any label we\n",
    "want, like \"x\" or \"y.\" But, we want to make sure that anybody reading\n",
    "our code will have a sense of what the variable\n",
    "refers to. Programmers therefore encouraged highly encourage each other to use precise but meaningful\n",
    "variables, like \"age\" to describe someone's age in years, to reflect the value most accurately\n",
    "and succinctly.\n",
    "\n",
    "Variables can be used to store any data type, like strings, lists, and\n",
    "even booleans."
   ]
  },
  {
   "cell_type": "code",
   "execution_count": null,
   "metadata": {
    "vscode": {
     "languageId": "plaintext"
    }
   },
   "outputs": [],
   "source": [
    "age = 34\n",
    "name = 'filipa'\n",
    "breakfast = ['granola', 'cashew yogurt', 'muffin', 'coffee']\n",
    "truth = True"
   ]
  },
  {
   "cell_type": "markdown",
   "metadata": {},
   "source": [
    "Before moving forward, practice creating all kinds of variables for a few minutes. See if you can figure out the rules for creating variables."
   ]
  },
  {
   "cell_type": "markdown",
   "metadata": {},
   "source": [
    "## variables as objects"
   ]
  },
  {
   "cell_type": "markdown",
   "metadata": {},
   "source": [
    "As a label for data, variables represent what is officially called an an\n",
    "*object* in Python. Objects are ways of thinking about data in its\n",
    "digitized form and what can be done to data in that form. Depending on\n",
    "the type of object (like a string, for example) we can run different\n",
    "kinds of computations. When applied to objects, the computations we can\n",
    "do are called *methods*.\n",
    "\n",
    "For example, with a string type of object, we can use the `upper()`\n",
    "method to make all of the characters in the string uppercase."
   ]
  },
  {
   "cell_type": "code",
   "execution_count": null,
   "metadata": {
    "vscode": {
     "languageId": "plaintext"
    }
   },
   "outputs": [],
   "source": [
    "greeting = 'hello'\n",
    "greeting.upper()"
   ]
  },
  {
   "cell_type": "markdown",
   "metadata": {},
   "source": [
    "Here, we are using *dot syntax*, that is, a period `.` in between the\n",
    "variable (the object) and the method (the action). What comes before the\n",
    "dot is the data, saved to a variable. What follows the dot in dot syntax\n",
    "is the action being applied to the variable."
   ]
  },
  {
   "cell_type": "markdown",
   "metadata": {},
   "source": [
    "## a note on methods vs functions\n",
    "\n",
    "You may have already noticed that a *method* seems very similar to a\n",
    "*function*, which we have seen previously with the `type()` function\n",
    "that evaluates data types. And you're correct: both methods and functions do something to\n",
    "data. \n",
    "\n",
    "The difference between them has to do with *syntax* and what it means about the underlying process. A function takes data in between the parentheses, like when we pass a string into\n",
    "the `type()` function with `type('hello')`. A method, by contrast,\n",
    "appends an action to the end of an object using dot syntax, like with\n",
    "`greeting.upper()` example above. In the first case, we are passing a bit of data into a function that stands on its own. In the second, we are taking an object and applying one of its associated actions, like uppercase, to it. \n",
    "\n",
    "The differences in syntax indicate a deeper difference between functions\n",
    "and methods, which has to do with *object-oriented programming*, which\n",
    "is an advanced concept that we will discuss futher in the Web Scraping\n",
    "workshop. For now, though, it's enough to know that functions and\n",
    "methods are recognizable by their syntax, where one takes data within\n",
    "parentheses and the other appends to data using dot syntax.\n",
    "\n",
    "Let's see how different methods work with different data types, for example. There\n",
    "are string methods like `split()` which\n",
    "*splits* a long string, say a paragraph of text, into individual\n",
    "strings, each string being a different word."
   ]
  },
  {
   "cell_type": "code",
   "execution_count": null,
   "metadata": {
    "vscode": {
     "languageId": "plaintext"
    }
   },
   "outputs": [],
   "source": [
    "text = ''' \n",
    "  1. We refuse to operate under the assumption that risk and harm\n",
    "  associated with data practices can be bounded to  mean the same\n",
    "  thing for everyone, everywhere, at every time. We commit to\n",
    "  acknowledging how historical and systemic patterns of violence \n",
    "  and exploitation produce differential vulnerabilities for \n",
    "  communities.\n",
    "  2. We refuse to be disciplined by data, devices, and practices \n",
    "  that seek to shape and normalize racialized, gendered, and \n",
    "  differently-abled bodies in ways that make us available to be \n",
    "  tracked, monitored, and surveilled. We commit to taking back \n",
    "  control over the ways we behave, live, and engage with data and \n",
    "  its technologies.\n",
    "  3. We refuse the use of data about people in perpetuity. We \n",
    "  commit to embracing agency and working with intentionality, \n",
    "  preparing bodies or corpuses of data to be laid to rest when they \n",
    "  are not being used in service to the people about whom they were \n",
    "  created.\n",
    "  4. We refuse to understand data as disembodied and thereby \n",
    "  dehumanized and departicularized. We commit to understanding \n",
    "  data as always and variously attached to bodies; we vow to \n",
    "  interrogate the biopolitical implications of data with a keen \n",
    "  eye to gender, race, sexuality, class, disability, nationality, \n",
    "  and other forms of embodied difference.\n",
    "  5. We refuse any code of phony “ethics” and false proclamations of \n",
    "  transparency that are wielded as cover, as tools of power, as forms \n",
    "  for escape that let the people who create systems off the hook from \n",
    "  accountability or responsibility. We commit to a feminist data \n",
    "  ethics that explicitly seeks equity and demands justice by helping \n",
    "  us understand and shift how power works.'''\n",
    "\n",
    "text.split()"
   ]
  },
  {
   "cell_type": "markdown",
   "metadata": {},
   "source": [
    "The output shows the long string split into several smaller strings. This is an example of how a method works and how you can recognize it by its syntax.\n"
   ]
  },
  {
   "cell_type": "markdown",
   "metadata": {},
   "source": [
    "## abstraction\n",
    "We can save the output of this to a new variable, called `words`."
   ]
  },
  {
   "cell_type": "code",
   "execution_count": null,
   "metadata": {
    "vscode": {
     "languageId": "plaintext"
    }
   },
   "outputs": [],
   "source": [
    "words = text.split()"
   ]
  },
  {
   "cell_type": "markdown",
   "metadata": {},
   "source": [
    "\n",
    "Now, what was previously a `string` data type has become a `list` data\n",
    "type. We can easily check the data type using the `type()` function."
   ]
  },
  {
   "cell_type": "code",
   "execution_count": null,
   "metadata": {
    "vscode": {
     "languageId": "plaintext"
    }
   },
   "outputs": [],
   "source": [
    "type(words)"
   ]
  },
  {
   "cell_type": "markdown",
   "metadata": {},
   "source": [
    "Saving the output of the\n",
    "method to a new variable then allows us to do more things with that\n",
    "dat"
   ]
  },
  {
   "cell_type": "markdown",
   "metadata": {},
   "source": [
    "Not only does this code show that methods work with specific types of objects (like strings or lists), it also introduces us to a bit of abstraction, where new variables are\n",
    "created by saving the output of computations, like `split()`. \n",
    "\n",
    "Abstraction is common in programming, as data is transformed into new\n",
    "formats, and saved with a new name. These new forms then enable further types of computations. Later in workshop,\n",
    "creating new variables will be very useful for the kind of work we want\n",
    "to do with text."
   ]
  },
  {
   "cell_type": "markdown",
   "metadata": {},
   "source": []
  }
 ],
 "metadata": {
  "language_info": {
   "name": "python"
  },
  "orig_nbformat": 4
 },
 "nbformat": 4,
 "nbformat_minor": 2
}
