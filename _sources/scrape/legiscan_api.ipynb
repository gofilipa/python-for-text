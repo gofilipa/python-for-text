{
 "cells": [
  {
   "cell_type": "markdown",
   "id": "854ec6b1",
   "metadata": {},
   "source": [
    "# Legiscan API\n",
    "Now we turn to examine APIs, how to create one, and how to navigate and download the results. You will notice how much easier it is to manage the data, which comes already in a clean and structured format (as JSON), which is opposed to the messy HTML data that we get with web scraping. \n",
    "\n",
    "The [Legiscan API](https://legiscan.com/legiscan) provides access to legislative data, such as bills, sponsors, hearing information, etc, from all 50 states. To use the Legiscan API, you'd first need to make an account on Legiscan, and request an API key. The key (which we will incorporate into our API call) gives you authentication to access the data on Legiscan."
   ]
  },
  {
   "cell_type": "markdown",
   "id": "94cb107b",
   "metadata": {},
   "source": [
    "\n",
    "After getting our API key, we can create our API call. The first step is import our libraries that we need in order to use the API. Then, we can construct our API call, putting together the root, key and query. "
   ]
  },
  {
   "cell_type": "code",
   "execution_count": null,
   "id": "b0d57c56",
   "metadata": {
    "ExecuteTime": {
     "end_time": "2023-10-25T14:40:48.566768900Z",
     "start_time": "2023-10-25T14:40:48.259777300Z"
    }
   },
   "outputs": [],
   "source": [
    "import requests\n",
    "import pandas as pd\n",
    "import time"
   ]
  },
  {
   "cell_type": "code",
   "execution_count": null,
   "id": "0b9da023",
   "metadata": {
    "ExecuteTime": {
     "end_time": "2023-10-25T14:30:39.444552100Z",
     "start_time": "2023-10-25T14:30:38.908769200Z"
    }
   },
   "outputs": [],
   "source": [
    "# the components of the API call, which make up the \"request\" variable\n",
    "url = 'https://api.legiscan.com/?key='\n",
    "key = # insert your key here\n",
    "page = 1\n",
    "request = requests.get(url + key + '&op=getSearch&state=ALL&query=transgender' + '&page=' + str(page))\n",
    "\n",
    "# to print out the full URL, and we can paste in the browser to get \n",
    "# an interactive look at the raw results\n",
    "print(url + key + '&op=getSearch&state=ALL&query=transgender' + '&page=' + str(page))"
   ]
  },
  {
   "cell_type": "markdown",
   "id": "d1bee9b2",
   "metadata": {},
   "source": [
    "Now we can make the API call, using the \"request\" object that we created above. From there, we call the `.json()` method, to navigate through the results, which are in json format.\n",
    "\n",
    "Accessing items in json involves using brackets to indicate the keys. "
   ]
  },
  {
   "cell_type": "code",
   "execution_count": 3,
   "id": "bd2fe5b2",
   "metadata": {
    "ExecuteTime": {
     "end_time": "2023-10-25T14:30:43.624823700Z",
     "start_time": "2023-10-25T14:30:43.610973900Z"
    }
   },
   "outputs": [
    {
     "name": "stdout",
     "output_type": "stream",
     "text": [
      "Page total: 13\n",
      "Total results: 604\n"
     ]
    }
   ],
   "source": [
    "# get the page_total and the count from the request summary\n",
    "page_total = request.json()['searchresult']['summary']['page_total']\n",
    "count = request.json()['searchresult']['summary']['count']\n",
    "print('Page total: ' + str(page_total) + '\\n' + 'Total results: ' + str(count))"
   ]
  },
  {
   "cell_type": "markdown",
   "id": "dc747af9",
   "metadata": {},
   "source": [
    "Now we write a few loops. The first one gathers all the data from each page of the results. The second loop parses that data into a dataframe object (a tabular or spreadsheet format) so we can examine it and eventually save it to a csv file."
   ]
  },
  {
   "cell_type": "code",
   "execution_count": 4,
   "id": "bd876ad2",
   "metadata": {
    "ExecuteTime": {
     "end_time": "2023-10-25T14:41:56.685202700Z",
     "start_time": "2023-10-25T14:41:06.429583100Z"
    }
   },
   "outputs": [],
   "source": [
    "# request the additional pages of the query by adding 1 to the 'page' \n",
    "# parameter until it reaches the page_total. Store each page of  \n",
    "# requests in a list. Wait 3 seconds between each request to avoid \n",
    "# overloading the API\n",
    "\n",
    "pages = []\n",
    "for i in range(page_total):\n",
    "    page = i + 1\n",
    "    request = requests.get(url + key + '&op=getSearch&state=ALL&query=transgender' + '&page=' + str(page))\n",
    "    time.sleep(3)\n",
    "    pages.append(request.json())\n"
   ]
  },
  {
   "cell_type": "code",
   "execution_count": 6,
   "id": "3c88a844",
   "metadata": {
    "ExecuteTime": {
     "end_time": "2023-10-25T14:53:50.892629100Z",
     "start_time": "2023-10-25T14:53:50.066039800Z"
    }
   },
   "outputs": [],
   "source": [
    "# for each page of the request, parse the results and add them to a \n",
    "# dataframe. each page is a json file with individual results labeled\n",
    "# '0' through '49' and # 'summary' nested under searchresult. Ignore \n",
    "# the summary and use pandas.concat to add each of the results from \n",
    "# the request in a dataframe\n",
    "\n",
    "df = pd.DataFrame()\n",
    "for page in pages:\n",
    "    results = page['searchresult']\n",
    "    # if the page has no results, skip it\n",
    "    for i in range(50):\n",
    "        if str(i) in results:\n",
    "            df = pd.concat([df, pd.DataFrame(results[str(i)], index=[i])])\n",
    "        else:\n",
    "            continue\n"
   ]
  },
  {
   "cell_type": "markdown",
   "id": "f84e2177",
   "metadata": {},
   "source": [
    "Now we have our data in a tabular structure, thanks to the DataFrame that we got from a different library called `pandas`. This DataFrame format enables us to examine our data in a spreadsheet."
   ]
  },
  {
   "cell_type": "code",
   "execution_count": 15,
   "id": "0aef56a6",
   "metadata": {},
   "outputs": [
    {
     "data": {
      "text/html": [
       "<div>\n",
       "<style scoped>\n",
       "    .dataframe tbody tr th:only-of-type {\n",
       "        vertical-align: middle;\n",
       "    }\n",
       "\n",
       "    .dataframe tbody tr th {\n",
       "        vertical-align: top;\n",
       "    }\n",
       "\n",
       "    .dataframe thead th {\n",
       "        text-align: right;\n",
       "    }\n",
       "</style>\n",
       "<table border=\"1\" class=\"dataframe\">\n",
       "  <thead>\n",
       "    <tr style=\"text-align: right;\">\n",
       "      <th></th>\n",
       "      <th>relevance</th>\n",
       "      <th>state</th>\n",
       "      <th>bill_number</th>\n",
       "      <th>bill_id</th>\n",
       "      <th>change_hash</th>\n",
       "      <th>url</th>\n",
       "      <th>text_url</th>\n",
       "      <th>research_url</th>\n",
       "      <th>last_action_date</th>\n",
       "      <th>last_action</th>\n",
       "      <th>title</th>\n",
       "    </tr>\n",
       "  </thead>\n",
       "  <tbody>\n",
       "    <tr>\n",
       "      <th>0</th>\n",
       "      <td>100</td>\n",
       "      <td>UT</td>\n",
       "      <td>HB0316</td>\n",
       "      <td>1819064</td>\n",
       "      <td>bb27e8c4d929c9331af7b02dc6d81348</td>\n",
       "      <td>https://legiscan.com/UT/bill/HB0316/2024</td>\n",
       "      <td>https://legiscan.com/UT/text/HB0316/2024</td>\n",
       "      <td>https://legiscan.com/UT/research/HB0316/2024</td>\n",
       "      <td>2024-02-12</td>\n",
       "      <td>Senate/ 1st reading (Introduced) in Senate Rul...</td>\n",
       "      <td>Inmate Assignment Amendments</td>\n",
       "    </tr>\n",
       "    <tr>\n",
       "      <th>1</th>\n",
       "      <td>99</td>\n",
       "      <td>DC</td>\n",
       "      <td>B25-0460</td>\n",
       "      <td>1778035</td>\n",
       "      <td>e96fc947b1b4170adf7a3fe91291a61b</td>\n",
       "      <td>https://legiscan.com/DC/bill/B25-0460/2023</td>\n",
       "      <td>https://legiscan.com/DC/text/B25-0460/2023</td>\n",
       "      <td>https://legiscan.com/DC/research/B25-0460/2023</td>\n",
       "      <td>2023-09-22</td>\n",
       "      <td>Notice of Intent to Act on B25-0460 Published ...</td>\n",
       "      <td>Transgender and Gender-Diverse Mortality and F...</td>\n",
       "    </tr>\n",
       "    <tr>\n",
       "      <th>2</th>\n",
       "      <td>99</td>\n",
       "      <td>DC</td>\n",
       "      <td>CER25-0143</td>\n",
       "      <td>1782702</td>\n",
       "      <td>9aff2f06c9f9b38306f8f3a8e83183c8</td>\n",
       "      <td>https://legiscan.com/DC/bill/CER25-0143/2023</td>\n",
       "      <td>https://legiscan.com/DC/text/CER25-0143/2023</td>\n",
       "      <td>https://legiscan.com/DC/research/CER25-0143/2023</td>\n",
       "      <td>2023-11-24</td>\n",
       "      <td>Resolution ACR25-0141, Effective from Nov 07, ...</td>\n",
       "      <td>Transgender Day of Remembrance Recognition Res...</td>\n",
       "    </tr>\n",
       "    <tr>\n",
       "      <th>3</th>\n",
       "      <td>99</td>\n",
       "      <td>VT</td>\n",
       "      <td>JRH004</td>\n",
       "      <td>1751508</td>\n",
       "      <td>bfb4a15ca9ece1f262e6ed5759e192ba</td>\n",
       "      <td>https://legiscan.com/VT/bill/JRH004/2023</td>\n",
       "      <td>https://legiscan.com/VT/text/JRH004/2023</td>\n",
       "      <td>https://legiscan.com/VT/research/JRH004/2023</td>\n",
       "      <td>2023-04-07</td>\n",
       "      <td>Senate Message, adopted in concurrence</td>\n",
       "      <td>Joint resolution recognizing March 31, 2023 as...</td>\n",
       "    </tr>\n",
       "    <tr>\n",
       "      <th>4</th>\n",
       "      <td>99</td>\n",
       "      <td>US</td>\n",
       "      <td>HR886</td>\n",
       "      <td>1784730</td>\n",
       "      <td>15a2a26d5c91782333a2b37fc8083154</td>\n",
       "      <td>https://legiscan.com/US/bill/HR886/2023</td>\n",
       "      <td>https://legiscan.com/US/text/HR886/2023</td>\n",
       "      <td>https://legiscan.com/US/research/HR886/2023</td>\n",
       "      <td>2023-11-21</td>\n",
       "      <td>Referred to the House Committee on the Judiciary.</td>\n",
       "      <td>Supporting the goals and principles of Transge...</td>\n",
       "    </tr>\n",
       "    <tr>\n",
       "      <th>...</th>\n",
       "      <td>...</td>\n",
       "      <td>...</td>\n",
       "      <td>...</td>\n",
       "      <td>...</td>\n",
       "      <td>...</td>\n",
       "      <td>...</td>\n",
       "      <td>...</td>\n",
       "      <td>...</td>\n",
       "      <td>...</td>\n",
       "      <td>...</td>\n",
       "      <td>...</td>\n",
       "    </tr>\n",
       "    <tr>\n",
       "      <th>49</th>\n",
       "      <td>6</td>\n",
       "      <td>US</td>\n",
       "      <td>HB2670</td>\n",
       "      <td>1757049</td>\n",
       "      <td>ccfa8fba0550b39bb71af841122e2132</td>\n",
       "      <td>https://legiscan.com/US/bill/HB2670/2023</td>\n",
       "      <td>https://legiscan.com/US/text/HB2670/2023</td>\n",
       "      <td>https://legiscan.com/US/research/HB2670/2023</td>\n",
       "      <td>2023-12-22</td>\n",
       "      <td>Became Public Law No: 118-31.</td>\n",
       "      <td>CONVENE Act of 2023 Sensible Classification Ac...</td>\n",
       "    </tr>\n",
       "    <tr>\n",
       "      <th>0</th>\n",
       "      <td>4</td>\n",
       "      <td>MI</td>\n",
       "      <td>HB4437</td>\n",
       "      <td>1757146</td>\n",
       "      <td>604fc33c04c0b4d89cce5b8bd0d51893</td>\n",
       "      <td>https://legiscan.com/MI/bill/HB4437/2023</td>\n",
       "      <td>https://legiscan.com/MI/text/HB4437/2023</td>\n",
       "      <td>https://legiscan.com/MI/research/HB4437/2023</td>\n",
       "      <td>2023-09-06</td>\n",
       "      <td>Disapproved Line Item(s) Re-referred To Commit...</td>\n",
       "      <td>Appropriations: omnibus; appropriations for mu...</td>\n",
       "    </tr>\n",
       "    <tr>\n",
       "      <th>1</th>\n",
       "      <td>4</td>\n",
       "      <td>NY</td>\n",
       "      <td>S04007</td>\n",
       "      <td>1690727</td>\n",
       "      <td>1579358405b6c681a7bd5ed500b7ac14</td>\n",
       "      <td>https://legiscan.com/NY/bill/S04007/2023</td>\n",
       "      <td>https://legiscan.com/NY/text/S04007/2023</td>\n",
       "      <td>https://legiscan.com/NY/research/S04007/2023</td>\n",
       "      <td>2023-05-03</td>\n",
       "      <td>SIGNED CHAP.57</td>\n",
       "      <td>Enacts into law major components of legislatio...</td>\n",
       "    </tr>\n",
       "    <tr>\n",
       "      <th>2</th>\n",
       "      <td>3</td>\n",
       "      <td>NY</td>\n",
       "      <td>S04004</td>\n",
       "      <td>1690688</td>\n",
       "      <td>30e29d6956eec2d3ff19a58c35ad73f8</td>\n",
       "      <td>https://legiscan.com/NY/bill/S04004/2023</td>\n",
       "      <td>https://legiscan.com/NY/text/S04004/2023</td>\n",
       "      <td>https://legiscan.com/NY/research/S04004/2023</td>\n",
       "      <td>2023-05-01</td>\n",
       "      <td>SUBSTITUTED BY A3004D</td>\n",
       "      <td>Makes appropriations for the support of govern...</td>\n",
       "    </tr>\n",
       "    <tr>\n",
       "      <th>3</th>\n",
       "      <td>3</td>\n",
       "      <td>NY</td>\n",
       "      <td>A03004</td>\n",
       "      <td>1690608</td>\n",
       "      <td>b862da143af26ca5a2997011fc933673</td>\n",
       "      <td>https://legiscan.com/NY/bill/A03004/2023</td>\n",
       "      <td>https://legiscan.com/NY/text/A03004/2023</td>\n",
       "      <td>https://legiscan.com/NY/research/A03004/2023</td>\n",
       "      <td>2023-05-12</td>\n",
       "      <td>thru line veto memo.36</td>\n",
       "      <td>Makes appropriations for the support of govern...</td>\n",
       "    </tr>\n",
       "  </tbody>\n",
       "</table>\n",
       "<p>604 rows × 11 columns</p>\n",
       "</div>"
      ],
      "text/plain": [
       "    relevance state bill_number  bill_id                       change_hash  \\\n",
       "0         100    UT      HB0316  1819064  bb27e8c4d929c9331af7b02dc6d81348   \n",
       "1          99    DC    B25-0460  1778035  e96fc947b1b4170adf7a3fe91291a61b   \n",
       "2          99    DC  CER25-0143  1782702  9aff2f06c9f9b38306f8f3a8e83183c8   \n",
       "3          99    VT      JRH004  1751508  bfb4a15ca9ece1f262e6ed5759e192ba   \n",
       "4          99    US       HR886  1784730  15a2a26d5c91782333a2b37fc8083154   \n",
       "..        ...   ...         ...      ...                               ...   \n",
       "49          6    US      HB2670  1757049  ccfa8fba0550b39bb71af841122e2132   \n",
       "0           4    MI      HB4437  1757146  604fc33c04c0b4d89cce5b8bd0d51893   \n",
       "1           4    NY      S04007  1690727  1579358405b6c681a7bd5ed500b7ac14   \n",
       "2           3    NY      S04004  1690688  30e29d6956eec2d3ff19a58c35ad73f8   \n",
       "3           3    NY      A03004  1690608  b862da143af26ca5a2997011fc933673   \n",
       "\n",
       "                                             url  \\\n",
       "0       https://legiscan.com/UT/bill/HB0316/2024   \n",
       "1     https://legiscan.com/DC/bill/B25-0460/2023   \n",
       "2   https://legiscan.com/DC/bill/CER25-0143/2023   \n",
       "3       https://legiscan.com/VT/bill/JRH004/2023   \n",
       "4        https://legiscan.com/US/bill/HR886/2023   \n",
       "..                                           ...   \n",
       "49      https://legiscan.com/US/bill/HB2670/2023   \n",
       "0       https://legiscan.com/MI/bill/HB4437/2023   \n",
       "1       https://legiscan.com/NY/bill/S04007/2023   \n",
       "2       https://legiscan.com/NY/bill/S04004/2023   \n",
       "3       https://legiscan.com/NY/bill/A03004/2023   \n",
       "\n",
       "                                        text_url  \\\n",
       "0       https://legiscan.com/UT/text/HB0316/2024   \n",
       "1     https://legiscan.com/DC/text/B25-0460/2023   \n",
       "2   https://legiscan.com/DC/text/CER25-0143/2023   \n",
       "3       https://legiscan.com/VT/text/JRH004/2023   \n",
       "4        https://legiscan.com/US/text/HR886/2023   \n",
       "..                                           ...   \n",
       "49      https://legiscan.com/US/text/HB2670/2023   \n",
       "0       https://legiscan.com/MI/text/HB4437/2023   \n",
       "1       https://legiscan.com/NY/text/S04007/2023   \n",
       "2       https://legiscan.com/NY/text/S04004/2023   \n",
       "3       https://legiscan.com/NY/text/A03004/2023   \n",
       "\n",
       "                                        research_url last_action_date  \\\n",
       "0       https://legiscan.com/UT/research/HB0316/2024       2024-02-12   \n",
       "1     https://legiscan.com/DC/research/B25-0460/2023       2023-09-22   \n",
       "2   https://legiscan.com/DC/research/CER25-0143/2023       2023-11-24   \n",
       "3       https://legiscan.com/VT/research/JRH004/2023       2023-04-07   \n",
       "4        https://legiscan.com/US/research/HR886/2023       2023-11-21   \n",
       "..                                               ...              ...   \n",
       "49      https://legiscan.com/US/research/HB2670/2023       2023-12-22   \n",
       "0       https://legiscan.com/MI/research/HB4437/2023       2023-09-06   \n",
       "1       https://legiscan.com/NY/research/S04007/2023       2023-05-03   \n",
       "2       https://legiscan.com/NY/research/S04004/2023       2023-05-01   \n",
       "3       https://legiscan.com/NY/research/A03004/2023       2023-05-12   \n",
       "\n",
       "                                          last_action  \\\n",
       "0   Senate/ 1st reading (Introduced) in Senate Rul...   \n",
       "1   Notice of Intent to Act on B25-0460 Published ...   \n",
       "2   Resolution ACR25-0141, Effective from Nov 07, ...   \n",
       "3              Senate Message, adopted in concurrence   \n",
       "4   Referred to the House Committee on the Judiciary.   \n",
       "..                                                ...   \n",
       "49                      Became Public Law No: 118-31.   \n",
       "0   Disapproved Line Item(s) Re-referred To Commit...   \n",
       "1                                      SIGNED CHAP.57   \n",
       "2                               SUBSTITUTED BY A3004D   \n",
       "3                              thru line veto memo.36   \n",
       "\n",
       "                                                title  \n",
       "0                        Inmate Assignment Amendments  \n",
       "1   Transgender and Gender-Diverse Mortality and F...  \n",
       "2   Transgender Day of Remembrance Recognition Res...  \n",
       "3   Joint resolution recognizing March 31, 2023 as...  \n",
       "4   Supporting the goals and principles of Transge...  \n",
       "..                                                ...  \n",
       "49  CONVENE Act of 2023 Sensible Classification Ac...  \n",
       "0   Appropriations: omnibus; appropriations for mu...  \n",
       "1   Enacts into law major components of legislatio...  \n",
       "2   Makes appropriations for the support of govern...  \n",
       "3   Makes appropriations for the support of govern...  \n",
       "\n",
       "[604 rows x 11 columns]"
      ]
     },
     "execution_count": 15,
     "metadata": {},
     "output_type": "execute_result"
    }
   ],
   "source": [
    "df"
   ]
  },
  {
   "cell_type": "code",
   "execution_count": 16,
   "id": "655c1b41",
   "metadata": {
    "scrolled": true
   },
   "outputs": [
    {
     "name": "stdout",
     "output_type": "stream",
     "text": [
      "<class 'pandas.core.frame.DataFrame'>\n",
      "Int64Index: 604 entries, 0 to 3\n",
      "Data columns (total 11 columns):\n",
      " #   Column            Non-Null Count  Dtype \n",
      "---  ------            --------------  ----- \n",
      " 0   relevance         604 non-null    int64 \n",
      " 1   state             604 non-null    object\n",
      " 2   bill_number       604 non-null    object\n",
      " 3   bill_id           604 non-null    int64 \n",
      " 4   change_hash       604 non-null    object\n",
      " 5   url               604 non-null    object\n",
      " 6   text_url          604 non-null    object\n",
      " 7   research_url      604 non-null    object\n",
      " 8   last_action_date  604 non-null    object\n",
      " 9   last_action       604 non-null    object\n",
      " 10  title             604 non-null    object\n",
      "dtypes: int64(2), object(9)\n",
      "memory usage: 56.6+ KB\n"
     ]
    }
   ],
   "source": [
    "df.info()"
   ]
  },
  {
   "cell_type": "code",
   "execution_count": 14,
   "id": "47a3a1ff",
   "metadata": {},
   "outputs": [],
   "source": [
    "df.to_csv('legiscan_api_results.csv')"
   ]
  },
  {
   "cell_type": "markdown",
   "id": "47bb4356",
   "metadata": {},
   "source": [
    "That's it!\n",
    "\n",
    "In the next workshop, we will look at analyzing the plain text from some of these bills, which we will access through the `congress.gov` website. "
   ]
  },
  {
   "cell_type": "markdown",
   "id": "6526c330",
   "metadata": {},
   "source": []
  }
 ],
 "metadata": {
  "kernelspec": {
   "display_name": "Python 3 (ipykernel)",
   "language": "python",
   "name": "python3"
  },
  "language_info": {
   "codemirror_mode": {
    "name": "ipython",
    "version": 3
   },
   "file_extension": ".py",
   "mimetype": "text/x-python",
   "name": "python",
   "nbconvert_exporter": "python",
   "pygments_lexer": "ipython3",
   "version": "3.11.0"
  }
 },
 "nbformat": 4,
 "nbformat_minor": 5
}
