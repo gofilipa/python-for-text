{
 "cells": [
  {
   "cell_type": "markdown",
   "id": "c191ca2c",
   "metadata": {},
   "source": [
    "# fine-tuning"
   ]
  },
  {
   "cell_type": "code",
   "execution_count": 1,
   "id": "10d47361",
   "metadata": {},
   "outputs": [],
   "source": [
    "# %%capture\n",
    "# %pip install transformers trl"
   ]
  },
  {
   "cell_type": "code",
   "execution_count": 1,
   "id": "cf058b05",
   "metadata": {},
   "outputs": [],
   "source": [
    "from datasets import load_dataset\n",
    "from transformers import (\n",
    "    AutoModelForCausalLM,\n",
    "    AutoTokenizer,\n",
    "    TrainingArguments,\n",
    "    pipeline\n",
    ")\n",
    "from trl import SFTTrainer"
   ]
  },
  {
   "cell_type": "code",
   "execution_count": 4,
   "id": "507fd22f",
   "metadata": {},
   "outputs": [],
   "source": [
    "tokenizer = AutoTokenizer.from_pretrained(\"EleutherAI/gpt-neo-125m\")\n",
    "model = AutoModelForCausalLM.from_pretrained(\"EleutherAI/gpt-neo-125m\")"
   ]
  },
  {
   "cell_type": "code",
   "execution_count": 5,
   "id": "d49a1c43",
   "metadata": {},
   "outputs": [
    {
     "name": "stderr",
     "output_type": "stream",
     "text": [
      "Found cached dataset csv (/Users/caladof/.cache/huggingface/datasets/gofilipa___csv/gofilipa--gender_congress_117-118-304e9fdc48b3d0d4/0.0.0/6954658bab30a358235fa864b05cf819af0e179325c740e4bc853bcc7ec513e1)\n"
     ]
    },
    {
     "data": {
      "application/vnd.jupyter.widget-view+json": {
       "model_id": "25dcd4ef05f84cfe9af029c8d4a5e80d",
       "version_major": 2,
       "version_minor": 0
      },
      "text/plain": [
       "  0%|          | 0/1 [00:00<?, ?it/s]"
      ]
     },
     "metadata": {},
     "output_type": "display_data"
    }
   ],
   "source": [
    "dataset = load_dataset(\"gofilipa/gender_congress_117-118\")"
   ]
  },
  {
   "cell_type": "markdown",
   "id": "16523909",
   "metadata": {},
   "source": [
    "Padding is necessary to account for different sizes of text in our dataset. \n",
    "\n",
    "*From the [docs on 🤗](https://huggingface.co/docs/transformers/en/pad_truncation): \n",
    "Batched inputs are often different lengths, so they can’t be converted to fixed-size tensors. Padding and truncation are strategies for dealing with this problem, to create rectangular tensors from batches of varying lengths. Padding adds a special padding token to ensure shorter sequences will have the same length as either the longest sequence in a batch or the maximum length accepted by the model. Truncation works in the other direction by truncating long sequences. In most cases, padding your batch to the length of the longest sequence and truncating to the maximum length a model can accept works pretty well.*"
   ]
  },
  {
   "cell_type": "code",
   "execution_count": 6,
   "id": "7bdbeb5c",
   "metadata": {},
   "outputs": [],
   "source": [
    "tokenizer.pad_token = tokenizer.eos_token\n",
    "tokenizer.padding_side = \"right\""
   ]
  },
  {
   "cell_type": "code",
   "execution_count": 51,
   "id": "f9fa6fcb",
   "metadata": {},
   "outputs": [],
   "source": [
    "training_params = TrainingArguments(\n",
    "    output_dir=\"./results\",\n",
    "    num_train_epochs = 3, # how many times we iterate over the dataset as a whole\n",
    "    learning_rate = 2e-4, # how many \"steps\" we take in adjusting the parameters to make up for loss\n",
    "    weight_decay = 0.001, # way of regularizing the parameters\n",
    ")"
   ]
  },
  {
   "cell_type": "code",
   "execution_count": 52,
   "id": "fb85b88a",
   "metadata": {},
   "outputs": [
    {
     "name": "stderr",
     "output_type": "stream",
     "text": [
      "/Users/caladof/anaconda3/lib/python3.11/site-packages/trl/trainer/sft_trainer.py:246: UserWarning: You didn't pass a `max_seq_length` argument to the SFTTrainer, this will default to 1024\n",
      "  warnings.warn(\n",
      "Loading cached processed dataset at /Users/caladof/.cache/huggingface/datasets/gofilipa___csv/gofilipa--gender_congress_117-118-304e9fdc48b3d0d4/0.0.0/6954658bab30a358235fa864b05cf819af0e179325c740e4bc853bcc7ec513e1/cache-3618ad3aa0d944c2.arrow\n"
     ]
    }
   ],
   "source": [
    "trainer = SFTTrainer(\n",
    "    model = model,\n",
    "    train_dataset = dataset['train'],\n",
    "    dataset_text_field = \"definitions\",\n",
    "    tokenizer = tokenizer,\n",
    "    args = training_params\n",
    ")"
   ]
  },
  {
   "cell_type": "markdown",
   "id": "3a4ec264",
   "metadata": {},
   "source": [
    "<!--this cell is in markdown to avoid actually training a model when building the book-->\n",
    "```python\n",
    "trainer.train()\n",
    "```"
   ]
  },
  {
   "cell_type": "markdown",
   "id": "d3cc7f50",
   "metadata": {},
   "source": [
    "What's happening in the training process? Basically the process includes three functions:\n",
    "- hypothesis function that makes a guess as to what word to generate following a given word\n",
    "- loss function that calculates the difference between the guess and the actual word\n",
    "- gradient descent that very slowly updates numbers as to minimize the loss"
   ]
  },
  {
   "cell_type": "markdown",
   "id": "8649823b",
   "metadata": {},
   "source": [
    "```python\n",
    "trainer.model.save_pretrained(\"models\")\n",
    "trainer.tokenizer.save_pretrained(\"models\")\n",
    "```"
   ]
  },
  {
   "cell_type": "markdown",
   "id": "a35f86dd",
   "metadata": {},
   "source": [
    "```python\n",
    "model = AutoModelForCausalLM.from_pretrained(\"./models\")\n",
    "tokenizer = AutoTokenizer.from_pretrained(\"./models\")\n",
    "```"
   ]
  },
  {
   "cell_type": "markdown",
   "id": "835dc367",
   "metadata": {},
   "source": [
    "```python\n",
    "pipe = pipeline('text-generation', model=model, tokenizer=tokenizer, max_length=50)\n",
    "```"
   ]
  },
  {
   "cell_type": "markdown",
   "id": "29c94cb4",
   "metadata": {},
   "source": [
    "```python\n",
    "pipe(\"To affirm a person's gender means\")\n",
    "```"
   ]
  },
  {
   "cell_type": "markdown",
   "id": "abadb750",
   "metadata": {},
   "source": [
    "The results aren't great. To get better results, we'd need to adjust the hyperparameters (learning rate and epochs, primarily) at the top."
   ]
  }
 ],
 "metadata": {
  "kernelspec": {
   "display_name": "Python 3 (ipykernel)",
   "language": "python",
   "name": "python3"
  },
  "language_info": {
   "codemirror_mode": {
    "name": "ipython",
    "version": 3
   },
   "file_extension": ".py",
   "mimetype": "text/x-python",
   "name": "python",
   "nbconvert_exporter": "python",
   "pygments_lexer": "ipython3",
   "version": "3.11.0"
  }
 },
 "nbformat": 4,
 "nbformat_minor": 5
}
