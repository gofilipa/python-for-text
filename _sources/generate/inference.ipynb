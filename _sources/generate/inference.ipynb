{
 "cells": [
  {
   "cell_type": "markdown",
   "id": "be4f7c7c",
   "metadata": {},
   "source": [
    "# running inference\n",
    "Now that you have a sense of how things work on the HF website, we are\n",
    "going to practice running inference on Google Colab.\n",
    "\n",
    "Our goal is to create a text generator, using Python code, taking the\n",
    "following steps: \n",
    "- Will use the model, \"[gpt-neo-125m](https://huggingface.co/EleutherAI/gpt-neo-125m)\", importing this\n",
    "  model into the colab coding space.\n",
    "- Then we will write code that processes an input text to generate an output, a continuation.\n",
    "- Finally, we will import a dataset from the library and practice running inference with it.\n",
    "  \n",
    "We'll talk about some programming concepts along the way, like variables and data types, and how to access data from different types and structures. We will grapple with a new data type, a `dict`, and how to access or manipulate data from that type.\n"
   ]
  },
  {
   "cell_type": "markdown",
   "id": "e4f158c7",
   "metadata": {},
   "source": [
    "## open Colab and load libraries\n",
    "First, on the toolbar, where it says RAM DISK, change the hardware accelator\n",
    "to GPU.\n",
    "\n",
    "Then, download the necessary libraries to your colab environment."
   ]
  },
  {
   "cell_type": "code",
   "execution_count": 1,
   "id": "784c9338",
   "metadata": {},
   "outputs": [],
   "source": [
    "# %%capture\n",
    "# %pip install transformers trl"
   ]
  },
  {
   "cell_type": "markdown",
   "id": "ed3ed39a",
   "metadata": {},
   "source": [
    "Go back to the models page.\n",
    "\n",
    "Search for gpt-neo, select 125m. On the top right, click on \"Use in\n",
    "Transformers.\"\n",
    "\n",
    "Copy that code, and paste it to your google colab cell."
   ]
  },
  {
   "cell_type": "code",
   "execution_count": 3,
   "id": "967758b6",
   "metadata": {},
   "outputs": [],
   "source": [
    "from transformers import pipeline\n",
    "\n",
    "pipe = pipeline(\"text-generation\", model=\"EleutherAI/gpt-neo-125m\")"
   ]
  },
  {
   "cell_type": "markdown",
   "id": "602ca5bc",
   "metadata": {},
   "source": [
    "Here we have a function, called `pipeline()`, which takes parameters (a\n",
    "fancy word for input).\n",
    "\n",
    "The parameters specify the task and the model that we will be using.\n",
    "\n",
    "We save the function to a variable called `pipe`, which we will later\n",
    "use to process our prompt. "
   ]
  },
  {
   "cell_type": "markdown",
   "id": "8b452d6a",
   "metadata": {},
   "source": [
    "## inference\n",
    "\n",
    "Now we are going to \"run inference.\"\n",
    "\n",
    "First, we will type up a prompt, and save it to a variable prompt. Then we will pass that prompt to the pipe variable that we created before, saving the output to a new variable, called output. "
   ]
  },
  {
   "cell_type": "code",
   "execution_count": 6,
   "id": "1add24d4",
   "metadata": {},
   "outputs": [
    {
     "name": "stderr",
     "output_type": "stream",
     "text": [
      "Setting `pad_token_id` to `eos_token_id`:50256 for open-end generation.\n"
     ]
    },
    {
     "data": {
      "text/plain": [
       "[{'generated_text': \"Hello, my name is Filipa and I'm a newbie in the world of web development. I'm a newbie in the world of web development. I'm a newbie in the world of web development. I'm a newbie in\"}]"
      ]
     },
     "execution_count": 6,
     "metadata": {},
     "output_type": "execute_result"
    }
   ],
   "source": [
    "prompt = \"Hello, my name is Filipa and\"\n",
    "\n",
    "pipe(prompt, max_length = 50)"
   ]
  },
  {
   "cell_type": "code",
   "execution_count": 5,
   "id": "d602d387",
   "metadata": {},
   "outputs": [
    {
     "data": {
      "text/plain": [
       "[{'generated_text': \"Hello, my name is Filipa and I'm a newbie in the world of web development. I'm a newbie in the world of web development. I'm a newbie in the world of web development. I'm a newbie in\"}]"
      ]
     },
     "execution_count": 5,
     "metadata": {},
     "output_type": "execute_result"
    }
   ],
   "source": [
    "output = pipe(prompt, max_length = 50)"
   ]
  },
  {
   "cell_type": "markdown",
   "id": "7d1a7c05",
   "metadata": {},
   "source": [
    "Here we see the levels of abstraction at play. Saving the pipeline function to a new variable, then the prompt text to a variable, and passing that prompt into the pipe.\n",
    "\n",
    "Now let's look at the response, and inspect the data structure contained within it, which is a `list`.\n",
    "\n",
    "list is a collection of objects, or bits of information. So our output is saved as this collection type of object. "
   ]
  },
  {
   "cell_type": "code",
   "execution_count": 7,
   "id": "6c06fd66",
   "metadata": {},
   "outputs": [
    {
     "data": {
      "text/plain": [
       "[{'generated_text': \"Hello, my name is Filipa and I'm a newbie in the world of web development. I'm a newbie in the world of web development. I'm a newbie in the world of web development. I'm a newbie in\"}]"
      ]
     },
     "execution_count": 7,
     "metadata": {},
     "output_type": "execute_result"
    }
   ],
   "source": [
    "output"
   ]
  },
  {
   "cell_type": "code",
   "execution_count": 8,
   "id": "30e866a3",
   "metadata": {},
   "outputs": [
    {
     "data": {
      "text/plain": [
       "list"
      ]
     },
     "execution_count": 8,
     "metadata": {},
     "output_type": "execute_result"
    }
   ],
   "source": [
    "type(output)"
   ]
  },
  {
   "cell_type": "markdown",
   "id": "fd85f3cf",
   "metadata": {},
   "source": [
    "What if we wanted to extract just the output text, not the rest of the data, how would we go about it? We use list indexing. When we check the type, we find out the first item of the list is inside another data type, a `dict`."
   ]
  },
  {
   "cell_type": "code",
   "execution_count": 9,
   "id": "09e4bc41",
   "metadata": {},
   "outputs": [
    {
     "data": {
      "text/plain": [
       "{'generated_text': \"Hello, my name is Filipa and I'm a newbie in the world of web development. I'm a newbie in the world of web development. I'm a newbie in the world of web development. I'm a newbie in\"}"
      ]
     },
     "execution_count": 9,
     "metadata": {},
     "output_type": "execute_result"
    }
   ],
   "source": [
    "output[0]"
   ]
  },
  {
   "cell_type": "code",
   "execution_count": 10,
   "id": "d63a588d",
   "metadata": {},
   "outputs": [
    {
     "data": {
      "text/plain": [
       "dict"
      ]
     },
     "execution_count": 10,
     "metadata": {},
     "output_type": "execute_result"
    }
   ],
   "source": [
    "type(output[0])"
   ]
  },
  {
   "cell_type": "markdown",
   "id": "c83ca726",
   "metadata": {},
   "source": [
    " To get items from a dict, you use a different method, accessing them by their keys. "
   ]
  },
  {
   "cell_type": "code",
   "execution_count": 11,
   "id": "9e7e7d80",
   "metadata": {},
   "outputs": [
    {
     "data": {
      "text/plain": [
       "'literature'"
      ]
     },
     "execution_count": 11,
     "metadata": {},
     "output_type": "execute_result"
    }
   ],
   "source": [
    "filipa = {\n",
    "    'first_name': 'filipa',\n",
    "    'last_name': 'calado',\n",
    "    'job': 'library',\n",
    "    'age': '34',\n",
    "    'degree': 'literature'\n",
    "}\n",
    "\n",
    "filipa['degree']"
   ]
  },
  {
   "cell_type": "markdown",
   "id": "7ba06180",
   "metadata": {},
   "source": [
    "So, we can combine what we know about list indexing and accessing items in a dict by keys to pull out just the response text."
   ]
  },
  {
   "cell_type": "code",
   "execution_count": 12,
   "id": "15f4f28c",
   "metadata": {},
   "outputs": [
    {
     "data": {
      "text/plain": [
       "\"Hello, my name is Filipa and I'm a newbie in the world of web development. I'm a newbie in the world of web development. I'm a newbie in the world of web development. I'm a newbie in\""
      ]
     },
     "execution_count": 12,
     "metadata": {},
     "output_type": "execute_result"
    }
   ],
   "source": [
    "output[0]['generated_text']"
   ]
  },
  {
   "cell_type": "markdown",
   "id": "6106270c",
   "metadata": {},
   "source": [
    "## accessing data from datasets:\n",
    "\n",
    "Now we will practice what we've learned about accessing data on the Datasets library from HF. "
   ]
  },
  {
   "cell_type": "code",
   "execution_count": 20,
   "id": "912fdf20",
   "metadata": {},
   "outputs": [],
   "source": [
    "# install the library and import dataset loader\n",
    "# %%capture\n",
    "# !pip install datasets\n",
    "from datasets import load_dataset"
   ]
  },
  {
   "cell_type": "code",
   "execution_count": 16,
   "id": "484939a5",
   "metadata": {},
   "outputs": [
    {
     "name": "stderr",
     "output_type": "stream",
     "text": [
      "huggingface/tokenizers: The current process just got forked, after parallelism has already been used. Disabling parallelism to avoid deadlocks...\n",
      "To disable this warning, you can either:\n",
      "\t- Avoid using `tokenizers` before the fork if possible\n",
      "\t- Explicitly set the environment variable TOKENIZERS_PARALLELISM=(true | false)\n"
     ]
    },
    {
     "data": {
      "application/vnd.jupyter.widget-view+json": {
       "model_id": "56c389a6d510449a9c65c49c9f2294cf",
       "version_major": 2,
       "version_minor": 0
      },
      "text/plain": [
       "Downloading readme:   0%|          | 0.00/3.83k [00:00<?, ?B/s]"
      ]
     },
     "metadata": {},
     "output_type": "display_data"
    },
    {
     "name": "stdout",
     "output_type": "stream",
     "text": [
      "Downloading and preparing dataset csv/gofilipa--gender_congress_117-118 to /Users/caladof/.cache/huggingface/datasets/gofilipa___csv/gofilipa--gender_congress_117-118-304e9fdc48b3d0d4/0.0.0/6954658bab30a358235fa864b05cf819af0e179325c740e4bc853bcc7ec513e1...\n"
     ]
    },
    {
     "data": {
      "application/vnd.jupyter.widget-view+json": {
       "model_id": "0bafebb406d7420e9ec1475cbaedcb6c",
       "version_major": 2,
       "version_minor": 0
      },
      "text/plain": [
       "Downloading data files:   0%|          | 0/1 [00:00<?, ?it/s]"
      ]
     },
     "metadata": {},
     "output_type": "display_data"
    },
    {
     "data": {
      "application/vnd.jupyter.widget-view+json": {
       "model_id": "b5335438977840f5a9e2363e5a262d45",
       "version_major": 2,
       "version_minor": 0
      },
      "text/plain": [
       "Downloading data:   0%|          | 0.00/131k [00:00<?, ?B/s]"
      ]
     },
     "metadata": {},
     "output_type": "display_data"
    },
    {
     "data": {
      "application/vnd.jupyter.widget-view+json": {
       "model_id": "39c11efbccad4506892d9f74eb6d46ee",
       "version_major": 2,
       "version_minor": 0
      },
      "text/plain": [
       "Extracting data files:   0%|          | 0/1 [00:00<?, ?it/s]"
      ]
     },
     "metadata": {},
     "output_type": "display_data"
    },
    {
     "data": {
      "application/vnd.jupyter.widget-view+json": {
       "model_id": "",
       "version_major": 2,
       "version_minor": 0
      },
      "text/plain": [
       "Generating train split: 0 examples [00:00, ? examples/s]"
      ]
     },
     "metadata": {},
     "output_type": "display_data"
    },
    {
     "name": "stdout",
     "output_type": "stream",
     "text": [
      "Dataset csv downloaded and prepared to /Users/caladof/.cache/huggingface/datasets/gofilipa___csv/gofilipa--gender_congress_117-118-304e9fdc48b3d0d4/0.0.0/6954658bab30a358235fa864b05cf819af0e179325c740e4bc853bcc7ec513e1. Subsequent calls will reuse this data.\n"
     ]
    },
    {
     "data": {
      "application/vnd.jupyter.widget-view+json": {
       "model_id": "679cee235e4f4f60b4f605a0eac314ca",
       "version_major": 2,
       "version_minor": 0
      },
      "text/plain": [
       "  0%|          | 0/1 [00:00<?, ?it/s]"
      ]
     },
     "metadata": {},
     "output_type": "display_data"
    },
    {
     "data": {
      "text/plain": [
       "DatasetDict({\n",
       "    train: Dataset({\n",
       "        features: ['definitions'],\n",
       "        num_rows: 332\n",
       "    })\n",
       "})"
      ]
     },
     "execution_count": 16,
     "metadata": {},
     "output_type": "execute_result"
    }
   ],
   "source": [
    "# load the dataset and its subset\n",
    "dataset = load_dataset(\"gofilipa/gender_congress_117-118\")\n",
    "\n",
    "# check the dataset object\n",
    "dataset"
   ]
  },
  {
   "cell_type": "code",
   "execution_count": 17,
   "id": "ea958341",
   "metadata": {},
   "outputs": [
    {
     "data": {
      "text/plain": [
       "datasets.dataset_dict.DatasetDict"
      ]
     },
     "execution_count": 17,
     "metadata": {},
     "output_type": "execute_result"
    }
   ],
   "source": [
    "type(dataset)"
   ]
  },
  {
   "cell_type": "code",
   "execution_count": 18,
   "id": "75e33e4f",
   "metadata": {},
   "outputs": [
    {
     "data": {
      "text/plain": [
       "Dataset({\n",
       "    features: ['definitions'],\n",
       "    num_rows: 332\n",
       "})"
      ]
     },
     "execution_count": 18,
     "metadata": {},
     "output_type": "execute_result"
    }
   ],
   "source": [
    "# how do we get items from a dict? by the key\n",
    "\n",
    "dataset['train']"
   ]
  },
  {
   "cell_type": "code",
   "execution_count": 21,
   "id": "110d9d87",
   "metadata": {},
   "outputs": [
    {
     "data": {
      "text/plain": [
       "'The term sex means the indication of male or female sex by reproductive potential or capacity sex chromosomes naturally occurring sex hormones gonads or internal or external genitalia present at birth'"
      ]
     },
     "execution_count": 21,
     "metadata": {},
     "output_type": "execute_result"
    }
   ],
   "source": [
    "# how would we get the second row from this dataset?\n",
    "\n",
    "dataset['train']['definitions'][1]"
   ]
  },
  {
   "cell_type": "code",
   "execution_count": null,
   "id": "90e41ab0",
   "metadata": {},
   "outputs": [],
   "source": []
  }
 ],
 "metadata": {
  "kernelspec": {
   "display_name": "Python 3 (ipykernel)",
   "language": "python",
   "name": "python3"
  },
  "language_info": {
   "codemirror_mode": {
    "name": "ipython",
    "version": 3
   },
   "file_extension": ".py",
   "mimetype": "text/x-python",
   "name": "python",
   "nbconvert_exporter": "python",
   "pygments_lexer": "ipython3",
   "version": "3.11.0"
  }
 },
 "nbformat": 4,
 "nbformat_minor": 5
}
