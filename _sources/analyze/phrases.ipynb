{
 "cells": [
  {
   "cell_type": "markdown",
   "id": "1942fd5d",
   "metadata": {},
   "source": [
    "# the `PhraseMatcher`\n",
    "The `PhraseMatcher` allows you to write specific phrases or sequences of text to find in the dataset. This is really useful if you already know the kind of thing that you want to pick out, including exact variations of those phrases. But not so useful if you want to account for more than a few variations. For a way to handle more complex variations of phrases, see the token `Matcher` section."
   ]
  },
  {
   "cell_type": "markdown",
   "id": "a4977a62",
   "metadata": {},
   "source": [
    "The process of using the `PhraseMatcher` involves four steps, divided into four sections below.\n",
    "1. Write down & code the exact phrase you're looking for in the text\n",
    "2. Create the `PhraseMatcher` object and pass your phrase into it\n",
    "3. Run the `PhraseMatcher` on your doc\n",
    "4. Print out the matches\n"
   ]
  },
  {
   "cell_type": "markdown",
   "id": "ddbbd9bd",
   "metadata": {},
   "source": [
    "## 1. write down & code the phrase\n",
    "From close reading the bills dataset (in the [defining gender section](./questions.md)), we saw that the definitions include at least a single quote in the form of a backtick, terms like \"gender\" and \"sex\", and the word \"means\". The `PhraseMatcher` requires that we narrow down to the most common element that appears in all of them. This would be the backtick ` and terms like \"gender\" and \"sex\". I am leaving out everything after the term \"gender\" or \"sex\" because sometimes they are followed by single quotes and sometimes by double quotes, and I want to catch all of the possibilities for now.\n",
    "\n",
    "Our patterns would therefore be the following: \n",
    "\n",
    "```\n",
    "`gender\n",
    "`sex\n",
    "```"
   ]
  },
  {
   "cell_type": "markdown",
   "id": "5177cf34",
   "metadata": {},
   "source": [
    "## 2. create `PhraseMatcher` object and pass your phrase\n",
    "First, we will import the necessary libraries and load our text through  the `nlp()` pipeline."
   ]
  },
  {
   "cell_type": "code",
   "execution_count": 2,
   "id": "6bc7ad79",
   "metadata": {},
   "outputs": [],
   "source": [
    "import spacy\n",
    "from spacy.matcher import PhraseMatcher\n",
    "import requests # for getting the dataset\n",
    "\n",
    "# loading up the model in english\n",
    "nlp = spacy.load(\"en_core_web_sm\")"
   ]
  },
  {
   "cell_type": "markdown",
   "id": "0a466e19",
   "metadata": {},
   "source": [
    "Then, we create the `PhraseMatcher` object, code our phrases, and pass them into the object."
   ]
  },
  {
   "cell_type": "code",
   "execution_count": 3,
   "id": "9b53b900",
   "metadata": {},
   "outputs": [],
   "source": [
    "# create a matcher object.\n",
    "# we will then add phrases to the object\n",
    "\n",
    "matcher = PhraseMatcher(nlp.vocab)"
   ]
  },
  {
   "cell_type": "code",
   "execution_count": 4,
   "id": "0227890f",
   "metadata": {},
   "outputs": [],
   "source": [
    "# adding a number of phrases, \"definition\"\n",
    "# also, running each of our phrases through the nlp, to create it's\n",
    "# own \"doc\" object for each one. \n",
    "matcher.add(\"definitions\", [\n",
    "  nlp(\"`gender\"),\n",
    "  nlp(\"`sex\")])"
   ]
  },
  {
   "cell_type": "markdown",
   "id": "f05b0fe6",
   "metadata": {},
   "source": [
    "## 3. run the `PhraseMatcher`\n",
    "We can now run the `PhraseMatcher` on our `doc`. The results will first appear in a numeric form, but we will convert them to plain text in the next step.\n",
    "\n",
    "Before running the matcher, let's load up our dataset, convert it to a string, and finally a `doc` object in `spaCy`. "
   ]
  },
  {
   "cell_type": "code",
   "execution_count": 5,
   "id": "b71ff2d9",
   "metadata": {},
   "outputs": [],
   "source": [
    "# loading up our sample text, which is the first million characters\n",
    "# of our cleaned dataset\n",
    "\n",
    "source = requests.get('https://bit.ly/senate_117_bills_clean')\n",
    "text = source.content"
   ]
  },
  {
   "cell_type": "code",
   "execution_count": 6,
   "id": "52f692d5",
   "metadata": {},
   "outputs": [
    {
     "data": {
      "text/plain": [
       "bytes"
      ]
     },
     "execution_count": 6,
     "metadata": {},
     "output_type": "execute_result"
    }
   ],
   "source": [
    "type(text)"
   ]
  },
  {
   "cell_type": "code",
   "execution_count": 7,
   "id": "64e8d4e0",
   "metadata": {},
   "outputs": [],
   "source": [
    "decoded = text.decode('utf-8')"
   ]
  },
  {
   "cell_type": "code",
   "execution_count": 8,
   "id": "d5f74051",
   "metadata": {},
   "outputs": [],
   "source": [
    "# passing our dataset into the nlp() function\n",
    "# will have to use slicing in order to get around the memory constraints\n",
    "\n",
    "doc = nlp(decoded[:500000])"
   ]
  },
  {
   "cell_type": "code",
   "execution_count": 9,
   "id": "cf4b3fe0",
   "metadata": {},
   "outputs": [
    {
     "data": {
      "text/plain": [
       "b\"Congressional Bills 117th CongressFrom the U.S. Government Publishing OfficeS. 5242 Introduced in Senate (IS)&lt;DOC&gt;117th CONGRESS2d SessionS. 5242To prevent international violence against women, and for otherpurposes. IN THE SENATE OF THE UNITED STATES December 13, 2022Mrs. Shaheen (for herself and Ms. Collins) introduced the following bill; which was read twice and referred to the Committee on ForeignRelations A BILL To prevent international violence against women, and for otherpurposes.Be it enacted by the Senate and House of Representatives of the United States of America in Congress assembled,SECTION 1."
      ]
     },
     "execution_count": 9,
     "metadata": {},
     "output_type": "execute_result"
    }
   ],
   "source": [
    "# remember list slicing?\n",
    "\n",
    "doc[:100]"
   ]
  },
  {
   "cell_type": "code",
   "execution_count": 10,
   "id": "bb259944",
   "metadata": {},
   "outputs": [
    {
     "data": {
      "text/plain": [
       "spacy.tokens.doc.Doc"
      ]
     },
     "execution_count": 10,
     "metadata": {},
     "output_type": "execute_result"
    }
   ],
   "source": [
    "type(doc)"
   ]
  },
  {
   "cell_type": "code",
   "execution_count": 11,
   "id": "6b78715b",
   "metadata": {},
   "outputs": [
    {
     "data": {
      "text/plain": [
       "86025"
      ]
     },
     "execution_count": 11,
     "metadata": {},
     "output_type": "execute_result"
    }
   ],
   "source": [
    "len(doc)"
   ]
  },
  {
   "cell_type": "code",
   "execution_count": 12,
   "id": "4c3954db",
   "metadata": {},
   "outputs": [
    {
     "data": {
      "text/plain": [
       "[(5344954752463023658, 2287, 2289),\n",
       " (5344954752463023658, 4384, 4386),\n",
       " (5344954752463023658, 7828, 7830),\n",
       " (5344954752463023658, 8041, 8043),\n",
       " (5344954752463023658, 8169, 8171),\n",
       " (5344954752463023658, 8340, 8342),\n",
       " (5344954752463023658, 8463, 8465),\n",
       " (5344954752463023658, 8470, 8472),\n",
       " (5344954752463023658, 8490, 8492),\n",
       " (5344954752463023658, 8501, 8503)]"
      ]
     },
     "execution_count": 12,
     "metadata": {},
     "output_type": "execute_result"
    }
   ],
   "source": [
    "# run the matcher on the doc\n",
    "matches = matcher(doc)\n",
    "\n",
    "# printing out the first 10 results.\n",
    "# we get the hash, start and end locations\n",
    "matches[:10]"
   ]
  },
  {
   "cell_type": "code",
   "execution_count": 13,
   "id": "4243b904",
   "metadata": {},
   "outputs": [
    {
     "data": {
      "text/plain": [
       "72"
      ]
     },
     "execution_count": 13,
     "metadata": {},
     "output_type": "execute_result"
    }
   ],
   "source": [
    "# see how many we got total\n",
    "len(matches)"
   ]
  },
  {
   "cell_type": "markdown",
   "id": "ff53f9af",
   "metadata": {},
   "source": [
    "## 4. print the results\n",
    "Finally, we print out the plain text of our results."
   ]
  },
  {
   "cell_type": "code",
   "execution_count": 14,
   "id": "44d6cefd",
   "metadata": {},
   "outputs": [
    {
     "data": {
      "text/plain": [
       "(5344954752463023658, 2287, 2289)"
      ]
     },
     "execution_count": 14,
     "metadata": {},
     "output_type": "execute_result"
    }
   ],
   "source": [
    "# our first match consists of numbers, which are numerica hashes\n",
    "# and positions of our matches in our text data\n",
    "\n",
    "matches[0]"
   ]
  },
  {
   "cell_type": "code",
   "execution_count": 15,
   "id": "f816c99c",
   "metadata": {},
   "outputs": [
    {
     "name": "stdout",
     "output_type": "stream",
     "text": [
      "Gender analysis.--The term ``gender analysis''--(A) means a socioeconomic analysis of available or gathered quantitative and qualitative information to identify, understand, and explain gaps between men and women, which typically involves examining--(i) differences in the status of women and men and differential access to and control over assets, resources, education, opportunities, and services;(ii) the influence of gender roles, structural barriers, and norms on the division of time between paid, unpaid work (including the subsistence production and care for family members), and volunteer activities;(iii) the influence of gender roles, structural barriers, and norms on leadership roles and decision making; constraints, opportunities, and entry points for narrowing gender gaps and empowering women; and(iv) potential differential impacts of development policies and programs on men and women, including unintended or negative consequences; and(B) includes conclusions and recommendations to enable development policies and programs--(i) to narrow gender gaps; and(ii) to improve the lives of women and girls.(5) Office.--The term ``Office'' means the Office of Global Women's Issues established by the Secretary of State pursuant to section 202(a).(6)\n"
     ]
    }
   ],
   "source": [
    "# to see the actual text, we need to use the .sent attribute\n",
    "\n",
    "number, start, end = matches[0]\n",
    "print(doc[start:end].sent)"
   ]
  },
  {
   "cell_type": "code",
   "execution_count": 17,
   "id": "b643a330",
   "metadata": {},
   "outputs": [
    {
     "name": "stdout",
     "output_type": "stream",
     "text": [
      "Gender analysis.--The term ``gender analysis''--(A) means a socioeconomic analysis of available or gathered quantitative and qualitative information to identify, understand, and explain gaps between men and women, which typically involves examining--(i) differences in the status of women and men and differential access to and control over assets, resources, education, opportunities, and services;(ii) the influence of gender roles, structural barriers, and norms on the division of time between paid, unpaid work (including the subsistence production and care for family members), and volunteer activities;(iii) the influence of gender roles, structural barriers, and norms on leadership roles and decision making; constraints, opportunities, and entry points for narrowing gender gaps and empowering women; and(iv) potential differential impacts of development policies and programs on men and women, including unintended or negative consequences; and(B) includes conclusions and recommendations to enable development policies and programs--(i) to narrow gender gaps; and(ii) to improve the lives of women and girls.(5) Office.--The term ``Office'' means the Office of Global Women's Issues established by the Secretary of State pursuant to section 202(a).(6)\n",
      "\n",
      "\n",
      "Gender reassignment medical intervention defined``For purposes of this chapter, the term `gender reassignment medical intervention' means--``(1) performing a surgery that sterilizes an individual, including castration, vasectomy, hysterectomy, oophorectomy, metoidioplasty, penectomy, phalloplasty, and vaginoplasty, to change the body of such individual to correspond to a sex that is discordant with biological sex;``(2) performing a mastectomy on an individual for the purpose described in paragraph (1); and``(3) administering or supplying to an individual medications for the purpose described in paragraph (1), including--``(A)\n",
      "\n",
      "\n",
      "3. PUBLIC ACCOMMODATIONS.(a) Prohibition on Discrimination or Segregation in Public Accommodations.--Section 201 of the Civil Rights Act of 1964 (42 U.S.C. 2000a) is amended--(1) in subsection (a), by inserting ``sex (including sexual orientation and gender identity),'' before ``or national origin''; and(2) in subsection (b)--(A) in paragraph (3), by striking ``stadium'' and all that follows and inserting ``stadium or other place of or establishment that provides exhibition, entertainment, recreation, exercise, amusement, public gathering, or public display;'';(B) by redesignating paragraph (4) as paragraph (6); and(C) by inserting after paragraph (3) the following:``(4) any establishment that provides a good, service, or program, including a store, shopping center, online retailer or service provider, salon, bank, gas station, food bank, service or care center, shelter, travel agency, or funeral parlor, or establishment that provides health care, accounting, or legal services;``(5) any train service, bus service, car service, taxi service, airline service, station, depot, or other place of or establishment that provides transportation service; and''.(b) Prohibition on Discrimination or Segregation Under Law.--Section 202 of such Act (42 U.S.C. 2000a-1) is amended by inserting ``sex (including sexual orientation and gender identity),'' before ``or national origin''.(c)\n",
      "\n",
      "\n",
      "3. PUBLIC ACCOMMODATIONS.(a) Prohibition on Discrimination or Segregation in Public Accommodations.--Section 201 of the Civil Rights Act of 1964 (42 U.S.C. 2000a) is amended--(1) in subsection (a), by inserting ``sex (including sexual orientation and gender identity),'' before ``or national origin''; and(2) in subsection (b)--(A) in paragraph (3), by striking ``stadium'' and all that follows and inserting ``stadium or other place of or establishment that provides exhibition, entertainment, recreation, exercise, amusement, public gathering, or public display;'';(B) by redesignating paragraph (4) as paragraph (6); and(C) by inserting after paragraph (3) the following:``(4) any establishment that provides a good, service, or program, including a store, shopping center, online retailer or service provider, salon, bank, gas station, food bank, service or care center, shelter, travel agency, or funeral parlor, or establishment that provides health care, accounting, or legal services;``(5) any train service, bus service, car service, taxi service, airline service, station, depot, or other place of or establishment that provides transportation service; and''.(b) Prohibition on Discrimination or Segregation Under Law.--Section 202 of such Act (42 U.S.C. 2000a-1) is amended by inserting ``sex (including sexual orientation and gender identity),'' before ``or national origin''.(c)\n",
      "\n",
      "\n",
      "4. DESEGREGATION OF PUBLIC FACILITIES.Section 301(a) of the Civil Rights Act of 1964 (42 U.S.C. 2000b(a)) is amended by inserting ``sex (including sexual orientation and gender identity),'' before ``or national origin''.\n",
      "\n",
      "\n",
      "6. FEDERAL FUNDING.Section 601 of the Civil Rights Act of 1964 (42 U.S.C. 2000d) is amended by inserting ``sex (including sexual orientation and gender identity),'' before ``or national origin,''.\n",
      "\n",
      "\n",
      "Unlawful Employment Practices.--Section 703 of the Civil Rights Act of 1964 (42 U.S.C. 2000e-2) is amended--(1) in the section header, by striking ``sex,'' and inserting ``sex (including sexual orientation and gender identity),'';(2) except in subsection (e), by striking ``sex,'' each place it appears and inserting ``sex (including sexual orientation and gender identity),'';(3) in subsection (e)(1), by striking ``enterprise,'' and inserting ``enterprise, if, in a situation in which sex is a bona fide occupational qualification, individuals are recognized as qualified in accordance with their gender identity,''; and(4) in subsection (h), by striking ``sex'' the second place it appears and inserting ``sex (including sexual orientation and gender identity),''.(c) Other Unlawful Employment Practices.--Section 704(b) of the Civil Rights Act of 1964 (42 U.S.C. 2000e-3(b)) is amended--(1) by striking ``sex,'' the first place it appears and inserting ``sex (including sexual orientation and gender identity),''; and(2) by striking ``employment.''\n",
      "\n",
      "\n",
      "Unlawful Employment Practices.--Section 703 of the Civil Rights Act of 1964 (42 U.S.C. 2000e-2) is amended--(1) in the section header, by striking ``sex,'' and inserting ``sex (including sexual orientation and gender identity),'';(2) except in subsection (e), by striking ``sex,'' each place it appears and inserting ``sex (including sexual orientation and gender identity),'';(3) in subsection (e)(1), by striking ``enterprise,'' and inserting ``enterprise, if, in a situation in which sex is a bona fide occupational qualification, individuals are recognized as qualified in accordance with their gender identity,''; and(4) in subsection (h), by striking ``sex'' the second place it appears and inserting ``sex (including sexual orientation and gender identity),''.(c) Other Unlawful Employment Practices.--Section 704(b) of the Civil Rights Act of 1964 (42 U.S.C. 2000e-3(b)) is amended--(1) by striking ``sex,'' the first place it appears and inserting ``sex (including sexual orientation and gender identity),''; and(2) by striking ``employment.''\n",
      "\n",
      "\n",
      "Unlawful Employment Practices.--Section 703 of the Civil Rights Act of 1964 (42 U.S.C. 2000e-2) is amended--(1) in the section header, by striking ``sex,'' and inserting ``sex (including sexual orientation and gender identity),'';(2) except in subsection (e), by striking ``sex,'' each place it appears and inserting ``sex (including sexual orientation and gender identity),'';(3) in subsection (e)(1), by striking ``enterprise,'' and inserting ``enterprise, if, in a situation in which sex is a bona fide occupational qualification, individuals are recognized as qualified in accordance with their gender identity,''; and(4) in subsection (h), by striking ``sex'' the second place it appears and inserting ``sex (including sexual orientation and gender identity),''.(c) Other Unlawful Employment Practices.--Section 704(b) of the Civil Rights Act of 1964 (42 U.S.C. 2000e-3(b)) is amended--(1) by striking ``sex,'' the first place it appears and inserting ``sex (including sexual orientation and gender identity),''; and(2) by striking ``employment.''\n",
      "\n",
      "\n",
      "Unlawful Employment Practices.--Section 703 of the Civil Rights Act of 1964 (42 U.S.C. 2000e-2) is amended--(1) in the section header, by striking ``sex,'' and inserting ``sex (including sexual orientation and gender identity),'';(2) except in subsection (e), by striking ``sex,'' each place it appears and inserting ``sex (including sexual orientation and gender identity),'';(3) in subsection (e)(1), by striking ``enterprise,'' and inserting ``enterprise, if, in a situation in which sex is a bona fide occupational qualification, individuals are recognized as qualified in accordance with their gender identity,''; and(4) in subsection (h), by striking ``sex'' the second place it appears and inserting ``sex (including sexual orientation and gender identity),''.(c) Other Unlawful Employment Practices.--Section 704(b) of the Civil Rights Act of 1964 (42 U.S.C. 2000e-3(b)) is amended--(1) by striking ``sex,'' the first place it appears and inserting ``sex (including sexual orientation and gender identity),''; and(2) by striking ``employment.''\n",
      "\n",
      "\n"
     ]
    }
   ],
   "source": [
    "# to see the actual text, need to write code to access the text\n",
    "# version of that information, like \"text\", \"doc[start]\" and\n",
    "# \"doc[end]\"\n",
    "# we can also print out the whole sentence, with doc.sent\n",
    "\n",
    "for match in matches[:10]:\n",
    "    number, start, end = match\n",
    "    print(doc[start:end].sent)\n",
    "    print('\\n')\n"
   ]
  },
  {
   "cell_type": "markdown",
   "id": "b4e990bd",
   "metadata": {},
   "source": [
    "We can see that we've captured a lot here, even more than what we wanted, which is definitions of our gender terms. \n",
    "For example, we captured phrases like \"striking 'sex'\" and \"inserting 'sex'\". In the token `Matcher` section, we will \n",
    "look at ways of writing patterns that can handle more variations in our results. \n",
    "\n",
    "Let's save the data to a plain text file."
   ]
  },
  {
   "cell_type": "code",
   "execution_count": 96,
   "id": "52bcb399",
   "metadata": {},
   "outputs": [],
   "source": [
    "# first, create an empty list to store our definitions\n",
    "defs = []\n",
    "\n",
    "# then, write a loop that appends our data to that list with some useful labels \n",
    "for match in matches:\n",
    "    number, start, end = match\n",
    "    defs.append(f'Phrase: \"{doc[start:end]}\", ')\n",
    "    defs.append('\\n')\n",
    "    defs.append(f\"Sentence: {doc[start].sent}\")\n",
    "    defs.append('\\n')\n",
    "    defs.append(f'Starts: {start} of {len(doc)}')\n",
    "    defs.append('\\n')\n",
    "    defs.append('\\n')\n",
    "\n",
    " # finally, save that list to a plain text file called 'definitions'\n",
    "with open('./out/definitions.txt', 'w') as f:\n",
    "    for item in defs:\n",
    "        f.write(str(item))"
   ]
  },
  {
   "cell_type": "code",
   "execution_count": null,
   "id": "39e1cc4c",
   "metadata": {},
   "outputs": [],
   "source": []
  }
 ],
 "metadata": {
  "kernelspec": {
   "display_name": "Python 3 (ipykernel)",
   "language": "python",
   "name": "python3"
  },
  "language_info": {
   "codemirror_mode": {
    "name": "ipython",
    "version": 3
   },
   "file_extension": ".py",
   "mimetype": "text/x-python",
   "name": "python",
   "nbconvert_exporter": "python",
   "pygments_lexer": "ipython3",
   "version": "3.11.0"
  }
 },
 "nbformat": 4,
 "nbformat_minor": 5
}
