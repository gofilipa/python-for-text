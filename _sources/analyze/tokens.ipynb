{
 "cells": [
  {
   "cell_type": "markdown",
   "id": "af3cd0d1",
   "metadata": {},
   "source": [
    "# the token `Matcher`\n",
    "The token `Matcher` is very similar to the `PhraseMatcher` from two sections before. The difference is that this `Matcher` is allows for more variation, so we can capture different forms of the same basic pattern. For example, we could get definitions of gender (and sex, and sexuality) that use different words (like \"means\" or \"includes\") or kinds of punctuation (like single or double quotes) in the defintition.\n",
    "\n",
    "The token `Matcher` works by writing a pattern of tokens that we define using the token attributes. We can, for example, leverage the work we did with the `EntityRuler` in the previous section to help create our token `Matcher`.\n",
    "\n",
    "First, we will import the matcher to create a matcher object. Then, we will write patterns and save them. After that, we add our new patterns to the matcher. Finally, we will run the matcher on our document. The steps are the following:\n",
    "1. write patterns to matcher\n",
    "2. configure and run matcher\n",
    "3. print the results\n",
    "\n",
    "Let's take it one step at a time. "
   ]
  },
  {
   "cell_type": "markdown",
   "id": "6da5f7b0",
   "metadata": {},
   "source": [
    "## 1. write patterns to the matcher"
   ]
  },
  {
   "cell_type": "code",
   "execution_count": 4,
   "id": "afe9a6ac",
   "metadata": {},
   "outputs": [],
   "source": [
    "# loading up our libraries and text\n",
    "import spacy\n",
    "import requests\n",
    "from spacy.matcher import Matcher\n",
    "\n",
    "nlp = spacy.load(\"en_core_web_sm\")"
   ]
  },
  {
   "cell_type": "markdown",
   "id": "0897e8f2",
   "metadata": {},
   "source": [
    "We want to capture not just \"gender,\" but \"sex\" and \"sexuality,\" as well as other synonyms for these terms. That's where the custom entities from the last section will become useful. \n",
    "\n",
    "Below I am re-creating the custom entity ruler so that we can leverage these entites in our token matcher."
   ]
  },
  {
   "cell_type": "code",
   "execution_count": 5,
   "id": "cbf68adf",
   "metadata": {},
   "outputs": [],
   "source": [
    "ruler = nlp.add_pipe(\"entity_ruler\", after=\"ner\")\n",
    "\n",
    "patterns = [\n",
    "                {\"label\": \"GENDER\", \"pattern\": 'gender'},\n",
    "                {\"label\": \"GENDER\", \"pattern\": 'trans'},\n",
    "                {\"label\": \"GENDER\", \"pattern\": 'nonbinary'},\n",
    "                {\"label\": \"GENDER\", \"pattern\": 'male'},\n",
    "                {\"label\": \"GENDER\", \"pattern\": 'female'},\n",
    "                {\"label\": \"SEX\", \"pattern\": 'sex'},\n",
    "                {\"label\": \"SEX\", \"pattern\": 'biological'},\n",
    "                {\"label\": \"SEXUALITY\", \"pattern\": 'sexuality'},\n",
    "                {\"label\": \"SEXUALITY\", \"pattern\": 'orientation'},\n",
    "                {\"label\": \"SEXUALITY\", \"pattern\": 'queer'},\n",
    "                {\"label\": \"IDENTITY\", \"pattern\": 'LGBTQ'},\n",
    "                {\"label\": \"IDENTITY\", \"pattern\": 'LGBT'},\n",
    "                {\"label\": \"IDENTITY\", \"pattern\": 'LGBTQIA+'},\n",
    "                {\"label\": \"IDENTITY\", \"pattern\": 'queer'}\n",
    "            ]\n",
    "\n",
    "ruler.add_patterns(patterns)"
   ]
  },
  {
   "cell_type": "markdown",
   "id": "796fffa6",
   "metadata": {},
   "source": [
    "This is the basic format of the `Matcher`. We will add much more detail to this format later on, but it's a good idea to get a sense of how it's structured now, using JSON key-value pairs. \n",
    "\n",
    "Also, it draws the token attributes from this page: https://spacy.io/api/matcher"
   ]
  },
  {
   "cell_type": "code",
   "execution_count": 6,
   "id": "b1e92836",
   "metadata": {},
   "outputs": [],
   "source": [
    "pattern_format = [\n",
    "    {\n",
    "        'LOWER': 'gender'\n",
    "    },\n",
    "    {\n",
    "        'IS_PUNCT': True\n",
    "    },\n",
    "    {\n",
    "        'LOWER': 'means'\n",
    "    }\n",
    "]"
   ]
  },
  {
   "cell_type": "markdown",
   "id": "2bc627cc",
   "metadata": {},
   "source": [
    "We want to capture a specific pattern where gender is being defined. We'd want a phrase that captures text like: \"gender means\", and to also get variations on the punctuation and/or terminologies in that text. For example, we want to get instances where they use both single and double quotes. "
   ]
  },
  {
   "cell_type": "code",
   "execution_count": 7,
   "id": "5e8b1854",
   "metadata": {},
   "outputs": [],
   "source": [
    "pattern = [\n",
    "      # specifying the entity type, which can be one of our three\n",
    "      # custom entities\n",
    "      {\"ENT_TYPE\": {\n",
    "          'IN': [\n",
    "              'GENDER', 'SEX', 'SEXUALITY'\n",
    "              ]\n",
    "          }\n",
    "      },\n",
    "      {'OP': '?'}, # catches a \"wild card\" if it appears zero or one time.\n",
    "      {'OP': '?'}, # catches a \"wild card\" if it appears zero or one time.\n",
    "      {'OP': '?'}, # catches a \"wild card\" if it appears zero or one time.\n",
    "      {'OP': '?'}, # catches a \"wild card\" if it appears zero or one time.\n",
    "      {'OP': '?'}, # catches a \"wild card\" if it appears zero or one time.\n",
    "      {'OP': '?'}, # catches a \"wild card\" if it appears zero or one time.\n",
    "      {'OP': '?'}, # catches a \"wild card\" if it appears zero or one time.\n",
    "      {\n",
    "          'IS_PUNCT': True, 'OP': '+' #one or more times\n",
    "      },\n",
    "      {\n",
    "          # getting the lowercase word of any of the following terms\n",
    "          'LOWER': {\n",
    "              'IN': [\n",
    "                  'means', 'signifies', 'includes'\n",
    "              ]\n",
    "          }\n",
    "       }\n",
    "  ]"
   ]
  },
  {
   "cell_type": "markdown",
   "id": "2e988b72",
   "metadata": {},
   "source": [
    "## 2. configure and run matcher\n",
    "Now we can configure the `Matcher`. First, create the matcher, then add our pattern to the matcher, and finally run the mather on our doc. "
   ]
  },
  {
   "cell_type": "code",
   "execution_count": 8,
   "id": "04a8853f",
   "metadata": {},
   "outputs": [],
   "source": [
    "# loading up our sample text, which is the first million characters\n",
    "# of our cleaned dataset\n",
    "\n",
    "source = requests.get('https://bit.ly/senate_117_bills_clean')\n",
    "text = source.content\n",
    "decoded = text.decode('utf-8')\n",
    "\n",
    "doc = nlp(decoded[:500000])"
   ]
  },
  {
   "cell_type": "code",
   "execution_count": 9,
   "id": "7a6263e3",
   "metadata": {},
   "outputs": [],
   "source": [
    "# use matcher class to create a matcher object\n",
    "matcher = Matcher(nlp.vocab)\n",
    "\n",
    "# add pattern to matcher\n",
    "matcher.add('definition', [pattern])\n",
    "\n",
    "# run matcher over doc\n",
    "matches = matcher(doc)"
   ]
  },
  {
   "cell_type": "code",
   "execution_count": 10,
   "id": "a80fb2b5",
   "metadata": {},
   "outputs": [
    {
     "data": {
      "text/plain": [
       "33"
      ]
     },
     "execution_count": 10,
     "metadata": {},
     "output_type": "execute_result"
    }
   ],
   "source": [
    "# how many matches did we get?\n",
    "\n",
    "len(matches)"
   ]
  },
  {
   "cell_type": "markdown",
   "id": "e399f042",
   "metadata": {},
   "source": [
    "## print the matches\n",
    "Let's see the actual text. "
   ]
  },
  {
   "cell_type": "code",
   "execution_count": 11,
   "id": "c5ca081e",
   "metadata": {},
   "outputs": [
    {
     "name": "stdout",
     "output_type": "stream",
     "text": [
      "definition 2288 2292 gender analysis''--(A) means\n",
      "Gender analysis.--The term ``gender analysis''--(A) means a socioeconomic analysis of available or gathered quantitative and qualitative information to identify, understand, and explain gaps between men and women, which typically involves examining--(i) differences in the status of women and men and differential access to and control over assets, resources, education, opportunities, and services;(ii) the influence of gender roles, structural barriers, and norms on the division of time between paid, unpaid work (including the subsistence production and care for family members), and volunteer activities;(iii) the influence of gender roles, structural barriers, and norms on leadership roles and decision making; constraints, opportunities, and entry points for narrowing gender gaps and empowering women; and(iv) potential differential impacts of development policies and programs on men and women, including unintended or negative consequences; and(B) includes conclusions and recommendations to enable development policies and programs--(i) to narrow gender gaps; and(ii) to improve the lives of women and girls.(5) Office.--The term ``Office'' means the Office of Global Women's Issues established by the Secretary of State pursuant to section 202(a).(6)\n",
      "\n",
      "\n",
      "definition 9680 9684 gender identity' means\n",
      "Gender identity.--The term `gender identity' means the gender-related identity, appearance, mannerisms, or other gender-related characteristics of an individual, regardless of the individual's designated sex at birth.\n",
      "\n",
      "\n",
      "definition 9785 9788 orientation' means\n",
      "``(5) Sexual orientation.--The term `sexual orientation' means homosexuality, heterosexuality, or bisexuality.\n",
      "\n",
      "\n",
      "definition 11856 11861 gender transition procedure' means\n",
      "In general.--The term `gender transition procedure' means any medical or surgical service which seeks to alter or remove physiological or anatomical characteristics or features which are typical for the individual's biological sex, or to instill or create physiological or anatomical characteristics which resemble a sex different from the individual's birth sex, for the purpose of gender transition, including--``(I) physician's services and inpatient and outpatient hospital services, including gender transition surgery, and``(II) prescribed drugs related to gender transition, including puberty-blocking drugs, cross-sex hormones, or other mechanisms to promote the development of feminizing or masculinizing features (in the opposite sex).``(ii) Exceptions.--Such term does not include--``(I) services for treatment of a medically-verifiable disorder of sex development, including--``(aa) external biological sex characteristics which are irresolvably ambiguous, such as presence of 46 XX chromosomes with virilization, 46 XY chromosomes with undervirilization, or both ovarian and testicular tissue, or``(bb) other physician-diagnosed disorder of sexual development, with respect to which the physician has determined through genetic or biochemical testing that the individual does not have normal sex chromosome structure, sex steroid hormone production, or sex steroid hormone action for a biological male or biological female, or``(II) treatment of any infection, injury, disease, or disorder caused or exacerbated by the performance of any gender transition procedure, whether or not the gender transition procedure was performed in accordance with State and Federal law or whether not a deduction for expenses in connection with the gender transition procedure is allowable under this chapter.\n",
      "\n",
      "\n",
      "definition 12143 12146 gender' means\n",
      "Gender.--The term `gender' means the psychological, behavioral, social, and cultural aspects of being male or female.\n",
      "\n",
      "\n",
      "definition 12168 12172 gender transition' means\n",
      "Gender transition.--The term `gender transition' means the process in which an individual goes from identifying with and living as a gender that corresponds to his or her biological sex to identifying with and living as a gender different from his or her biological sex, and may involve social, legal, or physical changes.\n",
      "\n",
      "\n",
      "definition 12232 12237 gender transition surgery' means\n",
      "In general.--The term `gender transition surgery' means any surgical service, including genital or non-genital surgery, performed for the purpose of assisting an individual with a gender transition.\n",
      "\n",
      "\n",
      "definition 12548 12552 sex hormones' means\n",
      "hormones.--The term `cross-sex hormones' means testosterone or other androgens given to biological females at doses which are profoundly larger or more potent than would normally occur naturally in healthy biological females, and estrogen given to biological males at doses which are profoundly larger or more potent than would normally occur naturally in healthy biological males.\n",
      "\n",
      "\n",
      "definition 12542 12552 sex hormones.--The term `cross-sex hormones' means\n",
      "``(ix) Cross-sex\n",
      "\n",
      "\n",
      "definition 13845 13848 sex'' means\n",
      "Biological sex.--The term ``biological sex'' means the biological indication of male and female in the context of reproductive potential or capacity, such as sex chromosomes, naturally occurring sex hormones, gonads, and nonambiguous internal and external genitalia present at birth, without regard to a person's psychological, chosen, or subjective experience of gender.(2)\n",
      "\n",
      "\n"
     ]
    }
   ],
   "source": [
    "for match_id, start, end in matches[:10]:\n",
    "    string_id = nlp.vocab.strings[match_id]  # Get string representation\n",
    "    span = doc[start:end]  # The matched span\n",
    "    print(string_id, start, end, span.text)\n",
    "    print(doc[start].sent)\n",
    "    print('\\n')"
   ]
  },
  {
   "cell_type": "markdown",
   "id": "06c7c829",
   "metadata": {},
   "source": [
    "Due to the versatility of the token `Matcher`, we can catch instances like gender dysphoria'' means and orientation includes, which goes beyond what we were able to do with the `PhraseMatcher`. Pretty cool, right?\n",
    "\n",
    "Next step is to save our data as a plain text file, so we can review it later.\n",
    "\n",
    "We will include just the matched phrase and the full sentence from which it occurs. "
   ]
  },
  {
   "cell_type": "code",
   "execution_count": 66,
   "id": "b5f21ade",
   "metadata": {},
   "outputs": [],
   "source": [
    "with open('./out/matcher_defs.txt', 'w') as f:\n",
    "    for match_id, start, end in matches:\n",
    "        string_id = nlp.vocab.strings[match_id]  # Get string representation\n",
    "        span = doc[start:end]  # The matched span\n",
    "        f.write(str(span.text))\n",
    "        f.write(str('\\n'))\n",
    "        f.write(str(doc[start].sent))\n",
    "        f.write(str('\\n'))\n",
    "        f.write(str('\\n'))"
   ]
  },
  {
   "cell_type": "markdown",
   "id": "c469d24e",
   "metadata": {},
   "source": [
    "That's all, folks!"
   ]
  }
 ],
 "metadata": {
  "kernelspec": {
   "display_name": "Python 3 (ipykernel)",
   "language": "python",
   "name": "python3"
  },
  "language_info": {
   "codemirror_mode": {
    "name": "ipython",
    "version": 3
   },
   "file_extension": ".py",
   "mimetype": "text/x-python",
   "name": "python",
   "nbconvert_exporter": "python",
   "pygments_lexer": "ipython3",
   "version": "3.11.0"
  }
 },
 "nbformat": 4,
 "nbformat_minor": 5
}
