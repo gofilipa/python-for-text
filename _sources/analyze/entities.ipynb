{
 "cells": [
  {
   "cell_type": "markdown",
   "id": "38856556",
   "metadata": {},
   "source": [
    "# the `Entity-Ruler`\n",
    "\"Entities,\" from \"Named Entity Recognition,\" are labels added to certain words or numbers that fit within a category like person, place, time, date. These categories represent words/numbers that are relatively important in the data, which is why NER picks them out and label them.\n",
    "\n",
    "By writing a custom  `Entity-Ruler`, or \"ruler\" for short, we can define our own entity and write instructions for how to find and label entites of our choosing.\n",
    "\n",
    "For this project, we will write a custom ruler that captures words and phrases related to gender in the text, like \"gender,\" \"sex,\" \"male,\" \"female,\" for example. After we write the pattern we want, then we add it to our ruler. At the end, we will pass our text (our dataset of the bills) through the `nlp()` pipeline, going through the entire pipeline process once more, this time, with our ruler added to the NER pipe. Here are the steps in order:\n",
    "1. Write down & code the exact pattern you're looking for in the text\n",
    "2. Create the custom ruler and add the patterns to the ruler\n",
    "3. Run the `nlp()` pipeline (which now includes our custom ruler) on the text\n",
    "4. print the results\n",
    "\n",
    "*Note for advanced users: If you wanted to train a model to find definitions of gender/sex/sexuality from new data, you could use the `Entity-Ruler` to help prepare the dataset. You would first write a ruler, run it on your dataset, then use the results to \"fine-tune\" a model. Then, when the model is trained, you can use it to process new text (that it's never seen before) and automatically apply your entity rules to that text. For more on training an NER, see [Dr. Mattingly's excellent tutorial](https://ner.pythonhumanities.com/03_01_create_ner_training_set.html)* on the subject."
   ]
  },
  {
   "cell_type": "code",
   "execution_count": 1,
   "id": "311b7691",
   "metadata": {},
   "outputs": [],
   "source": [
    "# loading up our libraries and text\n",
    "import spacy\n",
    "import requests\n",
    "nlp = spacy.load(\"en_core_web_sm\")"
   ]
  },
  {
   "cell_type": "markdown",
   "id": "ea8497e6",
   "metadata": {},
   "source": [
    "## 1. write down & code the patterns"
   ]
  },
  {
   "cell_type": "markdown",
   "id": "09338a84",
   "metadata": {},
   "source": [
    "Now we will use NER to add entities to our text. For example, we can create a custom entity to represent anytime a word like \"gender\" or \"sex\" is mentioned. When writing our patterns, let's try to separate out terms for gender, sex, and sexuality within the bills. "
   ]
  },
  {
   "cell_type": "code",
   "execution_count": 2,
   "id": "7751b5e8",
   "metadata": {},
   "outputs": [],
   "source": [
    "# List of Entities and Patterns\n",
    "\n",
    "# the syntax is to use a JSON format to add a label and the pattern\n",
    "# that matches the label. The patterns is the exact text which the ruler\n",
    "# will be looking for in the data. \n",
    "\n",
    "patterns = [\n",
    "              {\"label\": \"GENDER\", \"pattern\": 'gender'},\n",
    "              {\"label\": \"SEX\", \"pattern\": 'sex'},\n",
    "              {\"label\": \"SEXUALITY\", \"pattern\": 'sexuality'},\n",
    "              {\"label\": \"SEXUALITY\", \"pattern\": 'orientation'}\n",
    "          ]"
   ]
  },
  {
   "cell_type": "markdown",
   "id": "3812bbb8",
   "metadata": {},
   "source": [
    "If we want to catch more examples of gender, sex, and sexuality terms, we can add more words to our entity ruler. "
   ]
  },
  {
   "cell_type": "code",
   "execution_count": 8,
   "id": "d1c08707",
   "metadata": {},
   "outputs": [],
   "source": [
    "patterns = [\n",
    "                {\"label\": \"GENDER\", \"pattern\": 'gender'},\n",
    "                {\"label\": \"GENDER\", \"pattern\": 'trans'},\n",
    "                {\"label\": \"GENDER\", \"pattern\": 'nonbinary'},\n",
    "                {\"label\": \"GENDER\", \"pattern\": 'male'},\n",
    "                {\"label\": \"GENDER\", \"pattern\": 'female'},\n",
    "                {\"label\": \"SEX\", \"pattern\": 'sex'},\n",
    "                {\"label\": \"SEX\", \"pattern\": 'biological'},\n",
    "                {\"label\": \"SEXUALITY\", \"pattern\": 'sexuality'},\n",
    "                {\"label\": \"SEXUALITY\", \"pattern\": 'orientation'},\n",
    "                {\"label\": \"SEXUALITY\", \"pattern\": 'queer'},\n",
    "                {\"label\": \"IDENTITY\", \"pattern\": 'LGBTQ'},\n",
    "                {\"label\": \"IDENTITY\", \"pattern\": 'LGBT'},\n",
    "                {\"label\": \"IDENTITY\", \"pattern\": 'LGBTQIA+'},\n",
    "                {\"label\": \"IDENTITY\", \"pattern\": 'queer'}\n",
    "            ]"
   ]
  },
  {
   "cell_type": "markdown",
   "id": "ca6a8310",
   "metadata": {},
   "source": [
    "## 2. create our ruler & add patterns"
   ]
  },
  {
   "cell_type": "code",
   "execution_count": 3,
   "id": "f23972da",
   "metadata": {},
   "outputs": [],
   "source": [
    "# create the EntityRuler object\n",
    "ruler = nlp.add_pipe(\"entity_ruler\", after=\"ner\")"
   ]
  },
  {
   "cell_type": "code",
   "execution_count": 4,
   "id": "1d5ee46d",
   "metadata": {},
   "outputs": [],
   "source": [
    "# after writing the pattern, we need to add it to our ruler\n",
    "ruler.add_patterns(patterns)"
   ]
  },
  {
   "cell_type": "code",
   "execution_count": 5,
   "id": "9ba1d521",
   "metadata": {},
   "outputs": [
    {
     "name": "stdout",
     "output_type": "stream",
     "text": [
      "['tok2vec', 'tagger', 'parser', 'attribute_ruler', 'lemmatizer', 'ner', 'entity_ruler']\n"
     ]
    }
   ],
   "source": [
    "# check to see that our ruler is now in the pipeline\n",
    "print(nlp.pipe_names)"
   ]
  },
  {
   "cell_type": "markdown",
   "id": "e47a6d01",
   "metadata": {},
   "source": [
    "## 3. run `nlp()` on our text\n",
    "Remember that we need to run `nlp()` *after* adding our pattern to the ruler. This will ensure that our new pipeline (which contains our custom ruler) has a chance to run on our text."
   ]
  },
  {
   "cell_type": "code",
   "execution_count": 6,
   "id": "4707d41d",
   "metadata": {},
   "outputs": [],
   "source": [
    "# loading up our sample text, which is the first million characters\n",
    "# of our cleaned dataset\n",
    "\n",
    "source = requests.get('https://bit.ly/senate_117_bills_clean')\n",
    "text = source.content\n",
    "decoded = text.decode('utf-8')\n",
    "    \n",
    "doc = nlp(decoded[:500000])"
   ]
  },
  {
   "cell_type": "markdown",
   "id": "db830363",
   "metadata": {},
   "source": [
    "## 4. print the results"
   ]
  },
  {
   "cell_type": "code",
   "execution_count": 7,
   "id": "5d346fdd",
   "metadata": {},
   "outputs": [
    {
     "name": "stdout",
     "output_type": "stream",
     "text": [
      "the U.S. Government Publishing ORG\n",
      "Senate ORG\n",
      "IS)&lt;DOC&gt;117th ORG\n",
      "5242To CARDINAL\n",
      "THE UNITED STATES GPE\n",
      "December 13 DATE\n",
      "2022Mrs CARDINAL\n",
      "Collins PERSON\n",
      "the Committee on ForeignRelations A ORG\n",
      "Senate ORG\n",
      "House of Representatives ORG\n",
      "the United States of America GPE\n",
      "Congress ORG\n",
      "SECTION 1 LAW\n",
      "TITLE ORG\n",
      "the ``International Violence Against Women Act PRODUCT\n",
      "Sec ORG\n",
      "1 CARDINAL\n",
      "Sec ORG\n",
      "2 CARDINAL\n",
      "Sec ORG\n",
      "3 CARDINAL\n",
      "STRATEGY TO PREVENT PERSON\n",
      "GENDER-BASEDVIOLENCE ORG\n",
      "101 CARDINAL\n",
      "201 CARDINAL\n",
      "Sec ORG\n",
      "202 CARDINAL\n",
      "Sec ORG\n",
      "203 CARDINAL\n",
      "204 CARDINAL\n",
      "SEC ORG\n",
      "2 CARDINAL\n",
      "An estimated 1 CARDINAL\n",
      "3 CARDINAL\n",
      "sex SEX\n",
      "Up to 70 percent PERCENT\n",
      "gender GENDER\n",
      "Swaziland GPE\n",
      "Tanzania GPE\n",
      "Zimbabwe GPE\n",
      "Kenya GPE\n",
      "Haiti GPE\n",
      "between 28 CARDINAL\n",
      "38 percent PERCENT\n",
      "between 9 and 18 percent DATE\n",
      "18 years DATE\n",
      "6 CARDINAL\n",
      "the International Men and Gender Equality Survey dataset.(6 ORG\n",
      "gender GENDER\n",
      "gender GENDER\n",
      "gender GENDER\n",
      "up to three CARDINAL\n",
      "The World Health Organization ORG\n",
      "more than 50 percent PERCENT\n",
      "four-fold CARDINAL\n",
      "gender GENDER\n",
      "gender GENDER\n",
      "gender GENDER\n",
      "The World Health Organization ORG\n"
     ]
    }
   ],
   "source": [
    "# extract entities\n",
    "for ent in doc.ents[:60]:\n",
    "    print (ent.text, ent.label_)"
   ]
  },
  {
   "cell_type": "code",
   "execution_count": 10,
   "id": "40f88d40",
   "metadata": {},
   "outputs": [],
   "source": [
    "# Remember that we also have to run the nlp() again through our text \n",
    "# in order to ensure our new entities are in the pipe. \n",
    "\n",
    "doc = nlp(decoded[:500000])"
   ]
  },
  {
   "cell_type": "code",
   "execution_count": 30,
   "id": "03477b92",
   "metadata": {},
   "outputs": [
    {
     "name": "stdout",
     "output_type": "stream",
     "text": [
      "the U.S. Government Publishing ORG\n",
      "Senate ORG\n",
      "IS)&lt;DOC&gt;117th ORG\n",
      "5242To CARDINAL\n",
      "THE UNITED STATES GPE\n",
      "December 13 DATE\n",
      "2022Mrs CARDINAL\n",
      "Collins PERSON\n",
      "the Committee on ForeignRelations A ORG\n",
      "Senate ORG\n",
      "House of Representatives ORG\n",
      "the United States of America GPE\n",
      "Congress ORG\n",
      "SECTION 1 LAW\n",
      "TITLE ORG\n",
      "the ``International Violence Against Women Act PRODUCT\n",
      "Sec ORG\n",
      "1 CARDINAL\n",
      "Sec ORG\n",
      "2 CARDINAL\n"
     ]
    }
   ],
   "source": [
    "# extract entities again\n",
    "for ent in doc.ents[:20]:\n",
    "    print (ent.text, ent.label_)"
   ]
  },
  {
   "cell_type": "code",
   "execution_count": 21,
   "id": "ccda2eb4",
   "metadata": {},
   "outputs": [
    {
     "name": "stdout",
     "output_type": "stream",
     "text": [
      "GENDER gender\n",
      "GENDER male\n",
      "GENDER gender\n",
      "GENDER gender\n",
      "GENDER gender\n",
      "GENDER gender\n",
      "GENDER gender\n",
      "GENDER gender\n",
      "GENDER gender\n",
      "GENDER gender\n",
      "GENDER female\n",
      "GENDER gender\n",
      "GENDER gender\n",
      "GENDER gender\n",
      "GENDER gender\n",
      "GENDER gender\n",
      "GENDER gender\n",
      "GENDER gender\n",
      "GENDER gender\n",
      "GENDER gender\n",
      "GENDER gender\n",
      "GENDER gender\n",
      "GENDER gender\n",
      "GENDER gender\n",
      "GENDER gender\n",
      "GENDER gender\n"
     ]
    }
   ],
   "source": [
    "# extract entities if gender\n",
    "for ent in doc.ents[:100]:\n",
    "    if ent.label_ == 'GENDER':\n",
    "        print(ent.label_, ent.text)"
   ]
  },
  {
   "cell_type": "code",
   "execution_count": 29,
   "id": "186ceb07",
   "metadata": {},
   "outputs": [
    {
     "name": "stdout",
     "output_type": "stream",
     "text": [
      "SEX sex\n",
      "SEX sex\n",
      "SEX sex\n",
      "SEX sex\n",
      "SEX biological\n",
      "SEX sex\n",
      "SEX sex\n",
      "SEX sex\n",
      "SEX sex\n",
      "SEX biological\n"
     ]
    }
   ],
   "source": [
    "# extract entities if sex\n",
    "for ent in doc.ents[:300]:\n",
    "    if ent.label_ == 'SEX':\n",
    "        print(ent.label_, ent.text)"
   ]
  },
  {
   "cell_type": "code",
   "execution_count": 27,
   "id": "f375ac1e",
   "metadata": {},
   "outputs": [
    {
     "name": "stdout",
     "output_type": "stream",
     "text": [
      "SEXUALITY orientation\n",
      "SEXUALITY orientation\n",
      "SEXUALITY orientation\n",
      "SEXUALITY orientation\n",
      "SEXUALITY orientation\n",
      "SEXUALITY orientation\n",
      "SEXUALITY orientation\n",
      "SEXUALITY orientation\n",
      "SEXUALITY orientation\n",
      "SEXUALITY orientation\n",
      "SEXUALITY orientation\n"
     ]
    }
   ],
   "source": [
    "# extract entities if sexuality\n",
    "for ent in doc.ents[:500]:\n",
    "    if ent.label_ == 'SEXUALITY':\n",
    "        print(ent.label_, ent.text)"
   ]
  },
  {
   "cell_type": "markdown",
   "id": "ce5cf173",
   "metadata": {},
   "source": [
    "In the next section, we will leverage these entities to write a more sophisticated pattern matcher using the `Matcher` class."
   ]
  }
 ],
 "metadata": {
  "kernelspec": {
   "display_name": "Python 3 (ipykernel)",
   "language": "python",
   "name": "python3"
  },
  "language_info": {
   "codemirror_mode": {
    "name": "ipython",
    "version": 3
   },
   "file_extension": ".py",
   "mimetype": "text/x-python",
   "name": "python",
   "nbconvert_exporter": "python",
   "pygments_lexer": "ipython3",
   "version": "3.11.0"
  }
 },
 "nbformat": 4,
 "nbformat_minor": 5
}
