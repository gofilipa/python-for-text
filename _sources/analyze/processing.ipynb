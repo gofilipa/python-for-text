{
 "cells": [
  {
   "cell_type": "markdown",
   "id": "97cc7068",
   "metadata": {},
   "source": [
    "# the `spaCy` pipeline\n",
    "*Note: Because we are using Python on Google Colab's cloud environment, no installation of Python nor `spaCy` is necessary. But if you're not on Google colab, and using a Python on your local computer (through a distribution like Anaconda), you can follow the instructions to download and install spaCy here: https://spacy.io/usage*\n",
    "\n",
    "The `spaCy` library offers powerful text processing capabilities. It processes text by adding tags, what the library's creators call \"annotations,\" to text. These annotations are filled with [linguistic information](https://spacy.io/usage/spacy-101#features) about each word or bit of punctuation in the text. For example, they can describe parts of speech, grammatical dependency, punctuation, sentence and clause spans, and a lot more. \n",
    "\n",
    "How does `spaCy` know what information to annotate to each piece of text? The program gets this information from a language model, such as `en_core_web_sm`, that you load before you can process the text. This language model is a statistical model that enable `spaCy` to make predictions about a word's part of speech, for example. It has been trained from popular lexical datasets, like Princeton's [WordNet](https://wordnet.princeton.edu/), and also contains information for words, such as their root form, in data files and lookup tables. From this information, the model can make predictions about the linguistic features of new text. \n",
    "\n",
    "For example, if it comes across the word \"trans,\" which can be an adjective, a prefix, or a shortened form of a longer word like \"transgender,\" it will make a guess on how to categorize this particular usage of \"trans\" based on other aspects of the sentence, such as the parts of speech of the other words surrounding it. \n",
    "\n",
    "The code below demonstrates how to import the library, load up the lanugage model, and save it to `nlp()`."
   ]
  },
  {
   "cell_type": "code",
   "execution_count": null,
   "id": "47617602",
   "metadata": {},
   "outputs": [],
   "source": [
    "# importing our spacy library\n",
    "import spacy\n",
    "\n",
    "# loading up the model in english\n",
    "nlp = spacy.load(\"en_core_web_sm\")\n"
   ]
  },
  {
   "cell_type": "markdown",
   "metadata": {},
   "source": [
    "After saving the model to `nlp`, it can be used to process our text. In `spaCy` speak, this is called passing a text through the \"pipeline.\""
   ]
  },
  {
   "cell_type": "code",
   "execution_count": null,
   "metadata": {},
   "outputs": [],
   "source": [
    "# passing a dataset (a sentence, in this case) into the nlp() function\n",
    "doc = nlp(\"My name is Filipa, and I teach workshops about Python programming at Princeton University.\")"
   ]
  },
  {
   "cell_type": "markdown",
   "id": "9dc5a335",
   "metadata": {},
   "source": [
    "## the pipeline\n",
    "So what happens to a text when we process it with the `nlp()` function? It goes through a series of \"pipes\" that separate out the individual words and adds linguistic annotations to each of them. These steps include \"tokenization,\" \"tagging,\" \"parsing,\" and \"named entity recognition.\"\n",
    "\n",
    "We will go through the steps one by one. \n",
    "\n",
    "![image of the pipeline](pipeline.svg)"
   ]
  },
  {
   "cell_type": "markdown",
   "id": "510cf723",
   "metadata": {},
   "source": [
    "# tokenization\n",
    "First in the pipeline is tokenization. This is the separation of our dataset, which is a long list of words within sentences within documents, into individual words or *tokens*. Tokens make data more amenable to counting and other kinds of analysis. Punctuation counts as a token, by the way, an important one!"
   ]
  },
  {
   "cell_type": "code",
   "execution_count": 32,
   "id": "b057078e",
   "metadata": {},
   "outputs": [
    {
     "name": "stdout",
     "output_type": "stream",
     "text": [
      "My\n",
      "my\n",
      "my\n",
      "name\n",
      "name\n",
      "name\n",
      "is\n",
      "is\n",
      "be\n",
      "Filipa\n",
      "filipa\n",
      "Filipa\n",
      ",\n",
      ",\n",
      ",\n",
      "and\n",
      "and\n",
      "and\n",
      "I\n",
      "i\n",
      "I\n",
      "teach\n",
      "teach\n",
      "teach\n",
      "workshops\n",
      "workshops\n",
      "workshop\n",
      "about\n",
      "about\n",
      "about\n",
      "Python\n",
      "python\n",
      "Python\n",
      "programming\n",
      "programming\n",
      "programming\n",
      "at\n",
      "at\n",
      "at\n",
      "Princeton\n",
      "princeton\n",
      "Princeton\n",
      "University\n",
      "university\n",
      "University\n",
      ".\n",
      ".\n",
      ".\n"
     ]
    }
   ],
   "source": [
    "for token in doc:\n",
    "    print(token)\n",
    "    print(token.lower_)\n",
    "    print(token.lemma_)"
   ]
  },
  {
   "cell_type": "markdown",
   "id": "a622763b",
   "metadata": {},
   "source": [
    "## Parts of Speech & Dependency\n",
    "After the tokenizer come the tagger and the parser. For each token in the text, the tagger applies \"parts of speech\" tags (like noun, verb, adverb, preposition, and so on), and the parser derives its grammatical dependency (subject, predicate, object, for example). \n",
    "\n",
    "Some of these annotations might seem excessive, but later on they will become really useful for writing code that selects only specific parts of the text."
   ]
  },
  {
   "cell_type": "code",
   "execution_count": 33,
   "id": "34820a1c",
   "metadata": {},
   "outputs": [
    {
     "name": "stdout",
     "output_type": "stream",
     "text": [
      "My PRON poss\n",
      "name NOUN nsubj\n",
      "is AUX ROOT\n",
      "Filipa PROPN attr\n",
      ", PUNCT punct\n",
      "and CCONJ cc\n",
      "I PRON nsubj\n",
      "teach VERB conj\n",
      "workshops NOUN dobj\n",
      "about ADP prep\n",
      "Python PROPN compound\n",
      "programming NOUN pobj\n",
      "at ADP prep\n",
      "Princeton PROPN compound\n",
      "University PROPN pobj\n",
      ". PUNCT punct\n"
     ]
    }
   ],
   "source": [
    "for token in doc:\n",
    "    # prints the token, part of speech, and grammatical dependency\n",
    "    print(token, token.pos_, token.dep_)\n",
    "    "
   ]
  },
  {
   "cell_type": "code",
   "execution_count": 34,
   "id": "019412bc",
   "metadata": {},
   "outputs": [
    {
     "name": "stdout",
     "output_type": "stream",
     "text": [
      "token: My\n",
      "part of speech: PRON\n",
      "token: name\n",
      "part of speech: NOUN\n",
      "token: is\n",
      "part of speech: AUX\n",
      "token: Filipa\n",
      "part of speech: PROPN\n",
      "token: ,\n",
      "part of speech: PUNCT\n",
      "token: and\n",
      "part of speech: CCONJ\n",
      "token: I\n",
      "part of speech: PRON\n",
      "token: teach\n",
      "part of speech: VERB\n",
      "token: workshops\n",
      "part of speech: NOUN\n",
      "token: about\n",
      "part of speech: ADP\n",
      "token: Python\n",
      "part of speech: PROPN\n",
      "token: programming\n",
      "part of speech: NOUN\n",
      "token: at\n",
      "part of speech: ADP\n",
      "token: Princeton\n",
      "part of speech: PROPN\n",
      "token: University\n",
      "part of speech: PROPN\n",
      "token: .\n",
      "part of speech: PUNCT\n"
     ]
    }
   ],
   "source": [
    "# doing something similar, but using \"f-strings\" to format the \n",
    "# results within strings\n",
    "\n",
    "for token in doc:\n",
    "    print(f'token: {token}')\n",
    "    print(f'part of speech: {token.pos_}')"
   ]
  },
  {
   "cell_type": "markdown",
   "id": "a7cf5d0d",
   "metadata": {},
   "source": [
    "We can also use a module called `displaCy` to visualize these relationships. "
   ]
  },
  {
   "cell_type": "code",
   "execution_count": 35,
   "id": "b2d9a65d",
   "metadata": {},
   "outputs": [
    {
     "data": {
      "text/html": [
       "<span class=\"tex2jax_ignore\"><svg xmlns=\"http://www.w3.org/2000/svg\" xmlns:xlink=\"http://www.w3.org/1999/xlink\" xml:lang=\"en\" id=\"d7495454e7c04b68af4ded9a5a6bf107-0\" class=\"displacy\" width=\"2150\" height=\"362.0\" direction=\"ltr\" style=\"max-width: none; height: 362.0px; color: #000000; background: #ffffff; font-family: Arial; direction: ltr\">\n",
       "<text class=\"displacy-token\" fill=\"currentColor\" text-anchor=\"middle\" y=\"272.0\">\n",
       "    <tspan class=\"displacy-word\" fill=\"currentColor\" x=\"50\">My</tspan>\n",
       "    <tspan class=\"displacy-tag\" dy=\"2em\" fill=\"currentColor\" x=\"50\">PRON</tspan>\n",
       "</text>\n",
       "\n",
       "<text class=\"displacy-token\" fill=\"currentColor\" text-anchor=\"middle\" y=\"272.0\">\n",
       "    <tspan class=\"displacy-word\" fill=\"currentColor\" x=\"200\">name</tspan>\n",
       "    <tspan class=\"displacy-tag\" dy=\"2em\" fill=\"currentColor\" x=\"200\">NOUN</tspan>\n",
       "</text>\n",
       "\n",
       "<text class=\"displacy-token\" fill=\"currentColor\" text-anchor=\"middle\" y=\"272.0\">\n",
       "    <tspan class=\"displacy-word\" fill=\"currentColor\" x=\"350\">is</tspan>\n",
       "    <tspan class=\"displacy-tag\" dy=\"2em\" fill=\"currentColor\" x=\"350\">AUX</tspan>\n",
       "</text>\n",
       "\n",
       "<text class=\"displacy-token\" fill=\"currentColor\" text-anchor=\"middle\" y=\"272.0\">\n",
       "    <tspan class=\"displacy-word\" fill=\"currentColor\" x=\"500\">Filipa,</tspan>\n",
       "    <tspan class=\"displacy-tag\" dy=\"2em\" fill=\"currentColor\" x=\"500\">PROPN</tspan>\n",
       "</text>\n",
       "\n",
       "<text class=\"displacy-token\" fill=\"currentColor\" text-anchor=\"middle\" y=\"272.0\">\n",
       "    <tspan class=\"displacy-word\" fill=\"currentColor\" x=\"650\">and</tspan>\n",
       "    <tspan class=\"displacy-tag\" dy=\"2em\" fill=\"currentColor\" x=\"650\">CCONJ</tspan>\n",
       "</text>\n",
       "\n",
       "<text class=\"displacy-token\" fill=\"currentColor\" text-anchor=\"middle\" y=\"272.0\">\n",
       "    <tspan class=\"displacy-word\" fill=\"currentColor\" x=\"800\">I</tspan>\n",
       "    <tspan class=\"displacy-tag\" dy=\"2em\" fill=\"currentColor\" x=\"800\">PRON</tspan>\n",
       "</text>\n",
       "\n",
       "<text class=\"displacy-token\" fill=\"currentColor\" text-anchor=\"middle\" y=\"272.0\">\n",
       "    <tspan class=\"displacy-word\" fill=\"currentColor\" x=\"950\">teach</tspan>\n",
       "    <tspan class=\"displacy-tag\" dy=\"2em\" fill=\"currentColor\" x=\"950\">VERB</tspan>\n",
       "</text>\n",
       "\n",
       "<text class=\"displacy-token\" fill=\"currentColor\" text-anchor=\"middle\" y=\"272.0\">\n",
       "    <tspan class=\"displacy-word\" fill=\"currentColor\" x=\"1100\">workshops</tspan>\n",
       "    <tspan class=\"displacy-tag\" dy=\"2em\" fill=\"currentColor\" x=\"1100\">NOUN</tspan>\n",
       "</text>\n",
       "\n",
       "<text class=\"displacy-token\" fill=\"currentColor\" text-anchor=\"middle\" y=\"272.0\">\n",
       "    <tspan class=\"displacy-word\" fill=\"currentColor\" x=\"1250\">about</tspan>\n",
       "    <tspan class=\"displacy-tag\" dy=\"2em\" fill=\"currentColor\" x=\"1250\">ADP</tspan>\n",
       "</text>\n",
       "\n",
       "<text class=\"displacy-token\" fill=\"currentColor\" text-anchor=\"middle\" y=\"272.0\">\n",
       "    <tspan class=\"displacy-word\" fill=\"currentColor\" x=\"1400\">Python</tspan>\n",
       "    <tspan class=\"displacy-tag\" dy=\"2em\" fill=\"currentColor\" x=\"1400\">PROPN</tspan>\n",
       "</text>\n",
       "\n",
       "<text class=\"displacy-token\" fill=\"currentColor\" text-anchor=\"middle\" y=\"272.0\">\n",
       "    <tspan class=\"displacy-word\" fill=\"currentColor\" x=\"1550\">programming</tspan>\n",
       "    <tspan class=\"displacy-tag\" dy=\"2em\" fill=\"currentColor\" x=\"1550\">NOUN</tspan>\n",
       "</text>\n",
       "\n",
       "<text class=\"displacy-token\" fill=\"currentColor\" text-anchor=\"middle\" y=\"272.0\">\n",
       "    <tspan class=\"displacy-word\" fill=\"currentColor\" x=\"1700\">at</tspan>\n",
       "    <tspan class=\"displacy-tag\" dy=\"2em\" fill=\"currentColor\" x=\"1700\">ADP</tspan>\n",
       "</text>\n",
       "\n",
       "<text class=\"displacy-token\" fill=\"currentColor\" text-anchor=\"middle\" y=\"272.0\">\n",
       "    <tspan class=\"displacy-word\" fill=\"currentColor\" x=\"1850\">Princeton</tspan>\n",
       "    <tspan class=\"displacy-tag\" dy=\"2em\" fill=\"currentColor\" x=\"1850\">PROPN</tspan>\n",
       "</text>\n",
       "\n",
       "<text class=\"displacy-token\" fill=\"currentColor\" text-anchor=\"middle\" y=\"272.0\">\n",
       "    <tspan class=\"displacy-word\" fill=\"currentColor\" x=\"2000\">University.</tspan>\n",
       "    <tspan class=\"displacy-tag\" dy=\"2em\" fill=\"currentColor\" x=\"2000\">PROPN</tspan>\n",
       "</text>\n",
       "\n",
       "<g class=\"displacy-arrow\">\n",
       "    <path class=\"displacy-arc\" id=\"arrow-d7495454e7c04b68af4ded9a5a6bf107-0-0\" stroke-width=\"2px\" d=\"M62,227.0 62,202.0 194.0,202.0 194.0,227.0\" fill=\"none\" stroke=\"currentColor\"/>\n",
       "    <text dy=\"1.25em\" style=\"font-size: 0.8em; letter-spacing: 1px\">\n",
       "        <textPath xlink:href=\"#arrow-d7495454e7c04b68af4ded9a5a6bf107-0-0\" class=\"displacy-label\" startOffset=\"50%\" side=\"left\" fill=\"currentColor\" text-anchor=\"middle\">poss</textPath>\n",
       "    </text>\n",
       "    <path class=\"displacy-arrowhead\" d=\"M62,229.0 L58,221.0 66,221.0\" fill=\"currentColor\"/>\n",
       "</g>\n",
       "\n",
       "<g class=\"displacy-arrow\">\n",
       "    <path class=\"displacy-arc\" id=\"arrow-d7495454e7c04b68af4ded9a5a6bf107-0-1\" stroke-width=\"2px\" d=\"M212,227.0 212,202.0 344.0,202.0 344.0,227.0\" fill=\"none\" stroke=\"currentColor\"/>\n",
       "    <text dy=\"1.25em\" style=\"font-size: 0.8em; letter-spacing: 1px\">\n",
       "        <textPath xlink:href=\"#arrow-d7495454e7c04b68af4ded9a5a6bf107-0-1\" class=\"displacy-label\" startOffset=\"50%\" side=\"left\" fill=\"currentColor\" text-anchor=\"middle\">nsubj</textPath>\n",
       "    </text>\n",
       "    <path class=\"displacy-arrowhead\" d=\"M212,229.0 L208,221.0 216,221.0\" fill=\"currentColor\"/>\n",
       "</g>\n",
       "\n",
       "<g class=\"displacy-arrow\">\n",
       "    <path class=\"displacy-arc\" id=\"arrow-d7495454e7c04b68af4ded9a5a6bf107-0-2\" stroke-width=\"2px\" d=\"M362,227.0 362,202.0 494.0,202.0 494.0,227.0\" fill=\"none\" stroke=\"currentColor\"/>\n",
       "    <text dy=\"1.25em\" style=\"font-size: 0.8em; letter-spacing: 1px\">\n",
       "        <textPath xlink:href=\"#arrow-d7495454e7c04b68af4ded9a5a6bf107-0-2\" class=\"displacy-label\" startOffset=\"50%\" side=\"left\" fill=\"currentColor\" text-anchor=\"middle\">attr</textPath>\n",
       "    </text>\n",
       "    <path class=\"displacy-arrowhead\" d=\"M494.0,229.0 L498.0,221.0 490.0,221.0\" fill=\"currentColor\"/>\n",
       "</g>\n",
       "\n",
       "<g class=\"displacy-arrow\">\n",
       "    <path class=\"displacy-arc\" id=\"arrow-d7495454e7c04b68af4ded9a5a6bf107-0-3\" stroke-width=\"2px\" d=\"M362,227.0 362,177.0 647.0,177.0 647.0,227.0\" fill=\"none\" stroke=\"currentColor\"/>\n",
       "    <text dy=\"1.25em\" style=\"font-size: 0.8em; letter-spacing: 1px\">\n",
       "        <textPath xlink:href=\"#arrow-d7495454e7c04b68af4ded9a5a6bf107-0-3\" class=\"displacy-label\" startOffset=\"50%\" side=\"left\" fill=\"currentColor\" text-anchor=\"middle\">cc</textPath>\n",
       "    </text>\n",
       "    <path class=\"displacy-arrowhead\" d=\"M647.0,229.0 L651.0,221.0 643.0,221.0\" fill=\"currentColor\"/>\n",
       "</g>\n",
       "\n",
       "<g class=\"displacy-arrow\">\n",
       "    <path class=\"displacy-arc\" id=\"arrow-d7495454e7c04b68af4ded9a5a6bf107-0-4\" stroke-width=\"2px\" d=\"M812,227.0 812,202.0 944.0,202.0 944.0,227.0\" fill=\"none\" stroke=\"currentColor\"/>\n",
       "    <text dy=\"1.25em\" style=\"font-size: 0.8em; letter-spacing: 1px\">\n",
       "        <textPath xlink:href=\"#arrow-d7495454e7c04b68af4ded9a5a6bf107-0-4\" class=\"displacy-label\" startOffset=\"50%\" side=\"left\" fill=\"currentColor\" text-anchor=\"middle\">nsubj</textPath>\n",
       "    </text>\n",
       "    <path class=\"displacy-arrowhead\" d=\"M812,229.0 L808,221.0 816,221.0\" fill=\"currentColor\"/>\n",
       "</g>\n",
       "\n",
       "<g class=\"displacy-arrow\">\n",
       "    <path class=\"displacy-arc\" id=\"arrow-d7495454e7c04b68af4ded9a5a6bf107-0-5\" stroke-width=\"2px\" d=\"M362,227.0 362,152.0 950.0,152.0 950.0,227.0\" fill=\"none\" stroke=\"currentColor\"/>\n",
       "    <text dy=\"1.25em\" style=\"font-size: 0.8em; letter-spacing: 1px\">\n",
       "        <textPath xlink:href=\"#arrow-d7495454e7c04b68af4ded9a5a6bf107-0-5\" class=\"displacy-label\" startOffset=\"50%\" side=\"left\" fill=\"currentColor\" text-anchor=\"middle\">conj</textPath>\n",
       "    </text>\n",
       "    <path class=\"displacy-arrowhead\" d=\"M950.0,229.0 L954.0,221.0 946.0,221.0\" fill=\"currentColor\"/>\n",
       "</g>\n",
       "\n",
       "<g class=\"displacy-arrow\">\n",
       "    <path class=\"displacy-arc\" id=\"arrow-d7495454e7c04b68af4ded9a5a6bf107-0-6\" stroke-width=\"2px\" d=\"M962,227.0 962,202.0 1094.0,202.0 1094.0,227.0\" fill=\"none\" stroke=\"currentColor\"/>\n",
       "    <text dy=\"1.25em\" style=\"font-size: 0.8em; letter-spacing: 1px\">\n",
       "        <textPath xlink:href=\"#arrow-d7495454e7c04b68af4ded9a5a6bf107-0-6\" class=\"displacy-label\" startOffset=\"50%\" side=\"left\" fill=\"currentColor\" text-anchor=\"middle\">dobj</textPath>\n",
       "    </text>\n",
       "    <path class=\"displacy-arrowhead\" d=\"M1094.0,229.0 L1098.0,221.0 1090.0,221.0\" fill=\"currentColor\"/>\n",
       "</g>\n",
       "\n",
       "<g class=\"displacy-arrow\">\n",
       "    <path class=\"displacy-arc\" id=\"arrow-d7495454e7c04b68af4ded9a5a6bf107-0-7\" stroke-width=\"2px\" d=\"M1112,227.0 1112,202.0 1244.0,202.0 1244.0,227.0\" fill=\"none\" stroke=\"currentColor\"/>\n",
       "    <text dy=\"1.25em\" style=\"font-size: 0.8em; letter-spacing: 1px\">\n",
       "        <textPath xlink:href=\"#arrow-d7495454e7c04b68af4ded9a5a6bf107-0-7\" class=\"displacy-label\" startOffset=\"50%\" side=\"left\" fill=\"currentColor\" text-anchor=\"middle\">prep</textPath>\n",
       "    </text>\n",
       "    <path class=\"displacy-arrowhead\" d=\"M1244.0,229.0 L1248.0,221.0 1240.0,221.0\" fill=\"currentColor\"/>\n",
       "</g>\n",
       "\n",
       "<g class=\"displacy-arrow\">\n",
       "    <path class=\"displacy-arc\" id=\"arrow-d7495454e7c04b68af4ded9a5a6bf107-0-8\" stroke-width=\"2px\" d=\"M1412,227.0 1412,202.0 1544.0,202.0 1544.0,227.0\" fill=\"none\" stroke=\"currentColor\"/>\n",
       "    <text dy=\"1.25em\" style=\"font-size: 0.8em; letter-spacing: 1px\">\n",
       "        <textPath xlink:href=\"#arrow-d7495454e7c04b68af4ded9a5a6bf107-0-8\" class=\"displacy-label\" startOffset=\"50%\" side=\"left\" fill=\"currentColor\" text-anchor=\"middle\">compound</textPath>\n",
       "    </text>\n",
       "    <path class=\"displacy-arrowhead\" d=\"M1412,229.0 L1408,221.0 1416,221.0\" fill=\"currentColor\"/>\n",
       "</g>\n",
       "\n",
       "<g class=\"displacy-arrow\">\n",
       "    <path class=\"displacy-arc\" id=\"arrow-d7495454e7c04b68af4ded9a5a6bf107-0-9\" stroke-width=\"2px\" d=\"M1262,227.0 1262,177.0 1547.0,177.0 1547.0,227.0\" fill=\"none\" stroke=\"currentColor\"/>\n",
       "    <text dy=\"1.25em\" style=\"font-size: 0.8em; letter-spacing: 1px\">\n",
       "        <textPath xlink:href=\"#arrow-d7495454e7c04b68af4ded9a5a6bf107-0-9\" class=\"displacy-label\" startOffset=\"50%\" side=\"left\" fill=\"currentColor\" text-anchor=\"middle\">pobj</textPath>\n",
       "    </text>\n",
       "    <path class=\"displacy-arrowhead\" d=\"M1547.0,229.0 L1551.0,221.0 1543.0,221.0\" fill=\"currentColor\"/>\n",
       "</g>\n",
       "\n",
       "<g class=\"displacy-arrow\">\n",
       "    <path class=\"displacy-arc\" id=\"arrow-d7495454e7c04b68af4ded9a5a6bf107-0-10\" stroke-width=\"2px\" d=\"M1562,227.0 1562,202.0 1694.0,202.0 1694.0,227.0\" fill=\"none\" stroke=\"currentColor\"/>\n",
       "    <text dy=\"1.25em\" style=\"font-size: 0.8em; letter-spacing: 1px\">\n",
       "        <textPath xlink:href=\"#arrow-d7495454e7c04b68af4ded9a5a6bf107-0-10\" class=\"displacy-label\" startOffset=\"50%\" side=\"left\" fill=\"currentColor\" text-anchor=\"middle\">prep</textPath>\n",
       "    </text>\n",
       "    <path class=\"displacy-arrowhead\" d=\"M1694.0,229.0 L1698.0,221.0 1690.0,221.0\" fill=\"currentColor\"/>\n",
       "</g>\n",
       "\n",
       "<g class=\"displacy-arrow\">\n",
       "    <path class=\"displacy-arc\" id=\"arrow-d7495454e7c04b68af4ded9a5a6bf107-0-11\" stroke-width=\"2px\" d=\"M1862,227.0 1862,202.0 1994.0,202.0 1994.0,227.0\" fill=\"none\" stroke=\"currentColor\"/>\n",
       "    <text dy=\"1.25em\" style=\"font-size: 0.8em; letter-spacing: 1px\">\n",
       "        <textPath xlink:href=\"#arrow-d7495454e7c04b68af4ded9a5a6bf107-0-11\" class=\"displacy-label\" startOffset=\"50%\" side=\"left\" fill=\"currentColor\" text-anchor=\"middle\">compound</textPath>\n",
       "    </text>\n",
       "    <path class=\"displacy-arrowhead\" d=\"M1862,229.0 L1858,221.0 1866,221.0\" fill=\"currentColor\"/>\n",
       "</g>\n",
       "\n",
       "<g class=\"displacy-arrow\">\n",
       "    <path class=\"displacy-arc\" id=\"arrow-d7495454e7c04b68af4ded9a5a6bf107-0-12\" stroke-width=\"2px\" d=\"M1712,227.0 1712,177.0 1997.0,177.0 1997.0,227.0\" fill=\"none\" stroke=\"currentColor\"/>\n",
       "    <text dy=\"1.25em\" style=\"font-size: 0.8em; letter-spacing: 1px\">\n",
       "        <textPath xlink:href=\"#arrow-d7495454e7c04b68af4ded9a5a6bf107-0-12\" class=\"displacy-label\" startOffset=\"50%\" side=\"left\" fill=\"currentColor\" text-anchor=\"middle\">pobj</textPath>\n",
       "    </text>\n",
       "    <path class=\"displacy-arrowhead\" d=\"M1997.0,229.0 L2001.0,221.0 1993.0,221.0\" fill=\"currentColor\"/>\n",
       "</g>\n",
       "</svg></span>"
      ],
      "text/plain": [
       "<IPython.core.display.HTML object>"
      ]
     },
     "metadata": {},
     "output_type": "display_data"
    }
   ],
   "source": [
    "from spacy import displacy\n",
    "displacy.render(doc, style=\"dep\", options={\"compact\":True})"
   ]
  },
  {
   "cell_type": "markdown",
   "id": "020da992",
   "metadata": {},
   "source": [
    "## Named Entity Recognition (NER)\n",
    "\n",
    "Named Entity Recognition, or NER, annotates words that seem to indicate real-world objects, people, or concepts--\"entities,\" in other words. Entities include names of persons, places, titles, monetary and other values, times, and dates. \n",
    "\n",
    "NER is based on predictions made from the underlying model, `en_core_web_sm`.\n",
    "\n"
   ]
  },
  {
   "cell_type": "code",
   "execution_count": 37,
   "id": "c10ad1ef",
   "metadata": {},
   "outputs": [
    {
     "name": "stdout",
     "output_type": "stream",
     "text": [
      "Filipa PERSON\n",
      "Princeton University ORG\n"
     ]
    }
   ],
   "source": [
    "# we use doc.ents to access the entities, and label_ to get their label\n",
    "for ent in doc.ents:\n",
    "    print(ent, ent.label_)"
   ]
  },
  {
   "cell_type": "code",
   "execution_count": 39,
   "id": "e740420f",
   "metadata": {},
   "outputs": [
    {
     "data": {
      "text/html": [
       "<span class=\"tex2jax_ignore\"><div class=\"entities\" style=\"line-height: 2.5; direction: ltr\">My name is \n",
       "<mark class=\"entity\" style=\"background: #aa9cfc; padding: 0.45em 0.6em; margin: 0 0.25em; line-height: 1; border-radius: 0.35em;\">\n",
       "    Filipa\n",
       "    <span style=\"font-size: 0.8em; font-weight: bold; line-height: 1; border-radius: 0.35em; vertical-align: middle; margin-left: 0.5rem\">PERSON</span>\n",
       "</mark>\n",
       ", and I teach workshops about Python programming at \n",
       "<mark class=\"entity\" style=\"background: #7aecec; padding: 0.45em 0.6em; margin: 0 0.25em; line-height: 1; border-radius: 0.35em;\">\n",
       "    Princeton University\n",
       "    <span style=\"font-size: 0.8em; font-weight: bold; line-height: 1; border-radius: 0.35em; vertical-align: middle; margin-left: 0.5rem\">ORG</span>\n",
       "</mark>\n",
       ".</div></span>"
      ],
      "text/plain": [
       "<IPython.core.display.HTML object>"
      ]
     },
     "metadata": {},
     "output_type": "display_data"
    }
   ],
   "source": [
    "# we can also use displacy to visualize the entites in context\n",
    "\n",
    "displacy.render(doc, style=\"ent\")"
   ]
  },
  {
   "cell_type": "markdown",
   "id": "7794f90a",
   "metadata": {},
   "source": [
    "## the `Doc` object\n",
    "At the end of the pipeline, we are left with the `Doc` object, which contains all of the annotations on our text, including POS, Dependency, and NER. \n",
    "\n",
    "In the next sections, I will show you how we can leverage these annotations to search for specific patterns in the text."
   ]
  }
 ],
 "metadata": {
  "kernelspec": {
   "display_name": "Python 3 (ipykernel)",
   "language": "python",
   "name": "python3"
  },
  "language_info": {
   "codemirror_mode": {
    "name": "ipython",
    "version": 3
   },
   "file_extension": ".py",
   "mimetype": "text/x-python",
   "name": "python",
   "nbconvert_exporter": "python",
   "pygments_lexer": "ipython3",
   "version": "3.11.0"
  }
 },
 "nbformat": 4,
 "nbformat_minor": 5
}
